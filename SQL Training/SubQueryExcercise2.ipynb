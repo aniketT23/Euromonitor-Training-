{
    "metadata": {
        "kernelspec": {
            "name": "SQL",
            "display_name": "SQL",
            "language": "sql"
        },
        "language_info": {
            "name": "sql",
            "version": ""
        }
    },
    "nbformat_minor": 2,
    "nbformat": 4,
    "cells": [
        {
            "cell_type": "code",
            "source": [
                "--Query 1\r\n",
                "\r\n",
                "select first_name,LAST_NAME,SALARY,DEPARTMENT_ID,JOB_ID from employees1 where JOB_ID in\r\n",
                "(select JOB_ID from employees1 where JOB_ID='SA_REP');"
            ],
            "metadata": {
                "azdata_cell_guid": "c0986724-0c5e-48f6-b6ef-29531cc4201b",
                "language": "sql"
            },
            "outputs": [
                {
                    "output_type": "display_data",
                    "data": {
                        "text/html": "(30 rows affected)"
                    },
                    "metadata": {}
                },
                {
                    "output_type": "display_data",
                    "data": {
                        "text/html": "Total execution time: 00:00:00.054"
                    },
                    "metadata": {}
                },
                {
                    "output_type": "execute_result",
                    "metadata": {},
                    "execution_count": 1,
                    "data": {
                        "application/vnd.dataresource+json": {
                            "schema": {
                                "fields": [
                                    {
                                        "name": "first_name"
                                    },
                                    {
                                        "name": "LAST_NAME"
                                    },
                                    {
                                        "name": "SALARY"
                                    },
                                    {
                                        "name": "DEPARTMENT_ID"
                                    },
                                    {
                                        "name": "JOB_ID"
                                    }
                                ]
                            },
                            "data": [
                                {
                                    "0": "Peter",
                                    "1": "Tucker",
                                    "2": "10000.00",
                                    "3": "80",
                                    "4": "SA_REP"
                                },
                                {
                                    "0": "David",
                                    "1": "Bernstein",
                                    "2": "9500.00",
                                    "3": "80",
                                    "4": "SA_REP"
                                },
                                {
                                    "0": "Peter",
                                    "1": "Hall",
                                    "2": "9000.00",
                                    "3": "80",
                                    "4": "SA_REP"
                                },
                                {
                                    "0": "Christopher",
                                    "1": "Olsen",
                                    "2": "8000.00",
                                    "3": "80",
                                    "4": "SA_REP"
                                },
                                {
                                    "0": "Nanette",
                                    "1": "Cambrault",
                                    "2": "7500.00",
                                    "3": "80",
                                    "4": "SA_REP"
                                },
                                {
                                    "0": "Oliver",
                                    "1": "Tuvault",
                                    "2": "7000.00",
                                    "3": "80",
                                    "4": "SA_REP"
                                },
                                {
                                    "0": "Janette",
                                    "1": "King",
                                    "2": "10000.00",
                                    "3": "80",
                                    "4": "SA_REP"
                                },
                                {
                                    "0": "Patrick",
                                    "1": "Sully",
                                    "2": "9500.00",
                                    "3": "80",
                                    "4": "SA_REP"
                                },
                                {
                                    "0": "Allan",
                                    "1": "McEwen",
                                    "2": "9000.00",
                                    "3": "80",
                                    "4": "SA_REP"
                                },
                                {
                                    "0": "Lindsey",
                                    "1": "Smith",
                                    "2": "8000.00",
                                    "3": "80",
                                    "4": "SA_REP"
                                },
                                {
                                    "0": "Louise",
                                    "1": "Doran",
                                    "2": "7500.00",
                                    "3": "80",
                                    "4": "SA_REP"
                                },
                                {
                                    "0": "Sarath",
                                    "1": "Sewall",
                                    "2": "7000.00",
                                    "3": "80",
                                    "4": "SA_REP"
                                },
                                {
                                    "0": "Clara",
                                    "1": "Vishney",
                                    "2": "10500.00",
                                    "3": "80",
                                    "4": "SA_REP"
                                },
                                {
                                    "0": "Danielle",
                                    "1": "Greene",
                                    "2": "9500.00",
                                    "3": "80",
                                    "4": "SA_REP"
                                },
                                {
                                    "0": "Mattea",
                                    "1": "Marvins",
                                    "2": "7200.00",
                                    "3": "80",
                                    "4": "SA_REP"
                                },
                                {
                                    "0": "David",
                                    "1": "Lee",
                                    "2": "6800.00",
                                    "3": "80",
                                    "4": "SA_REP"
                                },
                                {
                                    "0": "Sundar",
                                    "1": "Ande",
                                    "2": "6400.00",
                                    "3": "80",
                                    "4": "SA_REP"
                                },
                                {
                                    "0": "Amit",
                                    "1": "Banda",
                                    "2": "6200.00",
                                    "3": "80",
                                    "4": "SA_REP"
                                },
                                {
                                    "0": "Lisa",
                                    "1": "Ozer",
                                    "2": "11500.00",
                                    "3": "80",
                                    "4": "SA_REP"
                                },
                                {
                                    "0": "Harrison",
                                    "1": "Bloom",
                                    "2": "10000.00",
                                    "3": "80",
                                    "4": "SA_REP"
                                },
                                {
                                    "0": "Tayler",
                                    "1": "Fox",
                                    "2": "9600.00",
                                    "3": "80",
                                    "4": "SA_REP"
                                },
                                {
                                    "0": "William",
                                    "1": "Smith",
                                    "2": "7400.00",
                                    "3": "80",
                                    "4": "SA_REP"
                                },
                                {
                                    "0": "Elizabeth",
                                    "1": "Bates",
                                    "2": "7300.00",
                                    "3": "80",
                                    "4": "SA_REP"
                                },
                                {
                                    "0": "Sundita",
                                    "1": "Kumar",
                                    "2": "6100.00",
                                    "3": "80",
                                    "4": "SA_REP"
                                },
                                {
                                    "0": "Ellen",
                                    "1": "Abel",
                                    "2": "11000.00",
                                    "3": "80",
                                    "4": "SA_REP"
                                },
                                {
                                    "0": "Alyssa",
                                    "1": "Hutton",
                                    "2": "8800.00",
                                    "3": "80",
                                    "4": "SA_REP"
                                },
                                {
                                    "0": "Jonathon",
                                    "1": "Taylor",
                                    "2": "8600.00",
                                    "3": "80",
                                    "4": "SA_REP"
                                },
                                {
                                    "0": "Jack",
                                    "1": "Livingston",
                                    "2": "8400.00",
                                    "3": "80",
                                    "4": "SA_REP"
                                },
                                {
                                    "0": "Kimberely",
                                    "1": "Grant",
                                    "2": "7000.00",
                                    "3": "0",
                                    "4": "SA_REP"
                                },
                                {
                                    "0": "Charles",
                                    "1": "Johnson",
                                    "2": "6200.00",
                                    "3": "80",
                                    "4": "SA_REP"
                                }
                            ]
                        },
                        "text/html": [
                            "<table>",
                            "<tr><th>first_name</th><th>LAST_NAME</th><th>SALARY</th><th>DEPARTMENT_ID</th><th>JOB_ID</th></tr>",
                            "<tr><td>Peter</td><td>Tucker</td><td>10000.00</td><td>80</td><td>SA_REP</td></tr>",
                            "<tr><td>David</td><td>Bernstein</td><td>9500.00</td><td>80</td><td>SA_REP</td></tr>",
                            "<tr><td>Peter</td><td>Hall</td><td>9000.00</td><td>80</td><td>SA_REP</td></tr>",
                            "<tr><td>Christopher</td><td>Olsen</td><td>8000.00</td><td>80</td><td>SA_REP</td></tr>",
                            "<tr><td>Nanette</td><td>Cambrault</td><td>7500.00</td><td>80</td><td>SA_REP</td></tr>",
                            "<tr><td>Oliver</td><td>Tuvault</td><td>7000.00</td><td>80</td><td>SA_REP</td></tr>",
                            "<tr><td>Janette</td><td>King</td><td>10000.00</td><td>80</td><td>SA_REP</td></tr>",
                            "<tr><td>Patrick</td><td>Sully</td><td>9500.00</td><td>80</td><td>SA_REP</td></tr>",
                            "<tr><td>Allan</td><td>McEwen</td><td>9000.00</td><td>80</td><td>SA_REP</td></tr>",
                            "<tr><td>Lindsey</td><td>Smith</td><td>8000.00</td><td>80</td><td>SA_REP</td></tr>",
                            "<tr><td>Louise</td><td>Doran</td><td>7500.00</td><td>80</td><td>SA_REP</td></tr>",
                            "<tr><td>Sarath</td><td>Sewall</td><td>7000.00</td><td>80</td><td>SA_REP</td></tr>",
                            "<tr><td>Clara</td><td>Vishney</td><td>10500.00</td><td>80</td><td>SA_REP</td></tr>",
                            "<tr><td>Danielle</td><td>Greene</td><td>9500.00</td><td>80</td><td>SA_REP</td></tr>",
                            "<tr><td>Mattea</td><td>Marvins</td><td>7200.00</td><td>80</td><td>SA_REP</td></tr>",
                            "<tr><td>David</td><td>Lee</td><td>6800.00</td><td>80</td><td>SA_REP</td></tr>",
                            "<tr><td>Sundar</td><td>Ande</td><td>6400.00</td><td>80</td><td>SA_REP</td></tr>",
                            "<tr><td>Amit</td><td>Banda</td><td>6200.00</td><td>80</td><td>SA_REP</td></tr>",
                            "<tr><td>Lisa</td><td>Ozer</td><td>11500.00</td><td>80</td><td>SA_REP</td></tr>",
                            "<tr><td>Harrison</td><td>Bloom</td><td>10000.00</td><td>80</td><td>SA_REP</td></tr>",
                            "<tr><td>Tayler</td><td>Fox</td><td>9600.00</td><td>80</td><td>SA_REP</td></tr>",
                            "<tr><td>William</td><td>Smith</td><td>7400.00</td><td>80</td><td>SA_REP</td></tr>",
                            "<tr><td>Elizabeth</td><td>Bates</td><td>7300.00</td><td>80</td><td>SA_REP</td></tr>",
                            "<tr><td>Sundita</td><td>Kumar</td><td>6100.00</td><td>80</td><td>SA_REP</td></tr>",
                            "<tr><td>Ellen</td><td>Abel</td><td>11000.00</td><td>80</td><td>SA_REP</td></tr>",
                            "<tr><td>Alyssa</td><td>Hutton</td><td>8800.00</td><td>80</td><td>SA_REP</td></tr>",
                            "<tr><td>Jonathon</td><td>Taylor</td><td>8600.00</td><td>80</td><td>SA_REP</td></tr>",
                            "<tr><td>Jack</td><td>Livingston</td><td>8400.00</td><td>80</td><td>SA_REP</td></tr>",
                            "<tr><td>Kimberely</td><td>Grant</td><td>7000.00</td><td>0</td><td>SA_REP</td></tr>",
                            "<tr><td>Charles</td><td>Johnson</td><td>6200.00</td><td>80</td><td>SA_REP</td></tr>",
                            "</table>"
                        ]
                    }
                }
            ],
            "execution_count": 1
        },
        {
            "cell_type": "code",
            "source": [
                "--Query 2\r\n",
                "\r\n",
                "select FIRST_NAME,LAST_NAME, EMPLOYEE_ID, SALARY from employees1 where MANAGER_ID in (select MANAGER_ID from employees1 where MANAGER_ID=122);"
            ],
            "metadata": {
                "language": "sql",
                "azdata_cell_guid": "92891339-5e9c-4538-95a0-4d9aeaf8104f"
            },
            "outputs": [
                {
                    "output_type": "display_data",
                    "data": {
                        "text/html": "(8 rows affected)"
                    },
                    "metadata": {}
                },
                {
                    "output_type": "display_data",
                    "data": {
                        "text/html": "Total execution time: 00:00:00.012"
                    },
                    "metadata": {}
                },
                {
                    "output_type": "execute_result",
                    "metadata": {},
                    "execution_count": 2,
                    "data": {
                        "application/vnd.dataresource+json": {
                            "schema": {
                                "fields": [
                                    {
                                        "name": "FIRST_NAME"
                                    },
                                    {
                                        "name": "LAST_NAME"
                                    },
                                    {
                                        "name": "EMPLOYEE_ID"
                                    },
                                    {
                                        "name": "SALARY"
                                    }
                                ]
                            },
                            "data": [
                                {
                                    "0": "Jason",
                                    "1": "Mallin",
                                    "2": "133",
                                    "3": "3300.00"
                                },
                                {
                                    "0": "Michael",
                                    "1": "Rogers",
                                    "2": "134",
                                    "3": "2900.00"
                                },
                                {
                                    "0": "Ki",
                                    "1": "Gee",
                                    "2": "135",
                                    "3": "2400.00"
                                },
                                {
                                    "0": "Hazel",
                                    "1": "Philtanker",
                                    "2": "136",
                                    "3": "2200.00"
                                },
                                {
                                    "0": "Kelly",
                                    "1": "Chung",
                                    "2": "188",
                                    "3": "3800.00"
                                },
                                {
                                    "0": "Jennifer",
                                    "1": "Dilly",
                                    "2": "189",
                                    "3": "3600.00"
                                },
                                {
                                    "0": "Timothy",
                                    "1": "Gates",
                                    "2": "190",
                                    "3": "2900.00"
                                },
                                {
                                    "0": "Randall",
                                    "1": "Perkins",
                                    "2": "191",
                                    "3": "2500.00"
                                }
                            ]
                        },
                        "text/html": [
                            "<table>",
                            "<tr><th>FIRST_NAME</th><th>LAST_NAME</th><th>EMPLOYEE_ID</th><th>SALARY</th></tr>",
                            "<tr><td>Jason</td><td>Mallin</td><td>133</td><td>3300.00</td></tr>",
                            "<tr><td>Michael</td><td>Rogers</td><td>134</td><td>2900.00</td></tr>",
                            "<tr><td>Ki</td><td>Gee</td><td>135</td><td>2400.00</td></tr>",
                            "<tr><td>Hazel</td><td>Philtanker</td><td>136</td><td>2200.00</td></tr>",
                            "<tr><td>Kelly</td><td>Chung</td><td>188</td><td>3800.00</td></tr>",
                            "<tr><td>Jennifer</td><td>Dilly</td><td>189</td><td>3600.00</td></tr>",
                            "<tr><td>Timothy</td><td>Gates</td><td>190</td><td>2900.00</td></tr>",
                            "<tr><td>Randall</td><td>Perkins</td><td>191</td><td>2500.00</td></tr>",
                            "</table>"
                        ]
                    }
                }
            ],
            "execution_count": 2
        },
        {
            "cell_type": "code",
            "source": [
                "--Query 3\r\n",
                "\r\n",
                "select FIRST_NAME,LAST_NAME,HIRE_DATE from employees1 where HIRE_DATE  between '08/01/1987' and '08/31/1987';"
            ],
            "metadata": {
                "azdata_cell_guid": "4ea777c7-7c36-48cb-bfb5-ab9f13dce1d6",
                "language": "sql"
            },
            "outputs": [
                {
                    "output_type": "display_data",
                    "data": {
                        "text/html": "(31 rows affected)"
                    },
                    "metadata": {}
                },
                {
                    "output_type": "display_data",
                    "data": {
                        "text/html": "Total execution time: 00:00:00.017"
                    },
                    "metadata": {}
                },
                {
                    "output_type": "execute_result",
                    "metadata": {},
                    "execution_count": 3,
                    "data": {
                        "application/vnd.dataresource+json": {
                            "schema": {
                                "fields": [
                                    {
                                        "name": "FIRST_NAME"
                                    },
                                    {
                                        "name": "LAST_NAME"
                                    },
                                    {
                                        "name": "HIRE_DATE"
                                    }
                                ]
                            },
                            "data": [
                                {
                                    "0": "John",
                                    "1": "Russell",
                                    "2": "1987-08-01"
                                },
                                {
                                    "0": "Karen",
                                    "1": "Partners",
                                    "2": "1987-08-02"
                                },
                                {
                                    "0": "Alberto",
                                    "1": "Errazuriz",
                                    "2": "1987-08-03"
                                },
                                {
                                    "0": "Gerald",
                                    "1": "Cambrault",
                                    "2": "1987-08-04"
                                },
                                {
                                    "0": "Eleni",
                                    "1": "Zlotkey",
                                    "2": "1987-08-05"
                                },
                                {
                                    "0": "Peter",
                                    "1": "Tucker",
                                    "2": "1987-08-06"
                                },
                                {
                                    "0": "David",
                                    "1": "Bernstein",
                                    "2": "1987-08-07"
                                },
                                {
                                    "0": "Peter",
                                    "1": "Hall",
                                    "2": "1987-08-08"
                                },
                                {
                                    "0": "Christopher",
                                    "1": "Olsen",
                                    "2": "1987-08-09"
                                },
                                {
                                    "0": "Nanette",
                                    "1": "Cambrault",
                                    "2": "1987-08-10"
                                },
                                {
                                    "0": "Oliver",
                                    "1": "Tuvault",
                                    "2": "1987-08-11"
                                },
                                {
                                    "0": "Janette",
                                    "1": "King",
                                    "2": "1987-08-12"
                                },
                                {
                                    "0": "Patrick",
                                    "1": "Sully",
                                    "2": "1987-08-13"
                                },
                                {
                                    "0": "Allan",
                                    "1": "McEwen",
                                    "2": "1987-08-14"
                                },
                                {
                                    "0": "Lindsey",
                                    "1": "Smith",
                                    "2": "1987-08-15"
                                },
                                {
                                    "0": "Louise",
                                    "1": "Doran",
                                    "2": "1987-08-16"
                                },
                                {
                                    "0": "Sarath",
                                    "1": "Sewall",
                                    "2": "1987-08-17"
                                },
                                {
                                    "0": "Clara",
                                    "1": "Vishney",
                                    "2": "1987-08-18"
                                },
                                {
                                    "0": "Danielle",
                                    "1": "Greene",
                                    "2": "1987-08-19"
                                },
                                {
                                    "0": "Mattea",
                                    "1": "Marvins",
                                    "2": "1987-08-20"
                                },
                                {
                                    "0": "David",
                                    "1": "Lee",
                                    "2": "1987-08-21"
                                },
                                {
                                    "0": "Sundar",
                                    "1": "Ande",
                                    "2": "1987-08-22"
                                },
                                {
                                    "0": "Amit",
                                    "1": "Banda",
                                    "2": "1987-08-23"
                                },
                                {
                                    "0": "Lisa",
                                    "1": "Ozer",
                                    "2": "1987-08-24"
                                },
                                {
                                    "0": "Harrison",
                                    "1": "Bloom",
                                    "2": "1987-08-25"
                                },
                                {
                                    "0": "Tayler",
                                    "1": "Fox",
                                    "2": "1987-08-26"
                                },
                                {
                                    "0": "William",
                                    "1": "Smith",
                                    "2": "1987-08-27"
                                },
                                {
                                    "0": "Elizabeth",
                                    "1": "Bates",
                                    "2": "1987-08-28"
                                },
                                {
                                    "0": "Sundita",
                                    "1": "Kumar",
                                    "2": "1987-08-29"
                                },
                                {
                                    "0": "Ellen",
                                    "1": "Abel",
                                    "2": "1987-08-30"
                                },
                                {
                                    "0": "Alyssa",
                                    "1": "Hutton",
                                    "2": "1987-08-31"
                                }
                            ]
                        },
                        "text/html": [
                            "<table>",
                            "<tr><th>FIRST_NAME</th><th>LAST_NAME</th><th>HIRE_DATE</th></tr>",
                            "<tr><td>John</td><td>Russell</td><td>1987-08-01</td></tr>",
                            "<tr><td>Karen</td><td>Partners</td><td>1987-08-02</td></tr>",
                            "<tr><td>Alberto</td><td>Errazuriz</td><td>1987-08-03</td></tr>",
                            "<tr><td>Gerald</td><td>Cambrault</td><td>1987-08-04</td></tr>",
                            "<tr><td>Eleni</td><td>Zlotkey</td><td>1987-08-05</td></tr>",
                            "<tr><td>Peter</td><td>Tucker</td><td>1987-08-06</td></tr>",
                            "<tr><td>David</td><td>Bernstein</td><td>1987-08-07</td></tr>",
                            "<tr><td>Peter</td><td>Hall</td><td>1987-08-08</td></tr>",
                            "<tr><td>Christopher</td><td>Olsen</td><td>1987-08-09</td></tr>",
                            "<tr><td>Nanette</td><td>Cambrault</td><td>1987-08-10</td></tr>",
                            "<tr><td>Oliver</td><td>Tuvault</td><td>1987-08-11</td></tr>",
                            "<tr><td>Janette</td><td>King</td><td>1987-08-12</td></tr>",
                            "<tr><td>Patrick</td><td>Sully</td><td>1987-08-13</td></tr>",
                            "<tr><td>Allan</td><td>McEwen</td><td>1987-08-14</td></tr>",
                            "<tr><td>Lindsey</td><td>Smith</td><td>1987-08-15</td></tr>",
                            "<tr><td>Louise</td><td>Doran</td><td>1987-08-16</td></tr>",
                            "<tr><td>Sarath</td><td>Sewall</td><td>1987-08-17</td></tr>",
                            "<tr><td>Clara</td><td>Vishney</td><td>1987-08-18</td></tr>",
                            "<tr><td>Danielle</td><td>Greene</td><td>1987-08-19</td></tr>",
                            "<tr><td>Mattea</td><td>Marvins</td><td>1987-08-20</td></tr>",
                            "<tr><td>David</td><td>Lee</td><td>1987-08-21</td></tr>",
                            "<tr><td>Sundar</td><td>Ande</td><td>1987-08-22</td></tr>",
                            "<tr><td>Amit</td><td>Banda</td><td>1987-08-23</td></tr>",
                            "<tr><td>Lisa</td><td>Ozer</td><td>1987-08-24</td></tr>",
                            "<tr><td>Harrison</td><td>Bloom</td><td>1987-08-25</td></tr>",
                            "<tr><td>Tayler</td><td>Fox</td><td>1987-08-26</td></tr>",
                            "<tr><td>William</td><td>Smith</td><td>1987-08-27</td></tr>",
                            "<tr><td>Elizabeth</td><td>Bates</td><td>1987-08-28</td></tr>",
                            "<tr><td>Sundita</td><td>Kumar</td><td>1987-08-29</td></tr>",
                            "<tr><td>Ellen</td><td>Abel</td><td>1987-08-30</td></tr>",
                            "<tr><td>Alyssa</td><td>Hutton</td><td>1987-08-31</td></tr>",
                            "</table>"
                        ]
                    }
                }
            ],
            "execution_count": 3
        },
        {
            "cell_type": "code",
            "source": [
                "--Query 4\r\n",
                "\r\n",
                "select EMPLOYEE_ID,FIRST_NAME,LAST_NAME, JOB_ID from employees1 where EMPLOYEE_ID  between  103 and 120; "
            ],
            "metadata": {
                "azdata_cell_guid": "ea1cc26a-28f7-4a8a-9ac3-0e5d8fb81d76",
                "language": "sql"
            },
            "outputs": [
                {
                    "output_type": "display_data",
                    "data": {
                        "text/html": "(18 rows affected)"
                    },
                    "metadata": {}
                },
                {
                    "output_type": "display_data",
                    "data": {
                        "text/html": "Total execution time: 00:00:00.006"
                    },
                    "metadata": {}
                },
                {
                    "output_type": "execute_result",
                    "metadata": {},
                    "execution_count": 4,
                    "data": {
                        "application/vnd.dataresource+json": {
                            "schema": {
                                "fields": [
                                    {
                                        "name": "EMPLOYEE_ID"
                                    },
                                    {
                                        "name": "FIRST_NAME"
                                    },
                                    {
                                        "name": "LAST_NAME"
                                    },
                                    {
                                        "name": "JOB_ID"
                                    }
                                ]
                            },
                            "data": [
                                {
                                    "0": "103",
                                    "1": "Alexander",
                                    "2": "Hunold",
                                    "3": "IT_PROG"
                                },
                                {
                                    "0": "104",
                                    "1": "Bruce",
                                    "2": "Ernst",
                                    "3": "IT_PROG"
                                },
                                {
                                    "0": "105",
                                    "1": "David",
                                    "2": "Austin",
                                    "3": "IT_PROG"
                                },
                                {
                                    "0": "106",
                                    "1": "Valli",
                                    "2": "Pataballa",
                                    "3": "IT_PROG"
                                },
                                {
                                    "0": "107",
                                    "1": "Diana",
                                    "2": "Lorentz",
                                    "3": "IT_PROG"
                                },
                                {
                                    "0": "108",
                                    "1": "Nancy",
                                    "2": "Greenberg",
                                    "3": "FI_MGR"
                                },
                                {
                                    "0": "109",
                                    "1": "Daniel",
                                    "2": "Faviet",
                                    "3": "FI_ACCOUNT"
                                },
                                {
                                    "0": "110",
                                    "1": "John",
                                    "2": "Chen",
                                    "3": "FI_ACCOUNT"
                                },
                                {
                                    "0": "111",
                                    "1": "Ismael",
                                    "2": "Sciarra",
                                    "3": "FI_ACCOUNT"
                                },
                                {
                                    "0": "112",
                                    "1": "Jose Manuel",
                                    "2": "Urman",
                                    "3": "FI_ACCOUNT"
                                },
                                {
                                    "0": "113",
                                    "1": "Luis",
                                    "2": "Popp",
                                    "3": "FI_ACCOUNT"
                                },
                                {
                                    "0": "114",
                                    "1": "Den",
                                    "2": "Raphaely",
                                    "3": "PU_MAN"
                                },
                                {
                                    "0": "115",
                                    "1": "Alexander",
                                    "2": "Khoo",
                                    "3": "PU_CLERK"
                                },
                                {
                                    "0": "116",
                                    "1": "Shelli",
                                    "2": "Baida",
                                    "3": "PU_CLERK"
                                },
                                {
                                    "0": "117",
                                    "1": "Sigal",
                                    "2": "Tobias",
                                    "3": "PU_CLERK"
                                },
                                {
                                    "0": "118",
                                    "1": "Guy",
                                    "2": "Himuro",
                                    "3": "PU_CLERK"
                                },
                                {
                                    "0": "119",
                                    "1": "Karen",
                                    "2": "Colmenares",
                                    "3": "PU_CLERK"
                                },
                                {
                                    "0": "120",
                                    "1": "Matthew",
                                    "2": "Weiss",
                                    "3": "ST_MAN"
                                }
                            ]
                        },
                        "text/html": [
                            "<table>",
                            "<tr><th>EMPLOYEE_ID</th><th>FIRST_NAME</th><th>LAST_NAME</th><th>JOB_ID</th></tr>",
                            "<tr><td>103</td><td>Alexander</td><td>Hunold</td><td>IT_PROG</td></tr>",
                            "<tr><td>104</td><td>Bruce</td><td>Ernst</td><td>IT_PROG</td></tr>",
                            "<tr><td>105</td><td>David</td><td>Austin</td><td>IT_PROG</td></tr>",
                            "<tr><td>106</td><td>Valli</td><td>Pataballa</td><td>IT_PROG</td></tr>",
                            "<tr><td>107</td><td>Diana</td><td>Lorentz</td><td>IT_PROG</td></tr>",
                            "<tr><td>108</td><td>Nancy</td><td>Greenberg</td><td>FI_MGR</td></tr>",
                            "<tr><td>109</td><td>Daniel</td><td>Faviet</td><td>FI_ACCOUNT</td></tr>",
                            "<tr><td>110</td><td>John</td><td>Chen</td><td>FI_ACCOUNT</td></tr>",
                            "<tr><td>111</td><td>Ismael</td><td>Sciarra</td><td>FI_ACCOUNT</td></tr>",
                            "<tr><td>112</td><td>Jose Manuel</td><td>Urman</td><td>FI_ACCOUNT</td></tr>",
                            "<tr><td>113</td><td>Luis</td><td>Popp</td><td>FI_ACCOUNT</td></tr>",
                            "<tr><td>114</td><td>Den</td><td>Raphaely</td><td>PU_MAN</td></tr>",
                            "<tr><td>115</td><td>Alexander</td><td>Khoo</td><td>PU_CLERK</td></tr>",
                            "<tr><td>116</td><td>Shelli</td><td>Baida</td><td>PU_CLERK</td></tr>",
                            "<tr><td>117</td><td>Sigal</td><td>Tobias</td><td>PU_CLERK</td></tr>",
                            "<tr><td>118</td><td>Guy</td><td>Himuro</td><td>PU_CLERK</td></tr>",
                            "<tr><td>119</td><td>Karen</td><td>Colmenares</td><td>PU_CLERK</td></tr>",
                            "<tr><td>120</td><td>Matthew</td><td>Weiss</td><td>ST_MAN</td></tr>",
                            "</table>"
                        ]
                    }
                }
            ],
            "execution_count": 4
        },
        {
            "cell_type": "code",
            "source": [
                "--Query 5\r\n",
                "\r\n",
                "select top(18) FIRST_NAME,LAST_NAME, DEPARTMENT_ID from employees1;"
            ],
            "metadata": {
                "azdata_cell_guid": "5ba534fa-799c-4545-8a6f-3b70eae660fc",
                "language": "sql"
            },
            "outputs": [
                {
                    "output_type": "display_data",
                    "data": {
                        "text/html": "(18 rows affected)"
                    },
                    "metadata": {}
                },
                {
                    "output_type": "display_data",
                    "data": {
                        "text/html": "Total execution time: 00:00:00.011"
                    },
                    "metadata": {}
                },
                {
                    "output_type": "execute_result",
                    "metadata": {},
                    "execution_count": 5,
                    "data": {
                        "application/vnd.dataresource+json": {
                            "schema": {
                                "fields": [
                                    {
                                        "name": "FIRST_NAME"
                                    },
                                    {
                                        "name": "LAST_NAME"
                                    },
                                    {
                                        "name": "DEPARTMENT_ID"
                                    }
                                ]
                            },
                            "data": [
                                {
                                    "0": "Steven",
                                    "1": "King",
                                    "2": "90"
                                },
                                {
                                    "0": "Neena",
                                    "1": "Kochhar",
                                    "2": "90"
                                },
                                {
                                    "0": "Lex",
                                    "1": "De Haan",
                                    "2": "90"
                                },
                                {
                                    "0": "Alexander",
                                    "1": "Hunold",
                                    "2": "60"
                                },
                                {
                                    "0": "Bruce",
                                    "1": "Ernst",
                                    "2": "60"
                                },
                                {
                                    "0": "David",
                                    "1": "Austin",
                                    "2": "60"
                                },
                                {
                                    "0": "Valli",
                                    "1": "Pataballa",
                                    "2": "60"
                                },
                                {
                                    "0": "Diana",
                                    "1": "Lorentz",
                                    "2": "60"
                                },
                                {
                                    "0": "Nancy",
                                    "1": "Greenberg",
                                    "2": "100"
                                },
                                {
                                    "0": "Daniel",
                                    "1": "Faviet",
                                    "2": "100"
                                },
                                {
                                    "0": "John",
                                    "1": "Chen",
                                    "2": "100"
                                },
                                {
                                    "0": "Ismael",
                                    "1": "Sciarra",
                                    "2": "100"
                                },
                                {
                                    "0": "Jose Manuel",
                                    "1": "Urman",
                                    "2": "100"
                                },
                                {
                                    "0": "Luis",
                                    "1": "Popp",
                                    "2": "100"
                                },
                                {
                                    "0": "Den",
                                    "1": "Raphaely",
                                    "2": "30"
                                },
                                {
                                    "0": "Alexander",
                                    "1": "Khoo",
                                    "2": "30"
                                },
                                {
                                    "0": "Shelli",
                                    "1": "Baida",
                                    "2": "30"
                                },
                                {
                                    "0": "Sigal",
                                    "1": "Tobias",
                                    "2": "30"
                                }
                            ]
                        },
                        "text/html": [
                            "<table>",
                            "<tr><th>FIRST_NAME</th><th>LAST_NAME</th><th>DEPARTMENT_ID</th></tr>",
                            "<tr><td>Steven</td><td>King</td><td>90</td></tr>",
                            "<tr><td>Neena</td><td>Kochhar</td><td>90</td></tr>",
                            "<tr><td>Lex</td><td>De Haan</td><td>90</td></tr>",
                            "<tr><td>Alexander</td><td>Hunold</td><td>60</td></tr>",
                            "<tr><td>Bruce</td><td>Ernst</td><td>60</td></tr>",
                            "<tr><td>David</td><td>Austin</td><td>60</td></tr>",
                            "<tr><td>Valli</td><td>Pataballa</td><td>60</td></tr>",
                            "<tr><td>Diana</td><td>Lorentz</td><td>60</td></tr>",
                            "<tr><td>Nancy</td><td>Greenberg</td><td>100</td></tr>",
                            "<tr><td>Daniel</td><td>Faviet</td><td>100</td></tr>",
                            "<tr><td>John</td><td>Chen</td><td>100</td></tr>",
                            "<tr><td>Ismael</td><td>Sciarra</td><td>100</td></tr>",
                            "<tr><td>Jose Manuel</td><td>Urman</td><td>100</td></tr>",
                            "<tr><td>Luis</td><td>Popp</td><td>100</td></tr>",
                            "<tr><td>Den</td><td>Raphaely</td><td>30</td></tr>",
                            "<tr><td>Alexander</td><td>Khoo</td><td>30</td></tr>",
                            "<tr><td>Shelli</td><td>Baida</td><td>30</td></tr>",
                            "<tr><td>Sigal</td><td>Tobias</td><td>30</td></tr>",
                            "</table>"
                        ]
                    }
                }
            ],
            "execution_count": 5
        },
        {
            "cell_type": "code",
            "source": [
                "-- Query 6\r\n",
                "\r\n",
                "select DEPARTMENT_ID,SUM(SALARY)  from employees1 where DEPARTMENT_ID !=0  group by DEPARTMENT_ID  ;"
            ],
            "metadata": {
                "azdata_cell_guid": "7011c047-c4f2-4323-9305-c03cd836d8dd",
                "language": "sql"
            },
            "outputs": [
                {
                    "output_type": "display_data",
                    "data": {
                        "text/html": "(11 rows affected)"
                    },
                    "metadata": {}
                },
                {
                    "output_type": "display_data",
                    "data": {
                        "text/html": "Total execution time: 00:00:00.007"
                    },
                    "metadata": {}
                },
                {
                    "output_type": "execute_result",
                    "metadata": {},
                    "execution_count": 6,
                    "data": {
                        "application/vnd.dataresource+json": {
                            "schema": {
                                "fields": [
                                    {
                                        "name": "DEPARTMENT_ID"
                                    },
                                    {
                                        "name": "(No column name)"
                                    }
                                ]
                            },
                            "data": [
                                {
                                    "0": "10",
                                    "1": "4400.00"
                                },
                                {
                                    "0": "20",
                                    "1": "19000.00"
                                },
                                {
                                    "0": "30",
                                    "1": "24900.00"
                                },
                                {
                                    "0": "40",
                                    "1": "6500.00"
                                },
                                {
                                    "0": "50",
                                    "1": "156400.00"
                                },
                                {
                                    "0": "60",
                                    "1": "28800.00"
                                },
                                {
                                    "0": "70",
                                    "1": "10000.00"
                                },
                                {
                                    "0": "80",
                                    "1": "304500.00"
                                },
                                {
                                    "0": "90",
                                    "1": "58000.00"
                                },
                                {
                                    "0": "100",
                                    "1": "51600.00"
                                },
                                {
                                    "0": "110",
                                    "1": "20300.00"
                                }
                            ]
                        },
                        "text/html": [
                            "<table>",
                            "<tr><th>DEPARTMENT_ID</th><th>(No column name)</th></tr>",
                            "<tr><td>10</td><td>4400.00</td></tr>",
                            "<tr><td>20</td><td>19000.00</td></tr>",
                            "<tr><td>30</td><td>24900.00</td></tr>",
                            "<tr><td>40</td><td>6500.00</td></tr>",
                            "<tr><td>50</td><td>156400.00</td></tr>",
                            "<tr><td>60</td><td>28800.00</td></tr>",
                            "<tr><td>70</td><td>10000.00</td></tr>",
                            "<tr><td>80</td><td>304500.00</td></tr>",
                            "<tr><td>90</td><td>58000.00</td></tr>",
                            "<tr><td>100</td><td>51600.00</td></tr>",
                            "<tr><td>110</td><td>20300.00</td></tr>",
                            "</table>"
                        ]
                    }
                }
            ],
            "execution_count": 6
        },
        {
            "cell_type": "code",
            "source": [
                "--Query 7\r\n",
                "\r\n",
                "select FIRST_NAME,LAST_NAME from employees1 where MANAGER_ID in (select MANAGER_ID from employees1 where MANAGER_ID in (100,101));"
            ],
            "metadata": {
                "azdata_cell_guid": "f54da847-4e34-4274-9221-858afc4d2adc",
                "language": "sql"
            },
            "outputs": [
                {
                    "output_type": "display_data",
                    "data": {
                        "text/html": "(19 rows affected)"
                    },
                    "metadata": {}
                },
                {
                    "output_type": "display_data",
                    "data": {
                        "text/html": "Total execution time: 00:00:00.009"
                    },
                    "metadata": {}
                },
                {
                    "output_type": "execute_result",
                    "metadata": {},
                    "execution_count": 7,
                    "data": {
                        "application/vnd.dataresource+json": {
                            "schema": {
                                "fields": [
                                    {
                                        "name": "FIRST_NAME"
                                    },
                                    {
                                        "name": "LAST_NAME"
                                    }
                                ]
                            },
                            "data": [
                                {
                                    "0": "Neena",
                                    "1": "Kochhar"
                                },
                                {
                                    "0": "Lex",
                                    "1": "De Haan"
                                },
                                {
                                    "0": "Nancy",
                                    "1": "Greenberg"
                                },
                                {
                                    "0": "Den",
                                    "1": "Raphaely"
                                },
                                {
                                    "0": "Matthew",
                                    "1": "Weiss"
                                },
                                {
                                    "0": "Adam",
                                    "1": "Fripp"
                                },
                                {
                                    "0": "Payam",
                                    "1": "Kaufling"
                                },
                                {
                                    "0": "Shanta",
                                    "1": "Vollman"
                                },
                                {
                                    "0": "Kevin",
                                    "1": "Mourgos"
                                },
                                {
                                    "0": "John",
                                    "1": "Russell"
                                },
                                {
                                    "0": "Karen",
                                    "1": "Partners"
                                },
                                {
                                    "0": "Alberto",
                                    "1": "Errazuriz"
                                },
                                {
                                    "0": "Gerald",
                                    "1": "Cambrault"
                                },
                                {
                                    "0": "Eleni",
                                    "1": "Zlotkey"
                                },
                                {
                                    "0": "Jennifer",
                                    "1": "Whalen"
                                },
                                {
                                    "0": "Michael",
                                    "1": "Hartstein"
                                },
                                {
                                    "0": "Susan",
                                    "1": "Mavris"
                                },
                                {
                                    "0": "Hermann",
                                    "1": "Baer"
                                },
                                {
                                    "0": "Shelley",
                                    "1": "Higgins"
                                }
                            ]
                        },
                        "text/html": [
                            "<table>",
                            "<tr><th>FIRST_NAME</th><th>LAST_NAME</th></tr>",
                            "<tr><td>Neena</td><td>Kochhar</td></tr>",
                            "<tr><td>Lex</td><td>De Haan</td></tr>",
                            "<tr><td>Nancy</td><td>Greenberg</td></tr>",
                            "<tr><td>Den</td><td>Raphaely</td></tr>",
                            "<tr><td>Matthew</td><td>Weiss</td></tr>",
                            "<tr><td>Adam</td><td>Fripp</td></tr>",
                            "<tr><td>Payam</td><td>Kaufling</td></tr>",
                            "<tr><td>Shanta</td><td>Vollman</td></tr>",
                            "<tr><td>Kevin</td><td>Mourgos</td></tr>",
                            "<tr><td>John</td><td>Russell</td></tr>",
                            "<tr><td>Karen</td><td>Partners</td></tr>",
                            "<tr><td>Alberto</td><td>Errazuriz</td></tr>",
                            "<tr><td>Gerald</td><td>Cambrault</td></tr>",
                            "<tr><td>Eleni</td><td>Zlotkey</td></tr>",
                            "<tr><td>Jennifer</td><td>Whalen</td></tr>",
                            "<tr><td>Michael</td><td>Hartstein</td></tr>",
                            "<tr><td>Susan</td><td>Mavris</td></tr>",
                            "<tr><td>Hermann</td><td>Baer</td></tr>",
                            "<tr><td>Shelley</td><td>Higgins</td></tr>",
                            "</table>"
                        ]
                    }
                }
            ],
            "execution_count": 7
        },
        {
            "cell_type": "code",
            "source": [
                "with cte as\r\n",
                "(select DEPARTMENT_ID,FIRST_NAME ,LAST_NAME, ROW_NUMBER() over (PARTITION by DEPARTMENT_ID order by  DEPARTMENT_ID  ) as rank from employees1 \r\n",
                ")\r\n",
                "select FIRST_NAME ,LAST_NAME from cte where rank=1 and department_id in (select  DEPARTMENT_ID from employees1 group by  DEPARTMENT_ID  having  COUNT(DEPARTMENT_ID) between 1 and 2);"
            ],
            "metadata": {
                "azdata_cell_guid": "1dfe0836-42c9-4c1e-a2f6-f23b47128935",
                "language": "sql"
            },
            "outputs": [
                {
                    "output_type": "display_data",
                    "data": {
                        "text/html": "(6 rows affected)"
                    },
                    "metadata": {}
                },
                {
                    "output_type": "display_data",
                    "data": {
                        "text/html": "Total execution time: 00:00:00.006"
                    },
                    "metadata": {}
                },
                {
                    "output_type": "execute_result",
                    "metadata": {},
                    "execution_count": 9,
                    "data": {
                        "application/vnd.dataresource+json": {
                            "schema": {
                                "fields": [
                                    {
                                        "name": "FIRST_NAME"
                                    },
                                    {
                                        "name": "LAST_NAME"
                                    }
                                ]
                            },
                            "data": [
                                {
                                    "0": "Kimberely",
                                    "1": "Grant"
                                },
                                {
                                    "0": "Jennifer",
                                    "1": "Whalen"
                                },
                                {
                                    "0": "Michael",
                                    "1": "Hartstein"
                                },
                                {
                                    "0": "Susan",
                                    "1": "Mavris"
                                },
                                {
                                    "0": "Hermann",
                                    "1": "Baer"
                                },
                                {
                                    "0": "Shelley",
                                    "1": "Higgins"
                                }
                            ]
                        },
                        "text/html": [
                            "<table>",
                            "<tr><th>FIRST_NAME</th><th>LAST_NAME</th></tr>",
                            "<tr><td>Kimberely</td><td>Grant</td></tr>",
                            "<tr><td>Jennifer</td><td>Whalen</td></tr>",
                            "<tr><td>Michael</td><td>Hartstein</td></tr>",
                            "<tr><td>Susan</td><td>Mavris</td></tr>",
                            "<tr><td>Hermann</td><td>Baer</td></tr>",
                            "<tr><td>Shelley</td><td>Higgins</td></tr>",
                            "</table>"
                        ]
                    }
                }
            ],
            "execution_count": 9
        },
        {
            "cell_type": "code",
            "source": [
                "select * from departments where DEPARTMENT_ID in (select DEPARTMENT_ID from employees1\r\n",
                "where EMPLOYEE_ID in (select EMPLOYEE_ID from job_history group by EMPLOYEE_ID having COUNT(EMPLOYEE_ID) >=1 ) group by DEPARTMENT_ID having MAX(salary)>700 ) ;"
            ],
            "metadata": {
                "language": "sql",
                "azdata_cell_guid": "13ba54cf-6de6-4fe4-ae69-8097dad48b56"
            },
            "outputs": [
                {
                    "output_type": "display_data",
                    "data": {
                        "text/html": "(6 rows affected)"
                    },
                    "metadata": {}
                },
                {
                    "output_type": "display_data",
                    "data": {
                        "text/html": "Total execution time: 00:00:00.016"
                    },
                    "metadata": {}
                },
                {
                    "output_type": "execute_result",
                    "metadata": {},
                    "execution_count": 11,
                    "data": {
                        "application/vnd.dataresource+json": {
                            "schema": {
                                "fields": [
                                    {
                                        "name": "DEPARTMENT_ID"
                                    },
                                    {
                                        "name": "DEPARTMENT_NAME"
                                    },
                                    {
                                        "name": "MANAGER_ID"
                                    },
                                    {
                                        "name": "LOCATION_ID"
                                    }
                                ]
                            },
                            "data": [
                                {
                                    "0": "10",
                                    "1": "Administration",
                                    "2": "200",
                                    "3": "1700"
                                },
                                {
                                    "0": "20",
                                    "1": "Marketing",
                                    "2": "201",
                                    "3": "1800"
                                },
                                {
                                    "0": "30",
                                    "1": "Purchasing",
                                    "2": "114",
                                    "3": "1700"
                                },
                                {
                                    "0": "50",
                                    "1": "Shipping",
                                    "2": "121",
                                    "3": "1500"
                                },
                                {
                                    "0": "80",
                                    "1": "Sales",
                                    "2": "145",
                                    "3": "2500"
                                },
                                {
                                    "0": "90",
                                    "1": "Executive",
                                    "2": "100",
                                    "3": "1700"
                                }
                            ]
                        },
                        "text/html": [
                            "<table>",
                            "<tr><th>DEPARTMENT_ID</th><th>DEPARTMENT_NAME</th><th>MANAGER_ID</th><th>LOCATION_ID</th></tr>",
                            "<tr><td>10</td><td>Administration</td><td>200</td><td>1700</td></tr>",
                            "<tr><td>20</td><td>Marketing</td><td>201</td><td>1800</td></tr>",
                            "<tr><td>30</td><td>Purchasing</td><td>114</td><td>1700</td></tr>",
                            "<tr><td>50</td><td>Shipping</td><td>121</td><td>1500</td></tr>",
                            "<tr><td>80</td><td>Sales</td><td>145</td><td>2500</td></tr>",
                            "<tr><td>90</td><td>Executive</td><td>100</td><td>1700</td></tr>",
                            "</table>"
                        ]
                    }
                }
            ],
            "execution_count": 11
        },
        {
            "cell_type": "code",
            "source": [
                "--Query 10\r\n",
                "\r\n",
                "select * from departments where DEPARTMENT_ID in(70,90,110);"
            ],
            "metadata": {
                "language": "sql",
                "azdata_cell_guid": "93f56136-e650-4027-91f4-866aa8f59971"
            },
            "outputs": [
                {
                    "output_type": "display_data",
                    "data": {
                        "text/html": "(3 rows affected)"
                    },
                    "metadata": {}
                },
                {
                    "output_type": "display_data",
                    "data": {
                        "text/html": "Total execution time: 00:00:00.004"
                    },
                    "metadata": {}
                },
                {
                    "output_type": "execute_result",
                    "metadata": {},
                    "execution_count": 12,
                    "data": {
                        "application/vnd.dataresource+json": {
                            "schema": {
                                "fields": [
                                    {
                                        "name": "DEPARTMENT_ID"
                                    },
                                    {
                                        "name": "DEPARTMENT_NAME"
                                    },
                                    {
                                        "name": "MANAGER_ID"
                                    },
                                    {
                                        "name": "LOCATION_ID"
                                    }
                                ]
                            },
                            "data": [
                                {
                                    "0": "70",
                                    "1": "Public Relations",
                                    "2": "204",
                                    "3": "2700"
                                },
                                {
                                    "0": "90",
                                    "1": "Executive",
                                    "2": "100",
                                    "3": "1700"
                                },
                                {
                                    "0": "110",
                                    "1": "Accounting",
                                    "2": "205",
                                    "3": "1700"
                                }
                            ]
                        },
                        "text/html": [
                            "<table>",
                            "<tr><th>DEPARTMENT_ID</th><th>DEPARTMENT_NAME</th><th>MANAGER_ID</th><th>LOCATION_ID</th></tr>",
                            "<tr><td>70</td><td>Public Relations</td><td>204</td><td>2700</td></tr>",
                            "<tr><td>90</td><td>Executive</td><td>100</td><td>1700</td></tr>",
                            "<tr><td>110</td><td>Accounting</td><td>205</td><td>1700</td></tr>",
                            "</table>"
                        ]
                    }
                }
            ],
            "execution_count": 12
        },
        {
            "cell_type": "code",
            "source": [
                "with cte as\r\n",
                "(select DEPARTMENT_ID,FIRST_NAME ,LAST_NAME,salary, ROW_NUMBER() over (PARTITION by DEPARTMENT_ID order by  DEPARTMENT_ID  ) as rank from employees1 \r\n",
                ")\r\n",
                "select DEPARTMENT_ID,CONCAT(FIRST_NAME ,LAST_NAME) as 'full_name',SALARY from cte where rank=1 order by DEPARTMENT_ID desc"
            ],
            "metadata": {
                "language": "sql",
                "azdata_cell_guid": "47f2bc1b-e50a-4347-a990-1f2c38311d4d"
            },
            "outputs": [
                {
                    "output_type": "display_data",
                    "data": {
                        "text/html": "(12 rows affected)"
                    },
                    "metadata": {}
                },
                {
                    "output_type": "display_data",
                    "data": {
                        "text/html": "Total execution time: 00:00:00.008"
                    },
                    "metadata": {}
                },
                {
                    "output_type": "execute_result",
                    "metadata": {},
                    "execution_count": 13,
                    "data": {
                        "application/vnd.dataresource+json": {
                            "schema": {
                                "fields": [
                                    {
                                        "name": "DEPARTMENT_ID"
                                    },
                                    {
                                        "name": "full_name"
                                    },
                                    {
                                        "name": "SALARY"
                                    }
                                ]
                            },
                            "data": [
                                {
                                    "0": "110",
                                    "1": "ShelleyHiggins",
                                    "2": "12000.00"
                                },
                                {
                                    "0": "100",
                                    "1": "NancyGreenberg",
                                    "2": "12000.00"
                                },
                                {
                                    "0": "90",
                                    "1": "StevenKing",
                                    "2": "24000.00"
                                },
                                {
                                    "0": "80",
                                    "1": "JohnRussell",
                                    "2": "14000.00"
                                },
                                {
                                    "0": "70",
                                    "1": "HermannBaer",
                                    "2": "10000.00"
                                },
                                {
                                    "0": "60",
                                    "1": "AlexanderHunold",
                                    "2": "9000.00"
                                },
                                {
                                    "0": "50",
                                    "1": "MatthewWeiss",
                                    "2": "8000.00"
                                },
                                {
                                    "0": "40",
                                    "1": "SusanMavris",
                                    "2": "6500.00"
                                },
                                {
                                    "0": "30",
                                    "1": "DenRaphaely",
                                    "2": "11000.00"
                                },
                                {
                                    "0": "20",
                                    "1": "MichaelHartstein",
                                    "2": "13000.00"
                                },
                                {
                                    "0": "10",
                                    "1": "JenniferWhalen",
                                    "2": "4400.00"
                                },
                                {
                                    "0": "0",
                                    "1": "KimberelyGrant",
                                    "2": "7000.00"
                                }
                            ]
                        },
                        "text/html": [
                            "<table>",
                            "<tr><th>DEPARTMENT_ID</th><th>full_name</th><th>SALARY</th></tr>",
                            "<tr><td>110</td><td>ShelleyHiggins</td><td>12000.00</td></tr>",
                            "<tr><td>100</td><td>NancyGreenberg</td><td>12000.00</td></tr>",
                            "<tr><td>90</td><td>StevenKing</td><td>24000.00</td></tr>",
                            "<tr><td>80</td><td>JohnRussell</td><td>14000.00</td></tr>",
                            "<tr><td>70</td><td>HermannBaer</td><td>10000.00</td></tr>",
                            "<tr><td>60</td><td>AlexanderHunold</td><td>9000.00</td></tr>",
                            "<tr><td>50</td><td>MatthewWeiss</td><td>8000.00</td></tr>",
                            "<tr><td>40</td><td>SusanMavris</td><td>6500.00</td></tr>",
                            "<tr><td>30</td><td>DenRaphaely</td><td>11000.00</td></tr>",
                            "<tr><td>20</td><td>MichaelHartstein</td><td>13000.00</td></tr>",
                            "<tr><td>10</td><td>JenniferWhalen</td><td>4400.00</td></tr>",
                            "<tr><td>0</td><td>KimberelyGrant</td><td>7000.00</td></tr>",
                            "</table>"
                        ]
                    }
                }
            ],
            "execution_count": 13
        },
        {
            "cell_type": "code",
            "source": [
                "select * from jobs where JOB_ID='SA_REP';"
            ],
            "metadata": {
                "language": "sql",
                "azdata_cell_guid": "95ee765b-1940-48cd-92a2-beadec9adf4e"
            },
            "outputs": [
                {
                    "output_type": "display_data",
                    "data": {
                        "text/html": "(1 row affected)"
                    },
                    "metadata": {}
                },
                {
                    "output_type": "display_data",
                    "data": {
                        "text/html": "Total execution time: 00:00:00.006"
                    },
                    "metadata": {}
                },
                {
                    "output_type": "execute_result",
                    "metadata": {},
                    "execution_count": 14,
                    "data": {
                        "application/vnd.dataresource+json": {
                            "schema": {
                                "fields": [
                                    {
                                        "name": "JOB_ID"
                                    },
                                    {
                                        "name": "JOB_TITLE"
                                    },
                                    {
                                        "name": "MIN_SALARY"
                                    },
                                    {
                                        "name": "MAX_SALARY"
                                    }
                                ]
                            },
                            "data": [
                                {
                                    "0": "SA_REP",
                                    "1": "Sales Representative",
                                    "2": "6000",
                                    "3": "12000"
                                }
                            ]
                        },
                        "text/html": [
                            "<table>",
                            "<tr><th>JOB_ID</th><th>JOB_TITLE</th><th>MIN_SALARY</th><th>MAX_SALARY</th></tr>",
                            "<tr><td>SA_REP</td><td>Sales Representative</td><td>6000</td><td>12000</td></tr>",
                            "</table>"
                        ]
                    }
                }
            ],
            "execution_count": 14
        }
    ]
}