{
    "metadata": {
        "kernelspec": {
            "name": "SQL",
            "display_name": "SQL",
            "language": "sql"
        },
        "language_info": {
            "name": "sql",
            "version": ""
        }
    },
    "nbformat_minor": 2,
    "nbformat": 4,
    "cells": [
        {
            "cell_type": "code",
            "source": [
                "create TABLE Employee (id int identity(1234,1111),Name VARCHAR(32),Department VARCHAR(32),Hire_Date VARCHAR(32),Training int);"
            ],
            "metadata": {
                "azdata_cell_guid": "b1ceee3e-91a8-4ae5-b76a-5f4c74ac5a27",
                "language": "sql"
            },
            "outputs": [
                {
                    "output_type": "display_data",
                    "data": {
                        "text/html": "Commands completed successfully."
                    },
                    "metadata": {}
                },
                {
                    "output_type": "display_data",
                    "data": {
                        "text/html": "Total execution time: 00:00:00.004"
                    },
                    "metadata": {}
                }
            ],
            "execution_count": 23
        },
        {
            "cell_type": "code",
            "source": [
                "INSERT into Employee VALUES('J.Jone','Sales','18-Jun-92',24),('S.Smith','Production','12-Feb-98',40),('A.Adams','Sales','18-Nov-98',60),('B.Bates','Advertising','10-Mar-85',16),('D.Davis','Production','26-Jul-99',56),('C.Cole','Shipping','18-May-91',32),('E.Ellis','Sales','15-Dec-98',80),('F.Files','Advertising','17-Oct-90',24),('G.Gates','Advertising','15-Mar-99',48)"
            ],
            "metadata": {
                "language": "sql",
                "azdata_cell_guid": "de2dcfa1-faa1-42d0-9efa-bd2178d40dfb"
            },
            "outputs": [
                {
                    "output_type": "display_data",
                    "data": {
                        "text/html": "(9 rows affected)"
                    },
                    "metadata": {}
                },
                {
                    "output_type": "display_data",
                    "data": {
                        "text/html": "Total execution time: 00:00:00.007"
                    },
                    "metadata": {}
                }
            ],
            "execution_count": 24
        },
        {
            "cell_type": "code",
            "source": [
                "select distinct Department from Employee\r\n",
                ""
            ],
            "metadata": {
                "language": "sql",
                "azdata_cell_guid": "aa47ef5a-f976-4608-948b-5a7d8b3519ab"
            },
            "outputs": [
                {
                    "output_type": "display_data",
                    "data": {
                        "text/html": "(4 rows affected)"
                    },
                    "metadata": {}
                },
                {
                    "output_type": "display_data",
                    "data": {
                        "text/html": "Total execution time: 00:00:00.010"
                    },
                    "metadata": {}
                },
                {
                    "output_type": "execute_result",
                    "metadata": {},
                    "execution_count": 25,
                    "data": {
                        "application/vnd.dataresource+json": {
                            "schema": {
                                "fields": [
                                    {
                                        "name": "Department"
                                    }
                                ]
                            },
                            "data": [
                                {
                                    "0": "Advertising"
                                },
                                {
                                    "0": "Production"
                                },
                                {
                                    "0": "Sales"
                                },
                                {
                                    "0": "Shipping"
                                }
                            ]
                        },
                        "text/html": [
                            "<table>",
                            "<tr><th>Department</th></tr>",
                            "<tr><td>Advertising</td></tr>",
                            "<tr><td>Production</td></tr>",
                            "<tr><td>Sales</td></tr>",
                            "<tr><td>Shipping</td></tr>",
                            "</table>"
                        ]
                    }
                }
            ],
            "execution_count": 25
        },
        {
            "cell_type": "code",
            "source": [
                "ALTER TABLE Employee add Location VARCHAR(32);\r\n",
                "UPDATE Employee set Location='Denmark' where id=1234;\r\n",
                "UPDATE Employee set Location='Hungary' where id=2345;\r\n",
                "UPDATE Employee set Location='India' where id=3456;\r\n",
                "UPDATE Employee set Location='USA' where id=4567;\r\n",
                "UPDATE Employee set Location='China' where id=5678;\r\n",
                "UPDATE Employee set Location='Prague' where id=6789;\r\n",
                "UPDATE Employee set Location='Chile' where id=7900;\r\n",
                "UPDATE Employee set Location='Itlay' where id=9011;\r\n",
                "UPDATE Employee set Location='Ukrain' where id=10122;\r\n",
                ""
            ],
            "metadata": {
                "language": "sql",
                "azdata_cell_guid": "6b74abdc-ecfa-4fa9-9b94-f9dbd6b515d2",
                "tags": []
            },
            "outputs": [
                {
                    "output_type": "display_data",
                    "data": {
                        "text/html": "(1 row affected)"
                    },
                    "metadata": {}
                },
                {
                    "output_type": "display_data",
                    "data": {
                        "text/html": "Total execution time: 00:00:00.001"
                    },
                    "metadata": {}
                }
            ],
            "execution_count": 33
        },
        {
            "cell_type": "code",
            "source": [
                "select * from Employee"
            ],
            "metadata": {
                "language": "sql",
                "azdata_cell_guid": "4ca1de8b-ec55-4431-968d-ba7d0e4ca924"
            },
            "outputs": [
                {
                    "output_type": "display_data",
                    "data": {
                        "text/html": "(9 rows affected)"
                    },
                    "metadata": {}
                },
                {
                    "output_type": "display_data",
                    "data": {
                        "text/html": "Total execution time: 00:00:00.002"
                    },
                    "metadata": {}
                },
                {
                    "output_type": "execute_result",
                    "metadata": {},
                    "execution_count": 34,
                    "data": {
                        "application/vnd.dataresource+json": {
                            "schema": {
                                "fields": [
                                    {
                                        "name": "id"
                                    },
                                    {
                                        "name": "Name"
                                    },
                                    {
                                        "name": "Department"
                                    },
                                    {
                                        "name": "Hire_Date"
                                    },
                                    {
                                        "name": "Training"
                                    },
                                    {
                                        "name": "Location"
                                    }
                                ]
                            },
                            "data": [
                                {
                                    "0": "1234",
                                    "1": "J.Jone",
                                    "2": "Sales",
                                    "3": "18-Jun-92",
                                    "4": "24",
                                    "5": "Denmark"
                                },
                                {
                                    "0": "2345",
                                    "1": "S.Smith",
                                    "2": "Production",
                                    "3": "12-Feb-98",
                                    "4": "40",
                                    "5": "Hungary"
                                },
                                {
                                    "0": "3456",
                                    "1": "A.Adams",
                                    "2": "Sales",
                                    "3": "18-Nov-98",
                                    "4": "60",
                                    "5": "India"
                                },
                                {
                                    "0": "4567",
                                    "1": "B.Bates",
                                    "2": "Advertising",
                                    "3": "10-Mar-85",
                                    "4": "16",
                                    "5": "USA"
                                },
                                {
                                    "0": "5678",
                                    "1": "D.Davis",
                                    "2": "Production",
                                    "3": "26-Jul-99",
                                    "4": "56",
                                    "5": "China"
                                },
                                {
                                    "0": "6789",
                                    "1": "C.Cole",
                                    "2": "Shipping",
                                    "3": "18-May-91",
                                    "4": "32",
                                    "5": "Prague"
                                },
                                {
                                    "0": "7900",
                                    "1": "E.Ellis",
                                    "2": "Sales",
                                    "3": "15-Dec-98",
                                    "4": "80",
                                    "5": "Chile"
                                },
                                {
                                    "0": "9011",
                                    "1": "F.Files",
                                    "2": "Advertising",
                                    "3": "17-Oct-90",
                                    "4": "24",
                                    "5": "Itlay"
                                },
                                {
                                    "0": "10122",
                                    "1": "G.Gates",
                                    "2": "Advertising",
                                    "3": "15-Mar-99",
                                    "4": "48",
                                    "5": "Ukrain"
                                }
                            ]
                        },
                        "text/html": [
                            "<table>",
                            "<tr><th>id</th><th>Name</th><th>Department</th><th>Hire_Date</th><th>Training</th><th>Location</th></tr>",
                            "<tr><td>1234</td><td>J.Jone</td><td>Sales</td><td>18-Jun-92</td><td>24</td><td>Denmark</td></tr>",
                            "<tr><td>2345</td><td>S.Smith</td><td>Production</td><td>12-Feb-98</td><td>40</td><td>Hungary</td></tr>",
                            "<tr><td>3456</td><td>A.Adams</td><td>Sales</td><td>18-Nov-98</td><td>60</td><td>India</td></tr>",
                            "<tr><td>4567</td><td>B.Bates</td><td>Advertising</td><td>10-Mar-85</td><td>16</td><td>USA</td></tr>",
                            "<tr><td>5678</td><td>D.Davis</td><td>Production</td><td>26-Jul-99</td><td>56</td><td>China</td></tr>",
                            "<tr><td>6789</td><td>C.Cole</td><td>Shipping</td><td>18-May-91</td><td>32</td><td>Prague</td></tr>",
                            "<tr><td>7900</td><td>E.Ellis</td><td>Sales</td><td>15-Dec-98</td><td>80</td><td>Chile</td></tr>",
                            "<tr><td>9011</td><td>F.Files</td><td>Advertising</td><td>17-Oct-90</td><td>24</td><td>Itlay</td></tr>",
                            "<tr><td>10122</td><td>G.Gates</td><td>Advertising</td><td>15-Mar-99</td><td>48</td><td>Ukrain</td></tr>",
                            "</table>"
                        ]
                    }
                }
            ],
            "execution_count": 34
        },
        {
            "cell_type": "code",
            "source": [
                ""
            ],
            "metadata": {
                "language": "sql",
                "azdata_cell_guid": "69271323-d7b4-417c-bdfa-dadee301a8bb"
            },
            "outputs": [],
            "execution_count": null
        }
    ]
}