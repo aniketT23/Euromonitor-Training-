{
    "metadata": {
        "kernelspec": {
            "name": "SQL",
            "display_name": "SQL",
            "language": "sql"
        },
        "language_info": {
            "name": "sql",
            "version": ""
        }
    },
    "nbformat_minor": 2,
    "nbformat": 4,
    "cells": [
        {
            "cell_type": "code",
            "source": [
                "create TABLE Employee (id int identity(1234,1111),Name VARCHAR(32),Department VARCHAR(32),Hire_Date date,Training int);"
            ],
            "metadata": {
                "azdata_cell_guid": "b1ceee3e-91a8-4ae5-b76a-5f4c74ac5a27",
                "language": "sql"
            },
            "outputs": [
                {
                    "output_type": "display_data",
                    "data": {
                        "text/html": "Commands completed successfully."
                    },
                    "metadata": {}
                },
                {
                    "output_type": "display_data",
                    "data": {
                        "text/html": "Total execution time: 00:00:00.002"
                    },
                    "metadata": {}
                }
            ],
            "execution_count": 51
        },
        {
            "cell_type": "code",
            "source": [
                "INSERT into Employee VALUES('J.Jone','Sales','06/18/1992',24),('S.Smith','Production','02/12/1998',40),('A.Adams','Sales','11/18/1998',60),('B.Bates','Advertising','03/10/1985',16),('D.Davis','Production','07/26/1999',56),('C.Cole','Shipping','05/18/1991',32),('E.Ellis','Sales','12/15/1998',80),('F.Files','Advertising','10/17/1990',24),('G.Gates','Advertising','09/15/1999',48)"
            ],
            "metadata": {
                "language": "sql",
                "azdata_cell_guid": "de2dcfa1-faa1-42d0-9efa-bd2178d40dfb"
            },
            "outputs": [
                {
                    "output_type": "display_data",
                    "data": {
                        "text/html": "(9 rows affected)"
                    },
                    "metadata": {}
                },
                {
                    "output_type": "display_data",
                    "data": {
                        "text/html": "Total execution time: 00:00:00.002"
                    },
                    "metadata": {}
                }
            ],
            "execution_count": 53
        },
        {
            "cell_type": "code",
            "source": [
                "select distinct Department from Employee\r\n",
                ""
            ],
            "metadata": {
                "language": "sql",
                "azdata_cell_guid": "aa47ef5a-f976-4608-948b-5a7d8b3519ab"
            },
            "outputs": [
                {
                    "output_type": "display_data",
                    "data": {
                        "text/html": "(4 rows affected)"
                    },
                    "metadata": {}
                },
                {
                    "output_type": "display_data",
                    "data": {
                        "text/html": "Total execution time: 00:00:00.005"
                    },
                    "metadata": {}
                },
                {
                    "output_type": "execute_result",
                    "metadata": {},
                    "execution_count": 55,
                    "data": {
                        "application/vnd.dataresource+json": {
                            "schema": {
                                "fields": [
                                    {
                                        "name": "Department"
                                    }
                                ]
                            },
                            "data": [
                                {
                                    "0": "Advertising"
                                },
                                {
                                    "0": "Production"
                                },
                                {
                                    "0": "Sales"
                                },
                                {
                                    "0": "Shipping"
                                }
                            ]
                        },
                        "text/html": [
                            "<table>",
                            "<tr><th>Department</th></tr>",
                            "<tr><td>Advertising</td></tr>",
                            "<tr><td>Production</td></tr>",
                            "<tr><td>Sales</td></tr>",
                            "<tr><td>Shipping</td></tr>",
                            "</table>"
                        ]
                    }
                }
            ],
            "execution_count": 55
        },
        {
            "cell_type": "code",
            "source": [
                "ALTER TABLE Employee add Location VARCHAR(32);\r\n",
                "UPDATE Employee set Location='Denmark' where id=1234;\r\n",
                "UPDATE Employee set Location='Hungary' where id=2345;\r\n",
                "UPDATE Employee set Location='India' where id=3456;\r\n",
                "UPDATE Employee set Location='USA' where id=4567;\r\n",
                "UPDATE Employee set Location='China' where id=5678;\r\n",
                "UPDATE Employee set Location='Prague' where id=6789;\r\n",
                "UPDATE Employee set Location='Chile' where id=7900;\r\n",
                "UPDATE Employee set Location='Itlay' where id=9011;\r\n",
                "UPDATE Employee set Location='Ukrain' where id=10122;\r\n",
                ""
            ],
            "metadata": {
                "language": "sql",
                "azdata_cell_guid": "6b74abdc-ecfa-4fa9-9b94-f9dbd6b515d2",
                "tags": []
            },
            "outputs": [
                {
                    "output_type": "display_data",
                    "data": {
                        "text/html": "(0 rows affected)"
                    },
                    "metadata": {}
                },
                {
                    "output_type": "display_data",
                    "data": {
                        "text/html": "(1 row affected)"
                    },
                    "metadata": {}
                },
                {
                    "output_type": "display_data",
                    "data": {
                        "text/html": "(1 row affected)"
                    },
                    "metadata": {}
                },
                {
                    "output_type": "display_data",
                    "data": {
                        "text/html": "(1 row affected)"
                    },
                    "metadata": {}
                },
                {
                    "output_type": "display_data",
                    "data": {
                        "text/html": "(1 row affected)"
                    },
                    "metadata": {}
                },
                {
                    "output_type": "display_data",
                    "data": {
                        "text/html": "(1 row affected)"
                    },
                    "metadata": {}
                },
                {
                    "output_type": "display_data",
                    "data": {
                        "text/html": "(1 row affected)"
                    },
                    "metadata": {}
                },
                {
                    "output_type": "display_data",
                    "data": {
                        "text/html": "(1 row affected)"
                    },
                    "metadata": {}
                },
                {
                    "output_type": "display_data",
                    "data": {
                        "text/html": "(1 row affected)"
                    },
                    "metadata": {}
                },
                {
                    "output_type": "display_data",
                    "data": {
                        "text/html": "Total execution time: 00:00:00.006"
                    },
                    "metadata": {}
                }
            ],
            "execution_count": 56
        },
        {
            "cell_type": "code",
            "source": [
                "select * from Employee"
            ],
            "metadata": {
                "language": "sql",
                "azdata_cell_guid": "4ca1de8b-ec55-4431-968d-ba7d0e4ca924"
            },
            "outputs": [
                {
                    "output_type": "display_data",
                    "data": {
                        "text/html": "(9 rows affected)"
                    },
                    "metadata": {}
                },
                {
                    "output_type": "display_data",
                    "data": {
                        "text/html": "Total execution time: 00:00:00.007"
                    },
                    "metadata": {}
                },
                {
                    "output_type": "execute_result",
                    "metadata": {},
                    "execution_count": 74,
                    "data": {
                        "application/vnd.dataresource+json": {
                            "schema": {
                                "fields": [
                                    {
                                        "name": "EmployeeID"
                                    },
                                    {
                                        "name": "Name"
                                    },
                                    {
                                        "name": "Department"
                                    },
                                    {
                                        "name": "Training"
                                    },
                                    {
                                        "name": "Location"
                                    }
                                ]
                            },
                            "data": [
                                {
                                    "0": "2345",
                                    "1": "J.Jone",
                                    "2": "Sales",
                                    "3": "24",
                                    "4": "Hungary"
                                },
                                {
                                    "0": "3456",
                                    "1": "S.Smith",
                                    "2": "Production",
                                    "3": "40",
                                    "4": "India"
                                },
                                {
                                    "0": "4567",
                                    "1": "A.Adams",
                                    "2": "Sales",
                                    "3": "60",
                                    "4": "USA"
                                },
                                {
                                    "0": "5678",
                                    "1": "B.Bates",
                                    "2": "Advertising",
                                    "3": "16",
                                    "4": "China"
                                },
                                {
                                    "0": "6789",
                                    "1": "D.Davis",
                                    "2": "Production",
                                    "3": "56",
                                    "4": "Prague"
                                },
                                {
                                    "0": "7900",
                                    "1": "C.Cole",
                                    "2": "Shipping",
                                    "3": "32",
                                    "4": "Chile"
                                },
                                {
                                    "0": "12344",
                                    "1": "Aniket",
                                    "2": "Sales",
                                    "3": "40",
                                    "4": "NULL"
                                },
                                {
                                    "0": "10122",
                                    "1": "F.Files",
                                    "2": "Advertising",
                                    "3": "24",
                                    "4": "Ukrain"
                                },
                                {
                                    "0": "11233",
                                    "1": "G.Gates",
                                    "2": "Advertising",
                                    "3": "48",
                                    "4": "NULL"
                                }
                            ]
                        },
                        "text/html": [
                            "<table>",
                            "<tr><th>EmployeeID</th><th>Name</th><th>Department</th><th>Training</th><th>Location</th></tr>",
                            "<tr><td>2345</td><td>J.Jone</td><td>Sales</td><td>24</td><td>Hungary</td></tr>",
                            "<tr><td>3456</td><td>S.Smith</td><td>Production</td><td>40</td><td>India</td></tr>",
                            "<tr><td>4567</td><td>A.Adams</td><td>Sales</td><td>60</td><td>USA</td></tr>",
                            "<tr><td>5678</td><td>B.Bates</td><td>Advertising</td><td>16</td><td>China</td></tr>",
                            "<tr><td>6789</td><td>D.Davis</td><td>Production</td><td>56</td><td>Prague</td></tr>",
                            "<tr><td>7900</td><td>C.Cole</td><td>Shipping</td><td>32</td><td>Chile</td></tr>",
                            "<tr><td>12344</td><td>Aniket</td><td>Sales</td><td>40</td><td>NULL</td></tr>",
                            "<tr><td>10122</td><td>F.Files</td><td>Advertising</td><td>24</td><td>Ukrain</td></tr>",
                            "<tr><td>11233</td><td>G.Gates</td><td>Advertising</td><td>48</td><td>NULL</td></tr>",
                            "</table>"
                        ]
                    }
                }
            ],
            "execution_count": 74
        },
        {
            "cell_type": "code",
            "source": [
                "sp_rename 'Employee.id','EmployeeID'"
            ],
            "metadata": {
                "language": "sql",
                "azdata_cell_guid": "69271323-d7b4-417c-bdfa-dadee301a8bb"
            },
            "outputs": [
                {
                    "output_type": "display_data",
                    "data": {
                        "text/html": "Caution: Changing any part of an object name could break scripts and stored procedures."
                    },
                    "metadata": {}
                },
                {
                    "output_type": "display_data",
                    "data": {
                        "text/html": "Total execution time: 00:00:00.002"
                    },
                    "metadata": {}
                }
            ],
            "execution_count": 58
        },
        {
            "cell_type": "code",
            "source": [
                "SELECT * FROM Employee WHERE Department in('Sales','Shipping')"
            ],
            "metadata": {
                "language": "sql",
                "azdata_cell_guid": "57d8cc47-0738-4d32-b2b7-a252726131b5"
            },
            "outputs": [
                {
                    "output_type": "display_data",
                    "data": {
                        "text/html": "(4 rows affected)"
                    },
                    "metadata": {}
                },
                {
                    "output_type": "display_data",
                    "data": {
                        "text/html": "Total execution time: 00:00:00.003"
                    },
                    "metadata": {}
                },
                {
                    "output_type": "execute_result",
                    "metadata": {},
                    "execution_count": 60,
                    "data": {
                        "application/vnd.dataresource+json": {
                            "schema": {
                                "fields": [
                                    {
                                        "name": "EmployeeID"
                                    },
                                    {
                                        "name": "Name"
                                    },
                                    {
                                        "name": "Department"
                                    },
                                    {
                                        "name": "Hire_Date"
                                    },
                                    {
                                        "name": "Training"
                                    },
                                    {
                                        "name": "Location"
                                    }
                                ]
                            },
                            "data": [
                                {
                                    "0": "2345",
                                    "1": "J.Jone",
                                    "2": "Sales",
                                    "3": "1992-06-18",
                                    "4": "24",
                                    "5": "Hungary"
                                },
                                {
                                    "0": "4567",
                                    "1": "A.Adams",
                                    "2": "Sales",
                                    "3": "1998-11-18",
                                    "4": "60",
                                    "5": "USA"
                                },
                                {
                                    "0": "7900",
                                    "1": "C.Cole",
                                    "2": "Shipping",
                                    "3": "1991-05-18",
                                    "4": "32",
                                    "5": "Chile"
                                },
                                {
                                    "0": "9011",
                                    "1": "E.Ellis",
                                    "2": "Sales",
                                    "3": "1998-12-15",
                                    "4": "80",
                                    "5": "Itlay"
                                }
                            ]
                        },
                        "text/html": [
                            "<table>",
                            "<tr><th>EmployeeID</th><th>Name</th><th>Department</th><th>Hire_Date</th><th>Training</th><th>Location</th></tr>",
                            "<tr><td>2345</td><td>J.Jone</td><td>Sales</td><td>1992-06-18</td><td>24</td><td>Hungary</td></tr>",
                            "<tr><td>4567</td><td>A.Adams</td><td>Sales</td><td>1998-11-18</td><td>60</td><td>USA</td></tr>",
                            "<tr><td>7900</td><td>C.Cole</td><td>Shipping</td><td>1991-05-18</td><td>32</td><td>Chile</td></tr>",
                            "<tr><td>9011</td><td>E.Ellis</td><td>Sales</td><td>1998-12-15</td><td>80</td><td>Itlay</td></tr>",
                            "</table>"
                        ]
                    }
                }
            ],
            "execution_count": 60
        },
        {
            "cell_type": "code",
            "source": [
                "SELECT * FROM Employee WHERE Hire_Date BETWEEN '01/01/1991' and '12/20/1998'"
            ],
            "metadata": {
                "language": "sql",
                "azdata_cell_guid": "90366bfd-37c7-4b93-8f21-ea6be2898b2b"
            },
            "outputs": [
                {
                    "output_type": "display_data",
                    "data": {
                        "text/html": "(5 rows affected)"
                    },
                    "metadata": {}
                },
                {
                    "output_type": "display_data",
                    "data": {
                        "text/html": "Total execution time: 00:00:00.002"
                    },
                    "metadata": {}
                },
                {
                    "output_type": "execute_result",
                    "metadata": {},
                    "execution_count": 62,
                    "data": {
                        "application/vnd.dataresource+json": {
                            "schema": {
                                "fields": [
                                    {
                                        "name": "EmployeeID"
                                    },
                                    {
                                        "name": "Name"
                                    },
                                    {
                                        "name": "Department"
                                    },
                                    {
                                        "name": "Hire_Date"
                                    },
                                    {
                                        "name": "Training"
                                    },
                                    {
                                        "name": "Location"
                                    }
                                ]
                            },
                            "data": [
                                {
                                    "0": "2345",
                                    "1": "J.Jone",
                                    "2": "Sales",
                                    "3": "1992-06-18",
                                    "4": "24",
                                    "5": "Hungary"
                                },
                                {
                                    "0": "3456",
                                    "1": "S.Smith",
                                    "2": "Production",
                                    "3": "1998-02-12",
                                    "4": "40",
                                    "5": "India"
                                },
                                {
                                    "0": "4567",
                                    "1": "A.Adams",
                                    "2": "Sales",
                                    "3": "1998-11-18",
                                    "4": "60",
                                    "5": "USA"
                                },
                                {
                                    "0": "7900",
                                    "1": "C.Cole",
                                    "2": "Shipping",
                                    "3": "1991-05-18",
                                    "4": "32",
                                    "5": "Chile"
                                },
                                {
                                    "0": "9011",
                                    "1": "E.Ellis",
                                    "2": "Sales",
                                    "3": "1998-12-15",
                                    "4": "80",
                                    "5": "Itlay"
                                }
                            ]
                        },
                        "text/html": [
                            "<table>",
                            "<tr><th>EmployeeID</th><th>Name</th><th>Department</th><th>Hire_Date</th><th>Training</th><th>Location</th></tr>",
                            "<tr><td>2345</td><td>J.Jone</td><td>Sales</td><td>1992-06-18</td><td>24</td><td>Hungary</td></tr>",
                            "<tr><td>3456</td><td>S.Smith</td><td>Production</td><td>1998-02-12</td><td>40</td><td>India</td></tr>",
                            "<tr><td>4567</td><td>A.Adams</td><td>Sales</td><td>1998-11-18</td><td>60</td><td>USA</td></tr>",
                            "<tr><td>7900</td><td>C.Cole</td><td>Shipping</td><td>1991-05-18</td><td>32</td><td>Chile</td></tr>",
                            "<tr><td>9011</td><td>E.Ellis</td><td>Sales</td><td>1998-12-15</td><td>80</td><td>Itlay</td></tr>",
                            "</table>"
                        ]
                    }
                }
            ],
            "execution_count": 62
        },
        {
            "cell_type": "code",
            "source": [
                "select * into Employee1 from Employee WHERE EmployeeID=2;\r\n",
                "SELECT * from Employee1;"
            ],
            "metadata": {
                "language": "sql",
                "azdata_cell_guid": "27c16410-4b13-435d-a16a-325bcca14a21"
            },
            "outputs": [
                {
                    "output_type": "display_data",
                    "data": {
                        "text/html": "(0 rows affected)"
                    },
                    "metadata": {}
                },
                {
                    "output_type": "display_data",
                    "data": {
                        "text/html": "Total execution time: 00:00:00.006"
                    },
                    "metadata": {}
                },
                {
                    "output_type": "execute_result",
                    "metadata": {},
                    "execution_count": 64,
                    "data": {
                        "application/vnd.dataresource+json": {
                            "schema": {
                                "fields": [
                                    {
                                        "name": "EmployeeID"
                                    },
                                    {
                                        "name": "Name"
                                    },
                                    {
                                        "name": "Department"
                                    },
                                    {
                                        "name": "Hire_Date"
                                    },
                                    {
                                        "name": "Training"
                                    },
                                    {
                                        "name": "Location"
                                    }
                                ]
                            },
                            "data": []
                        },
                        "text/html": [
                            "<table>",
                            "<tr><th>EmployeeID</th><th>Name</th><th>Department</th><th>Hire_Date</th><th>Training</th><th>Location</th></tr>",
                            "</table>"
                        ]
                    }
                }
            ],
            "execution_count": 64
        },
        {
            "cell_type": "code",
            "source": [
                "SELECT * from Employee where Training>40"
            ],
            "metadata": {
                "language": "sql",
                "azdata_cell_guid": "61bc1b9c-a3f1-4f2f-a05c-b43dd5192237"
            },
            "outputs": [
                {
                    "output_type": "display_data",
                    "data": {
                        "text/html": "(4 rows affected)"
                    },
                    "metadata": {}
                },
                {
                    "output_type": "display_data",
                    "data": {
                        "text/html": "Total execution time: 00:00:00.007"
                    },
                    "metadata": {}
                },
                {
                    "output_type": "execute_result",
                    "metadata": {},
                    "execution_count": 66,
                    "data": {
                        "application/vnd.dataresource+json": {
                            "schema": {
                                "fields": [
                                    {
                                        "name": "EmployeeID"
                                    },
                                    {
                                        "name": "Name"
                                    },
                                    {
                                        "name": "Department"
                                    },
                                    {
                                        "name": "Hire_Date"
                                    },
                                    {
                                        "name": "Training"
                                    },
                                    {
                                        "name": "Location"
                                    }
                                ]
                            },
                            "data": [
                                {
                                    "0": "4567",
                                    "1": "A.Adams",
                                    "2": "Sales",
                                    "3": "1998-11-18",
                                    "4": "60",
                                    "5": "USA"
                                },
                                {
                                    "0": "6789",
                                    "1": "D.Davis",
                                    "2": "Production",
                                    "3": "1999-07-26",
                                    "4": "56",
                                    "5": "Prague"
                                },
                                {
                                    "0": "9011",
                                    "1": "E.Ellis",
                                    "2": "Sales",
                                    "3": "1998-12-15",
                                    "4": "80",
                                    "5": "Itlay"
                                },
                                {
                                    "0": "11233",
                                    "1": "G.Gates",
                                    "2": "Advertising",
                                    "3": "1999-09-15",
                                    "4": "48",
                                    "5": "NULL"
                                }
                            ]
                        },
                        "text/html": [
                            "<table>",
                            "<tr><th>EmployeeID</th><th>Name</th><th>Department</th><th>Hire_Date</th><th>Training</th><th>Location</th></tr>",
                            "<tr><td>4567</td><td>A.Adams</td><td>Sales</td><td>1998-11-18</td><td>60</td><td>USA</td></tr>",
                            "<tr><td>6789</td><td>D.Davis</td><td>Production</td><td>1999-07-26</td><td>56</td><td>Prague</td></tr>",
                            "<tr><td>9011</td><td>E.Ellis</td><td>Sales</td><td>1998-12-15</td><td>80</td><td>Itlay</td></tr>",
                            "<tr><td>11233</td><td>G.Gates</td><td>Advertising</td><td>1999-09-15</td><td>48</td><td>NULL</td></tr>",
                            "</table>"
                        ]
                    }
                }
            ],
            "execution_count": 66
        },
        {
            "cell_type": "code",
            "source": [
                "select * into Employee2 from Employee;\r\n",
                "SELECT * From Employee2"
            ],
            "metadata": {
                "language": "sql",
                "azdata_cell_guid": "738c526e-b39f-4ed5-8bb2-cb4ce52f3d0a"
            },
            "outputs": [
                {
                    "output_type": "display_data",
                    "data": {
                        "text/html": "(9 rows affected)"
                    },
                    "metadata": {}
                },
                {
                    "output_type": "display_data",
                    "data": {
                        "text/html": "(9 rows affected)"
                    },
                    "metadata": {}
                },
                {
                    "output_type": "display_data",
                    "data": {
                        "text/html": "Total execution time: 00:00:00.014"
                    },
                    "metadata": {}
                },
                {
                    "output_type": "execute_result",
                    "metadata": {},
                    "execution_count": 67,
                    "data": {
                        "application/vnd.dataresource+json": {
                            "schema": {
                                "fields": [
                                    {
                                        "name": "EmployeeID"
                                    },
                                    {
                                        "name": "Name"
                                    },
                                    {
                                        "name": "Department"
                                    },
                                    {
                                        "name": "Hire_Date"
                                    },
                                    {
                                        "name": "Training"
                                    },
                                    {
                                        "name": "Location"
                                    }
                                ]
                            },
                            "data": [
                                {
                                    "0": "2345",
                                    "1": "J.Jone",
                                    "2": "Sales",
                                    "3": "1992-06-18",
                                    "4": "24",
                                    "5": "Hungary"
                                },
                                {
                                    "0": "3456",
                                    "1": "S.Smith",
                                    "2": "Production",
                                    "3": "1998-02-12",
                                    "4": "40",
                                    "5": "India"
                                },
                                {
                                    "0": "4567",
                                    "1": "A.Adams",
                                    "2": "Sales",
                                    "3": "1998-11-18",
                                    "4": "60",
                                    "5": "USA"
                                },
                                {
                                    "0": "5678",
                                    "1": "B.Bates",
                                    "2": "Advertising",
                                    "3": "1985-03-10",
                                    "4": "16",
                                    "5": "China"
                                },
                                {
                                    "0": "6789",
                                    "1": "D.Davis",
                                    "2": "Production",
                                    "3": "1999-07-26",
                                    "4": "56",
                                    "5": "Prague"
                                },
                                {
                                    "0": "7900",
                                    "1": "C.Cole",
                                    "2": "Shipping",
                                    "3": "1991-05-18",
                                    "4": "32",
                                    "5": "Chile"
                                },
                                {
                                    "0": "9011",
                                    "1": "E.Ellis",
                                    "2": "Sales",
                                    "3": "1998-12-15",
                                    "4": "80",
                                    "5": "Itlay"
                                },
                                {
                                    "0": "10122",
                                    "1": "F.Files",
                                    "2": "Advertising",
                                    "3": "1990-10-17",
                                    "4": "24",
                                    "5": "Ukrain"
                                },
                                {
                                    "0": "11233",
                                    "1": "G.Gates",
                                    "2": "Advertising",
                                    "3": "1999-09-15",
                                    "4": "48",
                                    "5": "NULL"
                                }
                            ]
                        },
                        "text/html": [
                            "<table>",
                            "<tr><th>EmployeeID</th><th>Name</th><th>Department</th><th>Hire_Date</th><th>Training</th><th>Location</th></tr>",
                            "<tr><td>2345</td><td>J.Jone</td><td>Sales</td><td>1992-06-18</td><td>24</td><td>Hungary</td></tr>",
                            "<tr><td>3456</td><td>S.Smith</td><td>Production</td><td>1998-02-12</td><td>40</td><td>India</td></tr>",
                            "<tr><td>4567</td><td>A.Adams</td><td>Sales</td><td>1998-11-18</td><td>60</td><td>USA</td></tr>",
                            "<tr><td>5678</td><td>B.Bates</td><td>Advertising</td><td>1985-03-10</td><td>16</td><td>China</td></tr>",
                            "<tr><td>6789</td><td>D.Davis</td><td>Production</td><td>1999-07-26</td><td>56</td><td>Prague</td></tr>",
                            "<tr><td>7900</td><td>C.Cole</td><td>Shipping</td><td>1991-05-18</td><td>32</td><td>Chile</td></tr>",
                            "<tr><td>9011</td><td>E.Ellis</td><td>Sales</td><td>1998-12-15</td><td>80</td><td>Itlay</td></tr>",
                            "<tr><td>10122</td><td>F.Files</td><td>Advertising</td><td>1990-10-17</td><td>24</td><td>Ukrain</td></tr>",
                            "<tr><td>11233</td><td>G.Gates</td><td>Advertising</td><td>1999-09-15</td><td>48</td><td>NULL</td></tr>",
                            "</table>"
                        ]
                    }
                }
            ],
            "execution_count": 67
        },
        {
            "cell_type": "code",
            "source": [
                "DELETE  FROM Employee WHERE Training >60 "
            ],
            "metadata": {
                "language": "sql",
                "azdata_cell_guid": "5e8eb874-cb2b-4aa6-ae28-2f15184ce756"
            },
            "outputs": [
                {
                    "output_type": "display_data",
                    "data": {
                        "text/html": "(1 row affected)"
                    },
                    "metadata": {}
                },
                {
                    "output_type": "display_data",
                    "data": {
                        "text/html": "Total execution time: 00:00:00.003"
                    },
                    "metadata": {}
                }
            ],
            "execution_count": 69
        },
        {
            "cell_type": "code",
            "source": [
                "ALTER TABLE Employee DROP COLUMN Hire_Date"
            ],
            "metadata": {
                "language": "sql",
                "azdata_cell_guid": "d6b97ae0-cabe-4140-ad0b-1a009bdd682b"
            },
            "outputs": [
                {
                    "output_type": "display_data",
                    "data": {
                        "text/html": "Commands completed successfully."
                    },
                    "metadata": {}
                },
                {
                    "output_type": "display_data",
                    "data": {
                        "text/html": "Total execution time: 00:00:00.005"
                    },
                    "metadata": {}
                }
            ],
            "execution_count": 71
        },
        {
            "cell_type": "code",
            "source": [
                "alter table Employee alter column department varchar(34);"
            ],
            "metadata": {
                "language": "sql",
                "azdata_cell_guid": "3d3aa3fb-631d-4894-ad3b-73b8ea80fc1e"
            },
            "outputs": [
                {
                    "output_type": "display_data",
                    "data": {
                        "text/html": "Commands completed successfully."
                    },
                    "metadata": {}
                },
                {
                    "output_type": "display_data",
                    "data": {
                        "text/html": "Total execution time: 00:00:00.004"
                    },
                    "metadata": {}
                }
            ],
            "execution_count": 72
        },
        {
            "cell_type": "code",
            "source": [
                "INSERT into Employee(Name,Department,Training) VALUES('Aniket','Sales',40)"
            ],
            "metadata": {
                "language": "sql",
                "azdata_cell_guid": "cb98bd3d-2cd0-42da-9afd-f83b2201f478"
            },
            "outputs": [
                {
                    "output_type": "display_data",
                    "data": {
                        "text/html": "(1 row affected)"
                    },
                    "metadata": {}
                },
                {
                    "output_type": "display_data",
                    "data": {
                        "text/html": "Total execution time: 00:00:00.006"
                    },
                    "metadata": {}
                }
            ],
            "execution_count": 73
        }
    ]
}