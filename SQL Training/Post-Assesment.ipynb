{
    "metadata": {
        "kernelspec": {
            "name": "SQL",
            "display_name": "SQL",
            "language": "sql"
        },
        "language_info": {
            "name": "sql",
            "version": ""
        }
    },
    "nbformat_minor": 2,
    "nbformat": 4,
    "cells": [
        {
            "cell_type": "code",
            "source": [
                "select * from regions\r\n",
                "select * from countries\r\n",
                "select * from locations\r\n",
                "select * from jobs\r\n",
                "select * from departments\r\n",
                "select * from employees\r\n",
                "select * from dependents"
            ],
            "metadata": {
                "azdata_cell_guid": "72909e70-fde8-40b6-ab93-9f924d242f45",
                "language": "sql"
            },
            "outputs": [
                {
                    "output_type": "display_data",
                    "data": {
                        "text/html": "(4 rows affected)"
                    },
                    "metadata": {}
                },
                {
                    "output_type": "display_data",
                    "data": {
                        "text/html": "(25 rows affected)"
                    },
                    "metadata": {}
                },
                {
                    "output_type": "display_data",
                    "data": {
                        "text/html": "(7 rows affected)"
                    },
                    "metadata": {}
                },
                {
                    "output_type": "display_data",
                    "data": {
                        "text/html": "(20 rows affected)"
                    },
                    "metadata": {}
                },
                {
                    "output_type": "display_data",
                    "data": {
                        "text/html": "(11 rows affected)"
                    },
                    "metadata": {}
                },
                {
                    "output_type": "display_data",
                    "data": {
                        "text/html": "(40 rows affected)"
                    },
                    "metadata": {}
                },
                {
                    "output_type": "display_data",
                    "data": {
                        "text/html": "(30 rows affected)"
                    },
                    "metadata": {}
                },
                {
                    "output_type": "display_data",
                    "data": {
                        "text/html": "Total execution time: 00:00:00.063"
                    },
                    "metadata": {}
                },
                {
                    "output_type": "execute_result",
                    "execution_count": 1,
                    "data": {
                        "application/vnd.dataresource+json": {
                            "schema": {
                                "fields": [
                                    {
                                        "name": "region_id"
                                    },
                                    {
                                        "name": "region_name"
                                    }
                                ]
                            },
                            "data": [
                                {
                                    "0": "1",
                                    "1": "Europe"
                                },
                                {
                                    "0": "2",
                                    "1": "Americas"
                                },
                                {
                                    "0": "3",
                                    "1": "Asia"
                                },
                                {
                                    "0": "4",
                                    "1": "Middle East and Africa"
                                }
                            ]
                        },
                        "text/html": "<table><tr><th>region_id</th><th>region_name</th></tr><tr><td>1</td><td>Europe</td></tr><tr><td>2</td><td>Americas</td></tr><tr><td>3</td><td>Asia</td></tr><tr><td>4</td><td>Middle East and Africa</td></tr></table>"
                    },
                    "metadata": {}
                },
                {
                    "output_type": "execute_result",
                    "execution_count": 1,
                    "data": {
                        "application/vnd.dataresource+json": {
                            "schema": {
                                "fields": [
                                    {
                                        "name": "country_id"
                                    },
                                    {
                                        "name": "country_name"
                                    },
                                    {
                                        "name": "region_id"
                                    }
                                ]
                            },
                            "data": [
                                {
                                    "0": "AR",
                                    "1": "Argentina",
                                    "2": "2"
                                },
                                {
                                    "0": "AU",
                                    "1": "Australia",
                                    "2": "3"
                                },
                                {
                                    "0": "BE",
                                    "1": "Belgium",
                                    "2": "1"
                                },
                                {
                                    "0": "BR",
                                    "1": "Brazil",
                                    "2": "2"
                                },
                                {
                                    "0": "CA",
                                    "1": "Canada",
                                    "2": "2"
                                },
                                {
                                    "0": "CH",
                                    "1": "Switzerland",
                                    "2": "1"
                                },
                                {
                                    "0": "CN",
                                    "1": "China",
                                    "2": "3"
                                },
                                {
                                    "0": "DE",
                                    "1": "Germany",
                                    "2": "1"
                                },
                                {
                                    "0": "DK",
                                    "1": "Denmark",
                                    "2": "1"
                                },
                                {
                                    "0": "EG",
                                    "1": "Egypt",
                                    "2": "4"
                                },
                                {
                                    "0": "FR",
                                    "1": "France",
                                    "2": "1"
                                },
                                {
                                    "0": "HK",
                                    "1": "HongKong",
                                    "2": "3"
                                },
                                {
                                    "0": "IL",
                                    "1": "Israel",
                                    "2": "4"
                                },
                                {
                                    "0": "IN",
                                    "1": "India",
                                    "2": "3"
                                },
                                {
                                    "0": "IT",
                                    "1": "Italy",
                                    "2": "1"
                                },
                                {
                                    "0": "JP",
                                    "1": "Japan",
                                    "2": "3"
                                },
                                {
                                    "0": "KW",
                                    "1": "Kuwait",
                                    "2": "4"
                                },
                                {
                                    "0": "MX",
                                    "1": "Mexico",
                                    "2": "2"
                                },
                                {
                                    "0": "NG",
                                    "1": "Nigeria",
                                    "2": "4"
                                },
                                {
                                    "0": "NL",
                                    "1": "Netherlands",
                                    "2": "1"
                                },
                                {
                                    "0": "SG",
                                    "1": "Singapore",
                                    "2": "3"
                                },
                                {
                                    "0": "UK",
                                    "1": "United Kingdom",
                                    "2": "1"
                                },
                                {
                                    "0": "US",
                                    "1": "United States of America",
                                    "2": "2"
                                },
                                {
                                    "0": "ZM",
                                    "1": "Zambia",
                                    "2": "4"
                                },
                                {
                                    "0": "ZW",
                                    "1": "Zimbabwe",
                                    "2": "4"
                                }
                            ]
                        },
                        "text/html": "<table><tr><th>country_id</th><th>country_name</th><th>region_id</th></tr><tr><td>AR</td><td>Argentina</td><td>2</td></tr><tr><td>AU</td><td>Australia</td><td>3</td></tr><tr><td>BE</td><td>Belgium</td><td>1</td></tr><tr><td>BR</td><td>Brazil</td><td>2</td></tr><tr><td>CA</td><td>Canada</td><td>2</td></tr><tr><td>CH</td><td>Switzerland</td><td>1</td></tr><tr><td>CN</td><td>China</td><td>3</td></tr><tr><td>DE</td><td>Germany</td><td>1</td></tr><tr><td>DK</td><td>Denmark</td><td>1</td></tr><tr><td>EG</td><td>Egypt</td><td>4</td></tr><tr><td>FR</td><td>France</td><td>1</td></tr><tr><td>HK</td><td>HongKong</td><td>3</td></tr><tr><td>IL</td><td>Israel</td><td>4</td></tr><tr><td>IN</td><td>India</td><td>3</td></tr><tr><td>IT</td><td>Italy</td><td>1</td></tr><tr><td>JP</td><td>Japan</td><td>3</td></tr><tr><td>KW</td><td>Kuwait</td><td>4</td></tr><tr><td>MX</td><td>Mexico</td><td>2</td></tr><tr><td>NG</td><td>Nigeria</td><td>4</td></tr><tr><td>NL</td><td>Netherlands</td><td>1</td></tr><tr><td>SG</td><td>Singapore</td><td>3</td></tr><tr><td>UK</td><td>United Kingdom</td><td>1</td></tr><tr><td>US</td><td>United States of America</td><td>2</td></tr><tr><td>ZM</td><td>Zambia</td><td>4</td></tr><tr><td>ZW</td><td>Zimbabwe</td><td>4</td></tr></table>"
                    },
                    "metadata": {}
                },
                {
                    "output_type": "execute_result",
                    "execution_count": 1,
                    "data": {
                        "application/vnd.dataresource+json": {
                            "schema": {
                                "fields": [
                                    {
                                        "name": "location_id"
                                    },
                                    {
                                        "name": "street_address"
                                    },
                                    {
                                        "name": "postal_code"
                                    },
                                    {
                                        "name": "city"
                                    },
                                    {
                                        "name": "state_province"
                                    },
                                    {
                                        "name": "country_id"
                                    }
                                ]
                            },
                            "data": [
                                {
                                    "0": "1400",
                                    "1": "2014 Jabberwocky Rd",
                                    "2": "26192",
                                    "3": "Southlake",
                                    "4": "Texas",
                                    "5": "US"
                                },
                                {
                                    "0": "1500",
                                    "1": "2011 Interiors Blvd",
                                    "2": "99236",
                                    "3": "South San Francisco",
                                    "4": "California",
                                    "5": "US"
                                },
                                {
                                    "0": "1700",
                                    "1": "2004 Charade Rd",
                                    "2": "98199",
                                    "3": "Seattle",
                                    "4": "Washington",
                                    "5": "US"
                                },
                                {
                                    "0": "1800",
                                    "1": "147 Spadina Ave",
                                    "2": "M5V 2L7",
                                    "3": "Toronto",
                                    "4": "Ontario",
                                    "5": "CA"
                                },
                                {
                                    "0": "2400",
                                    "1": "8204 Arthur St",
                                    "2": "NULL",
                                    "3": "London",
                                    "4": "NULL",
                                    "5": "UK"
                                },
                                {
                                    "0": "2500",
                                    "1": "Magdalen Centre, The Oxford Science Park",
                                    "2": "OX9 9ZB",
                                    "3": "Oxford",
                                    "4": "Oxford",
                                    "5": "UK"
                                },
                                {
                                    "0": "2700",
                                    "1": "Schwanthalerstr. 7031",
                                    "2": "80925",
                                    "3": "Munich",
                                    "4": "Bavaria",
                                    "5": "DE"
                                }
                            ]
                        },
                        "text/html": "<table><tr><th>location_id</th><th>street_address</th><th>postal_code</th><th>city</th><th>state_province</th><th>country_id</th></tr><tr><td>1400</td><td>2014 Jabberwocky Rd</td><td>26192</td><td>Southlake</td><td>Texas</td><td>US</td></tr><tr><td>1500</td><td>2011 Interiors Blvd</td><td>99236</td><td>South San Francisco</td><td>California</td><td>US</td></tr><tr><td>1700</td><td>2004 Charade Rd</td><td>98199</td><td>Seattle</td><td>Washington</td><td>US</td></tr><tr><td>1800</td><td>147 Spadina Ave</td><td>M5V 2L7</td><td>Toronto</td><td>Ontario</td><td>CA</td></tr><tr><td>2400</td><td>8204 Arthur St</td><td>NULL</td><td>London</td><td>NULL</td><td>UK</td></tr><tr><td>2500</td><td>Magdalen Centre, The Oxford Science Park</td><td>OX9 9ZB</td><td>Oxford</td><td>Oxford</td><td>UK</td></tr><tr><td>2700</td><td>Schwanthalerstr. 7031</td><td>80925</td><td>Munich</td><td>Bavaria</td><td>DE</td></tr></table>"
                    },
                    "metadata": {}
                },
                {
                    "output_type": "execute_result",
                    "execution_count": 1,
                    "data": {
                        "application/vnd.dataresource+json": {
                            "schema": {
                                "fields": [
                                    {
                                        "name": "job_id"
                                    },
                                    {
                                        "name": "job_title"
                                    },
                                    {
                                        "name": "min_salary"
                                    },
                                    {
                                        "name": "max_salary"
                                    }
                                ]
                            },
                            "data": [
                                {
                                    "0": "1",
                                    "1": "Public Accountant",
                                    "2": "4200.00",
                                    "3": "9000.00"
                                },
                                {
                                    "0": "2",
                                    "1": "Accounting Manager",
                                    "2": "8200.00",
                                    "3": "16000.00"
                                },
                                {
                                    "0": "3",
                                    "1": "Administration Assistant",
                                    "2": "3000.00",
                                    "3": "6000.00"
                                },
                                {
                                    "0": "4",
                                    "1": "President",
                                    "2": "20000.00",
                                    "3": "40000.00"
                                },
                                {
                                    "0": "5",
                                    "1": "Administration Vice President",
                                    "2": "15000.00",
                                    "3": "30000.00"
                                },
                                {
                                    "0": "6",
                                    "1": "Accountant",
                                    "2": "4200.00",
                                    "3": "9000.00"
                                },
                                {
                                    "0": "7",
                                    "1": "Finance Manager",
                                    "2": "8200.00",
                                    "3": "16000.00"
                                },
                                {
                                    "0": "8",
                                    "1": "Human Resources Representative",
                                    "2": "4000.00",
                                    "3": "9000.00"
                                },
                                {
                                    "0": "9",
                                    "1": "Programmer",
                                    "2": "4000.00",
                                    "3": "10000.00"
                                },
                                {
                                    "0": "10",
                                    "1": "Marketing Manager",
                                    "2": "9000.00",
                                    "3": "15000.00"
                                },
                                {
                                    "0": "11",
                                    "1": "Marketing Representative",
                                    "2": "4000.00",
                                    "3": "9000.00"
                                },
                                {
                                    "0": "12",
                                    "1": "Public Relations Representative",
                                    "2": "4500.00",
                                    "3": "10500.00"
                                },
                                {
                                    "0": "13",
                                    "1": "Purchasing Clerk",
                                    "2": "2500.00",
                                    "3": "5500.00"
                                },
                                {
                                    "0": "14",
                                    "1": "Purchasing Manager",
                                    "2": "8000.00",
                                    "3": "15000.00"
                                },
                                {
                                    "0": "15",
                                    "1": "Sales Manager",
                                    "2": "10000.00",
                                    "3": "20000.00"
                                },
                                {
                                    "0": "16",
                                    "1": "Sales Representative",
                                    "2": "6000.00",
                                    "3": "12000.00"
                                },
                                {
                                    "0": "17",
                                    "1": "Shipping Clerk",
                                    "2": "2500.00",
                                    "3": "5500.00"
                                },
                                {
                                    "0": "18",
                                    "1": "Stock Clerk",
                                    "2": "2000.00",
                                    "3": "5000.00"
                                },
                                {
                                    "0": "19",
                                    "1": "Stock Manager",
                                    "2": "5500.00",
                                    "3": "8500.00"
                                },
                                {
                                    "0": "20",
                                    "1": "Public Accountant",
                                    "2": "4200.00",
                                    "3": "9000.00"
                                }
                            ]
                        },
                        "text/html": "<table><tr><th>job_id</th><th>job_title</th><th>min_salary</th><th>max_salary</th></tr><tr><td>1</td><td>Public Accountant</td><td>4200.00</td><td>9000.00</td></tr><tr><td>2</td><td>Accounting Manager</td><td>8200.00</td><td>16000.00</td></tr><tr><td>3</td><td>Administration Assistant</td><td>3000.00</td><td>6000.00</td></tr><tr><td>4</td><td>President</td><td>20000.00</td><td>40000.00</td></tr><tr><td>5</td><td>Administration Vice President</td><td>15000.00</td><td>30000.00</td></tr><tr><td>6</td><td>Accountant</td><td>4200.00</td><td>9000.00</td></tr><tr><td>7</td><td>Finance Manager</td><td>8200.00</td><td>16000.00</td></tr><tr><td>8</td><td>Human Resources Representative</td><td>4000.00</td><td>9000.00</td></tr><tr><td>9</td><td>Programmer</td><td>4000.00</td><td>10000.00</td></tr><tr><td>10</td><td>Marketing Manager</td><td>9000.00</td><td>15000.00</td></tr><tr><td>11</td><td>Marketing Representative</td><td>4000.00</td><td>9000.00</td></tr><tr><td>12</td><td>Public Relations Representative</td><td>4500.00</td><td>10500.00</td></tr><tr><td>13</td><td>Purchasing Clerk</td><td>2500.00</td><td>5500.00</td></tr><tr><td>14</td><td>Purchasing Manager</td><td>8000.00</td><td>15000.00</td></tr><tr><td>15</td><td>Sales Manager</td><td>10000.00</td><td>20000.00</td></tr><tr><td>16</td><td>Sales Representative</td><td>6000.00</td><td>12000.00</td></tr><tr><td>17</td><td>Shipping Clerk</td><td>2500.00</td><td>5500.00</td></tr><tr><td>18</td><td>Stock Clerk</td><td>2000.00</td><td>5000.00</td></tr><tr><td>19</td><td>Stock Manager</td><td>5500.00</td><td>8500.00</td></tr><tr><td>20</td><td>Public Accountant</td><td>4200.00</td><td>9000.00</td></tr></table>"
                    },
                    "metadata": {}
                },
                {
                    "output_type": "execute_result",
                    "execution_count": 1,
                    "data": {
                        "application/vnd.dataresource+json": {
                            "schema": {
                                "fields": [
                                    {
                                        "name": "department_id"
                                    },
                                    {
                                        "name": "department_name"
                                    },
                                    {
                                        "name": "location_id"
                                    }
                                ]
                            },
                            "data": [
                                {
                                    "0": "1",
                                    "1": "Administration",
                                    "2": "1700"
                                },
                                {
                                    "0": "2",
                                    "1": "Marketing",
                                    "2": "1800"
                                },
                                {
                                    "0": "3",
                                    "1": "Purchasing",
                                    "2": "1700"
                                },
                                {
                                    "0": "4",
                                    "1": "Human Resources",
                                    "2": "2400"
                                },
                                {
                                    "0": "5",
                                    "1": "Shipping",
                                    "2": "1500"
                                },
                                {
                                    "0": "6",
                                    "1": "IT",
                                    "2": "1400"
                                },
                                {
                                    "0": "7",
                                    "1": "Public Relations",
                                    "2": "2700"
                                },
                                {
                                    "0": "8",
                                    "1": "Sales",
                                    "2": "2500"
                                },
                                {
                                    "0": "9",
                                    "1": "Executive",
                                    "2": "1700"
                                },
                                {
                                    "0": "10",
                                    "1": "Finance",
                                    "2": "1700"
                                },
                                {
                                    "0": "11",
                                    "1": "Accounting",
                                    "2": "1700"
                                }
                            ]
                        },
                        "text/html": "<table><tr><th>department_id</th><th>department_name</th><th>location_id</th></tr><tr><td>1</td><td>Administration</td><td>1700</td></tr><tr><td>2</td><td>Marketing</td><td>1800</td></tr><tr><td>3</td><td>Purchasing</td><td>1700</td></tr><tr><td>4</td><td>Human Resources</td><td>2400</td></tr><tr><td>5</td><td>Shipping</td><td>1500</td></tr><tr><td>6</td><td>IT</td><td>1400</td></tr><tr><td>7</td><td>Public Relations</td><td>2700</td></tr><tr><td>8</td><td>Sales</td><td>2500</td></tr><tr><td>9</td><td>Executive</td><td>1700</td></tr><tr><td>10</td><td>Finance</td><td>1700</td></tr><tr><td>11</td><td>Accounting</td><td>1700</td></tr></table>"
                    },
                    "metadata": {}
                },
                {
                    "output_type": "execute_result",
                    "execution_count": 1,
                    "data": {
                        "application/vnd.dataresource+json": {
                            "schema": {
                                "fields": [
                                    {
                                        "name": "employee_id"
                                    },
                                    {
                                        "name": "first_name"
                                    },
                                    {
                                        "name": "last_name"
                                    },
                                    {
                                        "name": "email"
                                    },
                                    {
                                        "name": "phone_number"
                                    },
                                    {
                                        "name": "hire_date"
                                    },
                                    {
                                        "name": "job_id"
                                    },
                                    {
                                        "name": "salary"
                                    },
                                    {
                                        "name": "manager_id"
                                    },
                                    {
                                        "name": "department_id"
                                    }
                                ]
                            },
                            "data": [
                                {
                                    "0": "100",
                                    "1": "Steven",
                                    "2": "King",
                                    "3": "steven.king@sqltutorial.org",
                                    "4": "515.123.4567",
                                    "5": "1987-06-17",
                                    "6": "4",
                                    "7": "24000.00",
                                    "8": "NULL",
                                    "9": "9"
                                },
                                {
                                    "0": "101",
                                    "1": "Neena",
                                    "2": "Kochhar",
                                    "3": "neena.kochhar@sqltutorial.org",
                                    "4": "515.123.4568",
                                    "5": "1989-09-21",
                                    "6": "5",
                                    "7": "17000.00",
                                    "8": "100",
                                    "9": "9"
                                },
                                {
                                    "0": "102",
                                    "1": "Lex",
                                    "2": "De Haan",
                                    "3": "lex.de haan@sqltutorial.org",
                                    "4": "515.123.4569",
                                    "5": "1993-01-13",
                                    "6": "5",
                                    "7": "17000.00",
                                    "8": "100",
                                    "9": "9"
                                },
                                {
                                    "0": "103",
                                    "1": "Alexander",
                                    "2": "Hunold",
                                    "3": "alexander.hunold@sqltutorial.org",
                                    "4": "590.423.4567",
                                    "5": "1990-01-03",
                                    "6": "9",
                                    "7": "9000.00",
                                    "8": "102",
                                    "9": "6"
                                },
                                {
                                    "0": "104",
                                    "1": "Bruce",
                                    "2": "Ernst",
                                    "3": "bruce.ernst@sqltutorial.org",
                                    "4": "590.423.4568",
                                    "5": "1991-05-21",
                                    "6": "9",
                                    "7": "6000.00",
                                    "8": "103",
                                    "9": "6"
                                },
                                {
                                    "0": "105",
                                    "1": "David",
                                    "2": "Austin",
                                    "3": "david.austin@sqltutorial.org",
                                    "4": "590.423.4569",
                                    "5": "1997-06-25",
                                    "6": "9",
                                    "7": "4800.00",
                                    "8": "103",
                                    "9": "6"
                                },
                                {
                                    "0": "106",
                                    "1": "Valli",
                                    "2": "Pataballa",
                                    "3": "valli.pataballa@sqltutorial.org",
                                    "4": "590.423.4560",
                                    "5": "1998-02-05",
                                    "6": "9",
                                    "7": "4800.00",
                                    "8": "103",
                                    "9": "6"
                                },
                                {
                                    "0": "107",
                                    "1": "Diana",
                                    "2": "Lorentz",
                                    "3": "diana.lorentz@sqltutorial.org",
                                    "4": "590.423.5567",
                                    "5": "1999-02-07",
                                    "6": "9",
                                    "7": "4200.00",
                                    "8": "103",
                                    "9": "6"
                                },
                                {
                                    "0": "108",
                                    "1": "Nancy",
                                    "2": "Greenberg",
                                    "3": "nancy.greenberg@sqltutorial.org",
                                    "4": "515.124.4569",
                                    "5": "1994-08-17",
                                    "6": "7",
                                    "7": "12000.00",
                                    "8": "101",
                                    "9": "10"
                                },
                                {
                                    "0": "109",
                                    "1": "Daniel",
                                    "2": "Faviet",
                                    "3": "daniel.faviet@sqltutorial.org",
                                    "4": "515.124.4169",
                                    "5": "1994-08-16",
                                    "6": "6",
                                    "7": "9000.00",
                                    "8": "108",
                                    "9": "10"
                                },
                                {
                                    "0": "110",
                                    "1": "John",
                                    "2": "Chen",
                                    "3": "john.chen@sqltutorial.org",
                                    "4": "515.124.4269",
                                    "5": "1997-09-28",
                                    "6": "6",
                                    "7": "8200.00",
                                    "8": "108",
                                    "9": "10"
                                },
                                {
                                    "0": "111",
                                    "1": "Ismael",
                                    "2": "Sciarra",
                                    "3": "ismael.sciarra@sqltutorial.org",
                                    "4": "515.124.4369",
                                    "5": "1997-09-30",
                                    "6": "6",
                                    "7": "7700.00",
                                    "8": "108",
                                    "9": "10"
                                },
                                {
                                    "0": "112",
                                    "1": "Jose Manuel",
                                    "2": "Urman",
                                    "3": "jose manuel.urman@sqltutorial.org",
                                    "4": "515.124.4469",
                                    "5": "1998-03-07",
                                    "6": "6",
                                    "7": "7800.00",
                                    "8": "108",
                                    "9": "10"
                                },
                                {
                                    "0": "113",
                                    "1": "Luis",
                                    "2": "Popp",
                                    "3": "luis.popp@sqltutorial.org",
                                    "4": "515.124.4567",
                                    "5": "1999-12-07",
                                    "6": "6",
                                    "7": "6900.00",
                                    "8": "108",
                                    "9": "10"
                                },
                                {
                                    "0": "114",
                                    "1": "Den",
                                    "2": "Raphaely",
                                    "3": "den.raphaely@sqltutorial.org",
                                    "4": "515.127.4561",
                                    "5": "1994-12-07",
                                    "6": "14",
                                    "7": "11000.00",
                                    "8": "100",
                                    "9": "3"
                                },
                                {
                                    "0": "115",
                                    "1": "Alexander",
                                    "2": "Khoo",
                                    "3": "alexander.khoo@sqltutorial.org",
                                    "4": "515.127.4562",
                                    "5": "1995-05-18",
                                    "6": "13",
                                    "7": "3100.00",
                                    "8": "114",
                                    "9": "3"
                                },
                                {
                                    "0": "116",
                                    "1": "Shelli",
                                    "2": "Baida",
                                    "3": "shelli.baida@sqltutorial.org",
                                    "4": "515.127.4563",
                                    "5": "1997-12-24",
                                    "6": "13",
                                    "7": "2900.00",
                                    "8": "114",
                                    "9": "3"
                                },
                                {
                                    "0": "117",
                                    "1": "Sigal",
                                    "2": "Tobias",
                                    "3": "sigal.tobias@sqltutorial.org",
                                    "4": "515.127.4564",
                                    "5": "1997-07-24",
                                    "6": "13",
                                    "7": "2800.00",
                                    "8": "114",
                                    "9": "3"
                                },
                                {
                                    "0": "118",
                                    "1": "Guy",
                                    "2": "Himuro",
                                    "3": "guy.himuro@sqltutorial.org",
                                    "4": "515.127.4565",
                                    "5": "1998-11-15",
                                    "6": "13",
                                    "7": "2600.00",
                                    "8": "114",
                                    "9": "3"
                                },
                                {
                                    "0": "119",
                                    "1": "Karen",
                                    "2": "Colmenares",
                                    "3": "karen.colmenares@sqltutorial.org",
                                    "4": "515.127.4566",
                                    "5": "1999-08-10",
                                    "6": "13",
                                    "7": "2500.00",
                                    "8": "114",
                                    "9": "3"
                                },
                                {
                                    "0": "120",
                                    "1": "Matthew",
                                    "2": "Weiss",
                                    "3": "matthew.weiss@sqltutorial.org",
                                    "4": "650.123.1234",
                                    "5": "1996-07-18",
                                    "6": "19",
                                    "7": "8000.00",
                                    "8": "100",
                                    "9": "5"
                                },
                                {
                                    "0": "121",
                                    "1": "Adam",
                                    "2": "Fripp",
                                    "3": "adam.fripp@sqltutorial.org",
                                    "4": "650.123.2234",
                                    "5": "1997-04-10",
                                    "6": "19",
                                    "7": "8200.00",
                                    "8": "100",
                                    "9": "5"
                                },
                                {
                                    "0": "122",
                                    "1": "Payam",
                                    "2": "Kaufling",
                                    "3": "payam.kaufling@sqltutorial.org",
                                    "4": "650.123.3234",
                                    "5": "1995-05-01",
                                    "6": "19",
                                    "7": "7900.00",
                                    "8": "100",
                                    "9": "5"
                                },
                                {
                                    "0": "123",
                                    "1": "Shanta",
                                    "2": "Vollman",
                                    "3": "shanta.vollman@sqltutorial.org",
                                    "4": "650.123.4234",
                                    "5": "1997-10-10",
                                    "6": "19",
                                    "7": "6500.00",
                                    "8": "100",
                                    "9": "5"
                                },
                                {
                                    "0": "126",
                                    "1": "Irene",
                                    "2": "Mikkilineni",
                                    "3": "irene.mikkilineni@sqltutorial.org",
                                    "4": "650.124.1224",
                                    "5": "1998-09-28",
                                    "6": "18",
                                    "7": "2700.00",
                                    "8": "120",
                                    "9": "5"
                                },
                                {
                                    "0": "145",
                                    "1": "John",
                                    "2": "Russell",
                                    "3": "john.russell@sqltutorial.org",
                                    "4": "NULL",
                                    "5": "1996-10-01",
                                    "6": "15",
                                    "7": "14000.00",
                                    "8": "100",
                                    "9": "8"
                                },
                                {
                                    "0": "146",
                                    "1": "Karen",
                                    "2": "Partners",
                                    "3": "karen.partners@sqltutorial.org",
                                    "4": "NULL",
                                    "5": "1997-01-05",
                                    "6": "15",
                                    "7": "13500.00",
                                    "8": "100",
                                    "9": "8"
                                },
                                {
                                    "0": "176",
                                    "1": "Jonathon",
                                    "2": "Taylor",
                                    "3": "jonathon.taylor@sqltutorial.org",
                                    "4": "NULL",
                                    "5": "1998-03-24",
                                    "6": "16",
                                    "7": "8600.00",
                                    "8": "100",
                                    "9": "8"
                                },
                                {
                                    "0": "177",
                                    "1": "Jack",
                                    "2": "Livingston",
                                    "3": "jack.livingston@sqltutorial.org",
                                    "4": "NULL",
                                    "5": "1998-04-23",
                                    "6": "16",
                                    "7": "8400.00",
                                    "8": "100",
                                    "9": "8"
                                },
                                {
                                    "0": "178",
                                    "1": "Kimberely",
                                    "2": "Grant",
                                    "3": "kimberely.grant@sqltutorial.org",
                                    "4": "NULL",
                                    "5": "1999-05-24",
                                    "6": "16",
                                    "7": "7000.00",
                                    "8": "100",
                                    "9": "8"
                                },
                                {
                                    "0": "179",
                                    "1": "Charles",
                                    "2": "Johnson",
                                    "3": "charles.johnson@sqltutorial.org",
                                    "4": "NULL",
                                    "5": "2000-01-04",
                                    "6": "16",
                                    "7": "6200.00",
                                    "8": "100",
                                    "9": "8"
                                },
                                {
                                    "0": "192",
                                    "1": "Sarah",
                                    "2": "Bell",
                                    "3": "sarah.bell@sqltutorial.org",
                                    "4": "650.501.1876",
                                    "5": "1996-02-04",
                                    "6": "17",
                                    "7": "4000.00",
                                    "8": "123",
                                    "9": "5"
                                },
                                {
                                    "0": "193",
                                    "1": "Britney",
                                    "2": "Everett",
                                    "3": "britney.everett@sqltutorial.org",
                                    "4": "650.501.2876",
                                    "5": "1997-03-03",
                                    "6": "17",
                                    "7": "3900.00",
                                    "8": "123",
                                    "9": "5"
                                },
                                {
                                    "0": "200",
                                    "1": "Jennifer",
                                    "2": "Whalen",
                                    "3": "jennifer.whalen@sqltutorial.org",
                                    "4": "515.123.4444",
                                    "5": "1987-09-17",
                                    "6": "3",
                                    "7": "4400.00",
                                    "8": "101",
                                    "9": "1"
                                },
                                {
                                    "0": "201",
                                    "1": "Michael",
                                    "2": "Hartstein",
                                    "3": "michael.hartstein@sqltutorial.org",
                                    "4": "515.123.5555",
                                    "5": "1996-02-17",
                                    "6": "10",
                                    "7": "13000.00",
                                    "8": "100",
                                    "9": "2"
                                },
                                {
                                    "0": "202",
                                    "1": "Pat",
                                    "2": "Fay",
                                    "3": "pat.fay@sqltutorial.org",
                                    "4": "603.123.6666",
                                    "5": "1997-08-17",
                                    "6": "11",
                                    "7": "6000.00",
                                    "8": "201",
                                    "9": "2"
                                },
                                {
                                    "0": "203",
                                    "1": "Susan",
                                    "2": "Mavris",
                                    "3": "susan.mavris@sqltutorial.org",
                                    "4": "515.123.7777",
                                    "5": "1994-06-07",
                                    "6": "8",
                                    "7": "6500.00",
                                    "8": "101",
                                    "9": "4"
                                },
                                {
                                    "0": "204",
                                    "1": "Hermann",
                                    "2": "Baer",
                                    "3": "hermann.baer@sqltutorial.org",
                                    "4": "515.123.8888",
                                    "5": "1994-06-07",
                                    "6": "12",
                                    "7": "10000.00",
                                    "8": "101",
                                    "9": "7"
                                },
                                {
                                    "0": "205",
                                    "1": "Shelley",
                                    "2": "Higgins",
                                    "3": "shelley.higgins@sqltutorial.org",
                                    "4": "515.123.8080",
                                    "5": "1994-06-07",
                                    "6": "2",
                                    "7": "12000.00",
                                    "8": "101",
                                    "9": "11"
                                },
                                {
                                    "0": "206",
                                    "1": "William",
                                    "2": "Gietz",
                                    "3": "william.gietz@sqltutorial.org",
                                    "4": "515.123.8181",
                                    "5": "1994-06-07",
                                    "6": "1",
                                    "7": "8300.00",
                                    "8": "205",
                                    "9": "11"
                                }
                            ]
                        },
                        "text/html": "<table><tr><th>employee_id</th><th>first_name</th><th>last_name</th><th>email</th><th>phone_number</th><th>hire_date</th><th>job_id</th><th>salary</th><th>manager_id</th><th>department_id</th></tr><tr><td>100</td><td>Steven</td><td>King</td><td>steven.king@sqltutorial.org</td><td>515.123.4567</td><td>1987-06-17</td><td>4</td><td>24000.00</td><td>NULL</td><td>9</td></tr><tr><td>101</td><td>Neena</td><td>Kochhar</td><td>neena.kochhar@sqltutorial.org</td><td>515.123.4568</td><td>1989-09-21</td><td>5</td><td>17000.00</td><td>100</td><td>9</td></tr><tr><td>102</td><td>Lex</td><td>De Haan</td><td>lex.de haan@sqltutorial.org</td><td>515.123.4569</td><td>1993-01-13</td><td>5</td><td>17000.00</td><td>100</td><td>9</td></tr><tr><td>103</td><td>Alexander</td><td>Hunold</td><td>alexander.hunold@sqltutorial.org</td><td>590.423.4567</td><td>1990-01-03</td><td>9</td><td>9000.00</td><td>102</td><td>6</td></tr><tr><td>104</td><td>Bruce</td><td>Ernst</td><td>bruce.ernst@sqltutorial.org</td><td>590.423.4568</td><td>1991-05-21</td><td>9</td><td>6000.00</td><td>103</td><td>6</td></tr><tr><td>105</td><td>David</td><td>Austin</td><td>david.austin@sqltutorial.org</td><td>590.423.4569</td><td>1997-06-25</td><td>9</td><td>4800.00</td><td>103</td><td>6</td></tr><tr><td>106</td><td>Valli</td><td>Pataballa</td><td>valli.pataballa@sqltutorial.org</td><td>590.423.4560</td><td>1998-02-05</td><td>9</td><td>4800.00</td><td>103</td><td>6</td></tr><tr><td>107</td><td>Diana</td><td>Lorentz</td><td>diana.lorentz@sqltutorial.org</td><td>590.423.5567</td><td>1999-02-07</td><td>9</td><td>4200.00</td><td>103</td><td>6</td></tr><tr><td>108</td><td>Nancy</td><td>Greenberg</td><td>nancy.greenberg@sqltutorial.org</td><td>515.124.4569</td><td>1994-08-17</td><td>7</td><td>12000.00</td><td>101</td><td>10</td></tr><tr><td>109</td><td>Daniel</td><td>Faviet</td><td>daniel.faviet@sqltutorial.org</td><td>515.124.4169</td><td>1994-08-16</td><td>6</td><td>9000.00</td><td>108</td><td>10</td></tr><tr><td>110</td><td>John</td><td>Chen</td><td>john.chen@sqltutorial.org</td><td>515.124.4269</td><td>1997-09-28</td><td>6</td><td>8200.00</td><td>108</td><td>10</td></tr><tr><td>111</td><td>Ismael</td><td>Sciarra</td><td>ismael.sciarra@sqltutorial.org</td><td>515.124.4369</td><td>1997-09-30</td><td>6</td><td>7700.00</td><td>108</td><td>10</td></tr><tr><td>112</td><td>Jose Manuel</td><td>Urman</td><td>jose manuel.urman@sqltutorial.org</td><td>515.124.4469</td><td>1998-03-07</td><td>6</td><td>7800.00</td><td>108</td><td>10</td></tr><tr><td>113</td><td>Luis</td><td>Popp</td><td>luis.popp@sqltutorial.org</td><td>515.124.4567</td><td>1999-12-07</td><td>6</td><td>6900.00</td><td>108</td><td>10</td></tr><tr><td>114</td><td>Den</td><td>Raphaely</td><td>den.raphaely@sqltutorial.org</td><td>515.127.4561</td><td>1994-12-07</td><td>14</td><td>11000.00</td><td>100</td><td>3</td></tr><tr><td>115</td><td>Alexander</td><td>Khoo</td><td>alexander.khoo@sqltutorial.org</td><td>515.127.4562</td><td>1995-05-18</td><td>13</td><td>3100.00</td><td>114</td><td>3</td></tr><tr><td>116</td><td>Shelli</td><td>Baida</td><td>shelli.baida@sqltutorial.org</td><td>515.127.4563</td><td>1997-12-24</td><td>13</td><td>2900.00</td><td>114</td><td>3</td></tr><tr><td>117</td><td>Sigal</td><td>Tobias</td><td>sigal.tobias@sqltutorial.org</td><td>515.127.4564</td><td>1997-07-24</td><td>13</td><td>2800.00</td><td>114</td><td>3</td></tr><tr><td>118</td><td>Guy</td><td>Himuro</td><td>guy.himuro@sqltutorial.org</td><td>515.127.4565</td><td>1998-11-15</td><td>13</td><td>2600.00</td><td>114</td><td>3</td></tr><tr><td>119</td><td>Karen</td><td>Colmenares</td><td>karen.colmenares@sqltutorial.org</td><td>515.127.4566</td><td>1999-08-10</td><td>13</td><td>2500.00</td><td>114</td><td>3</td></tr><tr><td>120</td><td>Matthew</td><td>Weiss</td><td>matthew.weiss@sqltutorial.org</td><td>650.123.1234</td><td>1996-07-18</td><td>19</td><td>8000.00</td><td>100</td><td>5</td></tr><tr><td>121</td><td>Adam</td><td>Fripp</td><td>adam.fripp@sqltutorial.org</td><td>650.123.2234</td><td>1997-04-10</td><td>19</td><td>8200.00</td><td>100</td><td>5</td></tr><tr><td>122</td><td>Payam</td><td>Kaufling</td><td>payam.kaufling@sqltutorial.org</td><td>650.123.3234</td><td>1995-05-01</td><td>19</td><td>7900.00</td><td>100</td><td>5</td></tr><tr><td>123</td><td>Shanta</td><td>Vollman</td><td>shanta.vollman@sqltutorial.org</td><td>650.123.4234</td><td>1997-10-10</td><td>19</td><td>6500.00</td><td>100</td><td>5</td></tr><tr><td>126</td><td>Irene</td><td>Mikkilineni</td><td>irene.mikkilineni@sqltutorial.org</td><td>650.124.1224</td><td>1998-09-28</td><td>18</td><td>2700.00</td><td>120</td><td>5</td></tr><tr><td>145</td><td>John</td><td>Russell</td><td>john.russell@sqltutorial.org</td><td>NULL</td><td>1996-10-01</td><td>15</td><td>14000.00</td><td>100</td><td>8</td></tr><tr><td>146</td><td>Karen</td><td>Partners</td><td>karen.partners@sqltutorial.org</td><td>NULL</td><td>1997-01-05</td><td>15</td><td>13500.00</td><td>100</td><td>8</td></tr><tr><td>176</td><td>Jonathon</td><td>Taylor</td><td>jonathon.taylor@sqltutorial.org</td><td>NULL</td><td>1998-03-24</td><td>16</td><td>8600.00</td><td>100</td><td>8</td></tr><tr><td>177</td><td>Jack</td><td>Livingston</td><td>jack.livingston@sqltutorial.org</td><td>NULL</td><td>1998-04-23</td><td>16</td><td>8400.00</td><td>100</td><td>8</td></tr><tr><td>178</td><td>Kimberely</td><td>Grant</td><td>kimberely.grant@sqltutorial.org</td><td>NULL</td><td>1999-05-24</td><td>16</td><td>7000.00</td><td>100</td><td>8</td></tr><tr><td>179</td><td>Charles</td><td>Johnson</td><td>charles.johnson@sqltutorial.org</td><td>NULL</td><td>2000-01-04</td><td>16</td><td>6200.00</td><td>100</td><td>8</td></tr><tr><td>192</td><td>Sarah</td><td>Bell</td><td>sarah.bell@sqltutorial.org</td><td>650.501.1876</td><td>1996-02-04</td><td>17</td><td>4000.00</td><td>123</td><td>5</td></tr><tr><td>193</td><td>Britney</td><td>Everett</td><td>britney.everett@sqltutorial.org</td><td>650.501.2876</td><td>1997-03-03</td><td>17</td><td>3900.00</td><td>123</td><td>5</td></tr><tr><td>200</td><td>Jennifer</td><td>Whalen</td><td>jennifer.whalen@sqltutorial.org</td><td>515.123.4444</td><td>1987-09-17</td><td>3</td><td>4400.00</td><td>101</td><td>1</td></tr><tr><td>201</td><td>Michael</td><td>Hartstein</td><td>michael.hartstein@sqltutorial.org</td><td>515.123.5555</td><td>1996-02-17</td><td>10</td><td>13000.00</td><td>100</td><td>2</td></tr><tr><td>202</td><td>Pat</td><td>Fay</td><td>pat.fay@sqltutorial.org</td><td>603.123.6666</td><td>1997-08-17</td><td>11</td><td>6000.00</td><td>201</td><td>2</td></tr><tr><td>203</td><td>Susan</td><td>Mavris</td><td>susan.mavris@sqltutorial.org</td><td>515.123.7777</td><td>1994-06-07</td><td>8</td><td>6500.00</td><td>101</td><td>4</td></tr><tr><td>204</td><td>Hermann</td><td>Baer</td><td>hermann.baer@sqltutorial.org</td><td>515.123.8888</td><td>1994-06-07</td><td>12</td><td>10000.00</td><td>101</td><td>7</td></tr><tr><td>205</td><td>Shelley</td><td>Higgins</td><td>shelley.higgins@sqltutorial.org</td><td>515.123.8080</td><td>1994-06-07</td><td>2</td><td>12000.00</td><td>101</td><td>11</td></tr><tr><td>206</td><td>William</td><td>Gietz</td><td>william.gietz@sqltutorial.org</td><td>515.123.8181</td><td>1994-06-07</td><td>1</td><td>8300.00</td><td>205</td><td>11</td></tr></table>"
                    },
                    "metadata": {}
                },
                {
                    "output_type": "execute_result",
                    "execution_count": 1,
                    "data": {
                        "application/vnd.dataresource+json": {
                            "schema": {
                                "fields": [
                                    {
                                        "name": "dependent_id"
                                    },
                                    {
                                        "name": "first_name"
                                    },
                                    {
                                        "name": "last_name"
                                    },
                                    {
                                        "name": "relationship"
                                    },
                                    {
                                        "name": "employee_id"
                                    }
                                ]
                            },
                            "data": [
                                {
                                    "0": "1",
                                    "1": "Penelope",
                                    "2": "Gietz",
                                    "3": "Child",
                                    "4": "206"
                                },
                                {
                                    "0": "2",
                                    "1": "Nick",
                                    "2": "Higgins",
                                    "3": "Child",
                                    "4": "205"
                                },
                                {
                                    "0": "3",
                                    "1": "Ed",
                                    "2": "Whalen",
                                    "3": "Child",
                                    "4": "200"
                                },
                                {
                                    "0": "4",
                                    "1": "Jennifer",
                                    "2": "King",
                                    "3": "Child",
                                    "4": "100"
                                },
                                {
                                    "0": "5",
                                    "1": "Johnny",
                                    "2": "Kochhar",
                                    "3": "Child",
                                    "4": "101"
                                },
                                {
                                    "0": "6",
                                    "1": "Bette",
                                    "2": "De Haan",
                                    "3": "Child",
                                    "4": "102"
                                },
                                {
                                    "0": "7",
                                    "1": "Grace",
                                    "2": "Faviet",
                                    "3": "Child",
                                    "4": "109"
                                },
                                {
                                    "0": "8",
                                    "1": "Matthew",
                                    "2": "Chen",
                                    "3": "Child",
                                    "4": "110"
                                },
                                {
                                    "0": "9",
                                    "1": "Joe",
                                    "2": "Sciarra",
                                    "3": "Child",
                                    "4": "111"
                                },
                                {
                                    "0": "10",
                                    "1": "Christian",
                                    "2": "Urman",
                                    "3": "Child",
                                    "4": "112"
                                },
                                {
                                    "0": "11",
                                    "1": "Zero",
                                    "2": "Popp",
                                    "3": "Child",
                                    "4": "113"
                                },
                                {
                                    "0": "12",
                                    "1": "Karl",
                                    "2": "Greenberg",
                                    "3": "Child",
                                    "4": "108"
                                },
                                {
                                    "0": "13",
                                    "1": "Uma",
                                    "2": "Mavris",
                                    "3": "Child",
                                    "4": "203"
                                },
                                {
                                    "0": "14",
                                    "1": "Vivien",
                                    "2": "Hunold",
                                    "3": "Child",
                                    "4": "103"
                                },
                                {
                                    "0": "15",
                                    "1": "Cuba",
                                    "2": "Ernst",
                                    "3": "Child",
                                    "4": "104"
                                },
                                {
                                    "0": "16",
                                    "1": "Fred",
                                    "2": "Austin",
                                    "3": "Child",
                                    "4": "105"
                                },
                                {
                                    "0": "17",
                                    "1": "Helen",
                                    "2": "Pataballa",
                                    "3": "Child",
                                    "4": "106"
                                },
                                {
                                    "0": "18",
                                    "1": "Dan",
                                    "2": "Lorentz",
                                    "3": "Child",
                                    "4": "107"
                                },
                                {
                                    "0": "19",
                                    "1": "Bob",
                                    "2": "Hartstein",
                                    "3": "Child",
                                    "4": "201"
                                },
                                {
                                    "0": "20",
                                    "1": "Lucille",
                                    "2": "Fay",
                                    "3": "Child",
                                    "4": "202"
                                },
                                {
                                    "0": "21",
                                    "1": "Kirsten",
                                    "2": "Baer",
                                    "3": "Child",
                                    "4": "204"
                                },
                                {
                                    "0": "22",
                                    "1": "Elvis",
                                    "2": "Khoo",
                                    "3": "Child",
                                    "4": "115"
                                },
                                {
                                    "0": "23",
                                    "1": "Sandra",
                                    "2": "Baida",
                                    "3": "Child",
                                    "4": "116"
                                },
                                {
                                    "0": "24",
                                    "1": "Cameron",
                                    "2": "Tobias",
                                    "3": "Child",
                                    "4": "117"
                                },
                                {
                                    "0": "25",
                                    "1": "Kevin",
                                    "2": "Himuro",
                                    "3": "Child",
                                    "4": "118"
                                },
                                {
                                    "0": "26",
                                    "1": "Rip",
                                    "2": "Colmenares",
                                    "3": "Child",
                                    "4": "119"
                                },
                                {
                                    "0": "27",
                                    "1": "Julia",
                                    "2": "Raphaely",
                                    "3": "Child",
                                    "4": "114"
                                },
                                {
                                    "0": "28",
                                    "1": "Woody",
                                    "2": "Russell",
                                    "3": "Child",
                                    "4": "145"
                                },
                                {
                                    "0": "29",
                                    "1": "Alec",
                                    "2": "Partners",
                                    "3": "Child",
                                    "4": "146"
                                },
                                {
                                    "0": "30",
                                    "1": "Sandra",
                                    "2": "Taylor",
                                    "3": "Child",
                                    "4": "176"
                                }
                            ]
                        },
                        "text/html": "<table><tr><th>dependent_id</th><th>first_name</th><th>last_name</th><th>relationship</th><th>employee_id</th></tr><tr><td>1</td><td>Penelope</td><td>Gietz</td><td>Child</td><td>206</td></tr><tr><td>2</td><td>Nick</td><td>Higgins</td><td>Child</td><td>205</td></tr><tr><td>3</td><td>Ed</td><td>Whalen</td><td>Child</td><td>200</td></tr><tr><td>4</td><td>Jennifer</td><td>King</td><td>Child</td><td>100</td></tr><tr><td>5</td><td>Johnny</td><td>Kochhar</td><td>Child</td><td>101</td></tr><tr><td>6</td><td>Bette</td><td>De Haan</td><td>Child</td><td>102</td></tr><tr><td>7</td><td>Grace</td><td>Faviet</td><td>Child</td><td>109</td></tr><tr><td>8</td><td>Matthew</td><td>Chen</td><td>Child</td><td>110</td></tr><tr><td>9</td><td>Joe</td><td>Sciarra</td><td>Child</td><td>111</td></tr><tr><td>10</td><td>Christian</td><td>Urman</td><td>Child</td><td>112</td></tr><tr><td>11</td><td>Zero</td><td>Popp</td><td>Child</td><td>113</td></tr><tr><td>12</td><td>Karl</td><td>Greenberg</td><td>Child</td><td>108</td></tr><tr><td>13</td><td>Uma</td><td>Mavris</td><td>Child</td><td>203</td></tr><tr><td>14</td><td>Vivien</td><td>Hunold</td><td>Child</td><td>103</td></tr><tr><td>15</td><td>Cuba</td><td>Ernst</td><td>Child</td><td>104</td></tr><tr><td>16</td><td>Fred</td><td>Austin</td><td>Child</td><td>105</td></tr><tr><td>17</td><td>Helen</td><td>Pataballa</td><td>Child</td><td>106</td></tr><tr><td>18</td><td>Dan</td><td>Lorentz</td><td>Child</td><td>107</td></tr><tr><td>19</td><td>Bob</td><td>Hartstein</td><td>Child</td><td>201</td></tr><tr><td>20</td><td>Lucille</td><td>Fay</td><td>Child</td><td>202</td></tr><tr><td>21</td><td>Kirsten</td><td>Baer</td><td>Child</td><td>204</td></tr><tr><td>22</td><td>Elvis</td><td>Khoo</td><td>Child</td><td>115</td></tr><tr><td>23</td><td>Sandra</td><td>Baida</td><td>Child</td><td>116</td></tr><tr><td>24</td><td>Cameron</td><td>Tobias</td><td>Child</td><td>117</td></tr><tr><td>25</td><td>Kevin</td><td>Himuro</td><td>Child</td><td>118</td></tr><tr><td>26</td><td>Rip</td><td>Colmenares</td><td>Child</td><td>119</td></tr><tr><td>27</td><td>Julia</td><td>Raphaely</td><td>Child</td><td>114</td></tr><tr><td>28</td><td>Woody</td><td>Russell</td><td>Child</td><td>145</td></tr><tr><td>29</td><td>Alec</td><td>Partners</td><td>Child</td><td>146</td></tr><tr><td>30</td><td>Sandra</td><td>Taylor</td><td>Child</td><td>176</td></tr></table>"
                    },
                    "metadata": {}
                }
            ],
            "execution_count": 1
        },
        {
            "cell_type": "code",
            "source": [
                "--Solution No:-1\r\n",
                "select emp.job_id,AVG(emp.salary) as 'Average', MIN(emp.salary) as 'Minimum', MAX(emp.salary) as 'maxmium' from employees emp group by emp.job_id"
            ],
            "metadata": {
                "azdata_cell_guid": "eae0bf33-4f80-4061-b395-fd7ae7334082",
                "language": "sql"
            },
            "outputs": [
                {
                    "output_type": "display_data",
                    "data": {
                        "text/html": "(19 rows affected)"
                    },
                    "metadata": {}
                },
                {
                    "output_type": "display_data",
                    "data": {
                        "text/html": "Total execution time: 00:00:00.007"
                    },
                    "metadata": {}
                },
                {
                    "output_type": "execute_result",
                    "execution_count": 2,
                    "data": {
                        "application/vnd.dataresource+json": {
                            "schema": {
                                "fields": [
                                    {
                                        "name": "job_id"
                                    },
                                    {
                                        "name": "Average"
                                    },
                                    {
                                        "name": "Minimum"
                                    },
                                    {
                                        "name": "maxmium"
                                    }
                                ]
                            },
                            "data": [
                                {
                                    "0": "1",
                                    "1": "8300.000000",
                                    "2": "8300.00",
                                    "3": "8300.00"
                                },
                                {
                                    "0": "2",
                                    "1": "12000.000000",
                                    "2": "12000.00",
                                    "3": "12000.00"
                                },
                                {
                                    "0": "3",
                                    "1": "4400.000000",
                                    "2": "4400.00",
                                    "3": "4400.00"
                                },
                                {
                                    "0": "4",
                                    "1": "24000.000000",
                                    "2": "24000.00",
                                    "3": "24000.00"
                                },
                                {
                                    "0": "5",
                                    "1": "17000.000000",
                                    "2": "17000.00",
                                    "3": "17000.00"
                                },
                                {
                                    "0": "6",
                                    "1": "7920.000000",
                                    "2": "6900.00",
                                    "3": "9000.00"
                                },
                                {
                                    "0": "7",
                                    "1": "12000.000000",
                                    "2": "12000.00",
                                    "3": "12000.00"
                                },
                                {
                                    "0": "8",
                                    "1": "6500.000000",
                                    "2": "6500.00",
                                    "3": "6500.00"
                                },
                                {
                                    "0": "9",
                                    "1": "5760.000000",
                                    "2": "4200.00",
                                    "3": "9000.00"
                                },
                                {
                                    "0": "10",
                                    "1": "13000.000000",
                                    "2": "13000.00",
                                    "3": "13000.00"
                                },
                                {
                                    "0": "11",
                                    "1": "6000.000000",
                                    "2": "6000.00",
                                    "3": "6000.00"
                                },
                                {
                                    "0": "12",
                                    "1": "10000.000000",
                                    "2": "10000.00",
                                    "3": "10000.00"
                                },
                                {
                                    "0": "13",
                                    "1": "2780.000000",
                                    "2": "2500.00",
                                    "3": "3100.00"
                                },
                                {
                                    "0": "14",
                                    "1": "11000.000000",
                                    "2": "11000.00",
                                    "3": "11000.00"
                                },
                                {
                                    "0": "15",
                                    "1": "13750.000000",
                                    "2": "13500.00",
                                    "3": "14000.00"
                                },
                                {
                                    "0": "16",
                                    "1": "7550.000000",
                                    "2": "6200.00",
                                    "3": "8600.00"
                                },
                                {
                                    "0": "17",
                                    "1": "3950.000000",
                                    "2": "3900.00",
                                    "3": "4000.00"
                                },
                                {
                                    "0": "18",
                                    "1": "2700.000000",
                                    "2": "2700.00",
                                    "3": "2700.00"
                                },
                                {
                                    "0": "19",
                                    "1": "7650.000000",
                                    "2": "6500.00",
                                    "3": "8200.00"
                                }
                            ]
                        },
                        "text/html": "<table><tr><th>job_id</th><th>Average</th><th>Minimum</th><th>maxmium</th></tr><tr><td>1</td><td>8300.000000</td><td>8300.00</td><td>8300.00</td></tr><tr><td>2</td><td>12000.000000</td><td>12000.00</td><td>12000.00</td></tr><tr><td>3</td><td>4400.000000</td><td>4400.00</td><td>4400.00</td></tr><tr><td>4</td><td>24000.000000</td><td>24000.00</td><td>24000.00</td></tr><tr><td>5</td><td>17000.000000</td><td>17000.00</td><td>17000.00</td></tr><tr><td>6</td><td>7920.000000</td><td>6900.00</td><td>9000.00</td></tr><tr><td>7</td><td>12000.000000</td><td>12000.00</td><td>12000.00</td></tr><tr><td>8</td><td>6500.000000</td><td>6500.00</td><td>6500.00</td></tr><tr><td>9</td><td>5760.000000</td><td>4200.00</td><td>9000.00</td></tr><tr><td>10</td><td>13000.000000</td><td>13000.00</td><td>13000.00</td></tr><tr><td>11</td><td>6000.000000</td><td>6000.00</td><td>6000.00</td></tr><tr><td>12</td><td>10000.000000</td><td>10000.00</td><td>10000.00</td></tr><tr><td>13</td><td>2780.000000</td><td>2500.00</td><td>3100.00</td></tr><tr><td>14</td><td>11000.000000</td><td>11000.00</td><td>11000.00</td></tr><tr><td>15</td><td>13750.000000</td><td>13500.00</td><td>14000.00</td></tr><tr><td>16</td><td>7550.000000</td><td>6200.00</td><td>8600.00</td></tr><tr><td>17</td><td>3950.000000</td><td>3900.00</td><td>4000.00</td></tr><tr><td>18</td><td>2700.000000</td><td>2700.00</td><td>2700.00</td></tr><tr><td>19</td><td>7650.000000</td><td>6500.00</td><td>8200.00</td></tr></table>"
                    },
                    "metadata": {}
                }
            ],
            "execution_count": 2
        },
        {
            "cell_type": "code",
            "source": [
                "--Solution No:2\r\n",
                "select dept.department_name as 'Department Name', count(emp.department_id) as 'Number_of_employee' from employees emp\r\n",
                "join  departments dept  on dept.department_id=emp.department_id\r\n",
                "group by dept.department_name, dept.department_id"
            ],
            "metadata": {
                "azdata_cell_guid": "edb04d85-4861-470c-b5fd-6888ab2cf73d",
                "language": "sql"
            },
            "outputs": [
                {
                    "output_type": "display_data",
                    "data": {
                        "text/html": "(11 rows affected)"
                    },
                    "metadata": {}
                },
                {
                    "output_type": "display_data",
                    "data": {
                        "text/html": "Total execution time: 00:00:00.013"
                    },
                    "metadata": {}
                },
                {
                    "output_type": "execute_result",
                    "execution_count": 3,
                    "data": {
                        "application/vnd.dataresource+json": {
                            "schema": {
                                "fields": [
                                    {
                                        "name": "Department Name"
                                    },
                                    {
                                        "name": "Number_of_employee"
                                    }
                                ]
                            },
                            "data": [
                                {
                                    "0": "Administration",
                                    "1": "1"
                                },
                                {
                                    "0": "Marketing",
                                    "1": "2"
                                },
                                {
                                    "0": "Purchasing",
                                    "1": "6"
                                },
                                {
                                    "0": "Human Resources",
                                    "1": "1"
                                },
                                {
                                    "0": "Shipping",
                                    "1": "7"
                                },
                                {
                                    "0": "IT",
                                    "1": "5"
                                },
                                {
                                    "0": "Public Relations",
                                    "1": "1"
                                },
                                {
                                    "0": "Sales",
                                    "1": "6"
                                },
                                {
                                    "0": "Executive",
                                    "1": "3"
                                },
                                {
                                    "0": "Finance",
                                    "1": "6"
                                },
                                {
                                    "0": "Accounting",
                                    "1": "2"
                                }
                            ]
                        },
                        "text/html": "<table><tr><th>Department Name</th><th>Number_of_employee</th></tr><tr><td>Administration</td><td>1</td></tr><tr><td>Marketing</td><td>2</td></tr><tr><td>Purchasing</td><td>6</td></tr><tr><td>Human Resources</td><td>1</td></tr><tr><td>Shipping</td><td>7</td></tr><tr><td>IT</td><td>5</td></tr><tr><td>Public Relations</td><td>1</td></tr><tr><td>Sales</td><td>6</td></tr><tr><td>Executive</td><td>3</td></tr><tr><td>Finance</td><td>6</td></tr><tr><td>Accounting</td><td>2</td></tr></table>"
                    },
                    "metadata": {}
                }
            ],
            "execution_count": 3
        },
        {
            "cell_type": "code",
            "source": [
                "--Solution No:3\r\n",
                "select COUNT(*) as 'count_employees', emp1.manager_id , emp2.first_name as 'Manager Name'from  employees emp1 , employees emp2\r\n",
                "where emp1.manager_id= emp2.employee_id\r\n",
                " group by emp1.manager_id, emp2.first_name\r\n",
                " order by emp1.manager_id"
            ],
            "metadata": {
                "language": "sql",
                "azdata_cell_guid": "002a0507-55eb-4d18-921e-22f996966a2e"
            },
            "outputs": [
                {
                    "output_type": "display_data",
                    "data": {
                        "text/html": "(10 rows affected)"
                    },
                    "metadata": {}
                },
                {
                    "output_type": "display_data",
                    "data": {
                        "text/html": "Total execution time: 00:00:00.004"
                    },
                    "metadata": {}
                },
                {
                    "output_type": "execute_result",
                    "execution_count": 4,
                    "data": {
                        "application/vnd.dataresource+json": {
                            "schema": {
                                "fields": [
                                    {
                                        "name": "count_employees"
                                    },
                                    {
                                        "name": "manager_id"
                                    },
                                    {
                                        "name": "Manager Name"
                                    }
                                ]
                            },
                            "data": [
                                {
                                    "0": "14",
                                    "1": "100",
                                    "2": "Steven"
                                },
                                {
                                    "0": "5",
                                    "1": "101",
                                    "2": "Neena"
                                },
                                {
                                    "0": "1",
                                    "1": "102",
                                    "2": "Lex"
                                },
                                {
                                    "0": "4",
                                    "1": "103",
                                    "2": "Alexander"
                                },
                                {
                                    "0": "5",
                                    "1": "108",
                                    "2": "Nancy"
                                },
                                {
                                    "0": "5",
                                    "1": "114",
                                    "2": "Den"
                                },
                                {
                                    "0": "1",
                                    "1": "120",
                                    "2": "Matthew"
                                },
                                {
                                    "0": "2",
                                    "1": "123",
                                    "2": "Shanta"
                                },
                                {
                                    "0": "1",
                                    "1": "201",
                                    "2": "Michael"
                                },
                                {
                                    "0": "1",
                                    "1": "205",
                                    "2": "Shelley"
                                }
                            ]
                        },
                        "text/html": "<table><tr><th>count_employees</th><th>manager_id</th><th>Manager Name</th></tr><tr><td>14</td><td>100</td><td>Steven</td></tr><tr><td>5</td><td>101</td><td>Neena</td></tr><tr><td>1</td><td>102</td><td>Lex</td></tr><tr><td>4</td><td>103</td><td>Alexander</td></tr><tr><td>5</td><td>108</td><td>Nancy</td></tr><tr><td>5</td><td>114</td><td>Den</td></tr><tr><td>1</td><td>120</td><td>Matthew</td></tr><tr><td>2</td><td>123</td><td>Shanta</td></tr><tr><td>1</td><td>201</td><td>Michael</td></tr><tr><td>1</td><td>205</td><td>Shelley</td></tr></table>"
                    },
                    "metadata": {}
                }
            ],
            "execution_count": 4
        },
        {
            "cell_type": "code",
            "source": [
                " --Solution No:4\r\n",
                " select emp.last_name , emp.department_id , dept.department_name from employees emp join departments dept\r\n",
                " on emp.department_id=dept.department_id\r\n",
                " order by emp.last_name"
            ],
            "metadata": {
                "language": "sql",
                "azdata_cell_guid": "e7f62aa0-5569-4f40-a1c5-c002fa8bbb32"
            },
            "outputs": [
                {
                    "output_type": "display_data",
                    "data": {
                        "text/html": "(40 rows affected)"
                    },
                    "metadata": {}
                },
                {
                    "output_type": "display_data",
                    "data": {
                        "text/html": "Total execution time: 00:00:00.005"
                    },
                    "metadata": {}
                },
                {
                    "output_type": "execute_result",
                    "execution_count": 5,
                    "data": {
                        "application/vnd.dataresource+json": {
                            "schema": {
                                "fields": [
                                    {
                                        "name": "last_name"
                                    },
                                    {
                                        "name": "department_id"
                                    },
                                    {
                                        "name": "department_name"
                                    }
                                ]
                            },
                            "data": [
                                {
                                    "0": "Austin",
                                    "1": "6",
                                    "2": "IT"
                                },
                                {
                                    "0": "Baer",
                                    "1": "7",
                                    "2": "Public Relations"
                                },
                                {
                                    "0": "Baida",
                                    "1": "3",
                                    "2": "Purchasing"
                                },
                                {
                                    "0": "Bell",
                                    "1": "5",
                                    "2": "Shipping"
                                },
                                {
                                    "0": "Chen",
                                    "1": "10",
                                    "2": "Finance"
                                },
                                {
                                    "0": "Colmenares",
                                    "1": "3",
                                    "2": "Purchasing"
                                },
                                {
                                    "0": "De Haan",
                                    "1": "9",
                                    "2": "Executive"
                                },
                                {
                                    "0": "Ernst",
                                    "1": "6",
                                    "2": "IT"
                                },
                                {
                                    "0": "Everett",
                                    "1": "5",
                                    "2": "Shipping"
                                },
                                {
                                    "0": "Faviet",
                                    "1": "10",
                                    "2": "Finance"
                                },
                                {
                                    "0": "Fay",
                                    "1": "2",
                                    "2": "Marketing"
                                },
                                {
                                    "0": "Fripp",
                                    "1": "5",
                                    "2": "Shipping"
                                },
                                {
                                    "0": "Gietz",
                                    "1": "11",
                                    "2": "Accounting"
                                },
                                {
                                    "0": "Grant",
                                    "1": "8",
                                    "2": "Sales"
                                },
                                {
                                    "0": "Greenberg",
                                    "1": "10",
                                    "2": "Finance"
                                },
                                {
                                    "0": "Hartstein",
                                    "1": "2",
                                    "2": "Marketing"
                                },
                                {
                                    "0": "Higgins",
                                    "1": "11",
                                    "2": "Accounting"
                                },
                                {
                                    "0": "Himuro",
                                    "1": "3",
                                    "2": "Purchasing"
                                },
                                {
                                    "0": "Hunold",
                                    "1": "6",
                                    "2": "IT"
                                },
                                {
                                    "0": "Johnson",
                                    "1": "8",
                                    "2": "Sales"
                                },
                                {
                                    "0": "Kaufling",
                                    "1": "5",
                                    "2": "Shipping"
                                },
                                {
                                    "0": "Khoo",
                                    "1": "3",
                                    "2": "Purchasing"
                                },
                                {
                                    "0": "King",
                                    "1": "9",
                                    "2": "Executive"
                                },
                                {
                                    "0": "Kochhar",
                                    "1": "9",
                                    "2": "Executive"
                                },
                                {
                                    "0": "Livingston",
                                    "1": "8",
                                    "2": "Sales"
                                },
                                {
                                    "0": "Lorentz",
                                    "1": "6",
                                    "2": "IT"
                                },
                                {
                                    "0": "Mavris",
                                    "1": "4",
                                    "2": "Human Resources"
                                },
                                {
                                    "0": "Mikkilineni",
                                    "1": "5",
                                    "2": "Shipping"
                                },
                                {
                                    "0": "Partners",
                                    "1": "8",
                                    "2": "Sales"
                                },
                                {
                                    "0": "Pataballa",
                                    "1": "6",
                                    "2": "IT"
                                },
                                {
                                    "0": "Popp",
                                    "1": "10",
                                    "2": "Finance"
                                },
                                {
                                    "0": "Raphaely",
                                    "1": "3",
                                    "2": "Purchasing"
                                },
                                {
                                    "0": "Russell",
                                    "1": "8",
                                    "2": "Sales"
                                },
                                {
                                    "0": "Sciarra",
                                    "1": "10",
                                    "2": "Finance"
                                },
                                {
                                    "0": "Taylor",
                                    "1": "8",
                                    "2": "Sales"
                                },
                                {
                                    "0": "Tobias",
                                    "1": "3",
                                    "2": "Purchasing"
                                },
                                {
                                    "0": "Urman",
                                    "1": "10",
                                    "2": "Finance"
                                },
                                {
                                    "0": "Vollman",
                                    "1": "5",
                                    "2": "Shipping"
                                },
                                {
                                    "0": "Weiss",
                                    "1": "5",
                                    "2": "Shipping"
                                },
                                {
                                    "0": "Whalen",
                                    "1": "1",
                                    "2": "Administration"
                                }
                            ]
                        },
                        "text/html": "<table><tr><th>last_name</th><th>department_id</th><th>department_name</th></tr><tr><td>Austin</td><td>6</td><td>IT</td></tr><tr><td>Baer</td><td>7</td><td>Public Relations</td></tr><tr><td>Baida</td><td>3</td><td>Purchasing</td></tr><tr><td>Bell</td><td>5</td><td>Shipping</td></tr><tr><td>Chen</td><td>10</td><td>Finance</td></tr><tr><td>Colmenares</td><td>3</td><td>Purchasing</td></tr><tr><td>De Haan</td><td>9</td><td>Executive</td></tr><tr><td>Ernst</td><td>6</td><td>IT</td></tr><tr><td>Everett</td><td>5</td><td>Shipping</td></tr><tr><td>Faviet</td><td>10</td><td>Finance</td></tr><tr><td>Fay</td><td>2</td><td>Marketing</td></tr><tr><td>Fripp</td><td>5</td><td>Shipping</td></tr><tr><td>Gietz</td><td>11</td><td>Accounting</td></tr><tr><td>Grant</td><td>8</td><td>Sales</td></tr><tr><td>Greenberg</td><td>10</td><td>Finance</td></tr><tr><td>Hartstein</td><td>2</td><td>Marketing</td></tr><tr><td>Higgins</td><td>11</td><td>Accounting</td></tr><tr><td>Himuro</td><td>3</td><td>Purchasing</td></tr><tr><td>Hunold</td><td>6</td><td>IT</td></tr><tr><td>Johnson</td><td>8</td><td>Sales</td></tr><tr><td>Kaufling</td><td>5</td><td>Shipping</td></tr><tr><td>Khoo</td><td>3</td><td>Purchasing</td></tr><tr><td>King</td><td>9</td><td>Executive</td></tr><tr><td>Kochhar</td><td>9</td><td>Executive</td></tr><tr><td>Livingston</td><td>8</td><td>Sales</td></tr><tr><td>Lorentz</td><td>6</td><td>IT</td></tr><tr><td>Mavris</td><td>4</td><td>Human Resources</td></tr><tr><td>Mikkilineni</td><td>5</td><td>Shipping</td></tr><tr><td>Partners</td><td>8</td><td>Sales</td></tr><tr><td>Pataballa</td><td>6</td><td>IT</td></tr><tr><td>Popp</td><td>10</td><td>Finance</td></tr><tr><td>Raphaely</td><td>3</td><td>Purchasing</td></tr><tr><td>Russell</td><td>8</td><td>Sales</td></tr><tr><td>Sciarra</td><td>10</td><td>Finance</td></tr><tr><td>Taylor</td><td>8</td><td>Sales</td></tr><tr><td>Tobias</td><td>3</td><td>Purchasing</td></tr><tr><td>Urman</td><td>10</td><td>Finance</td></tr><tr><td>Vollman</td><td>5</td><td>Shipping</td></tr><tr><td>Weiss</td><td>5</td><td>Shipping</td></tr><tr><td>Whalen</td><td>1</td><td>Administration</td></tr></table>"
                    },
                    "metadata": {}
                }
            ],
            "execution_count": 5
        },
        {
            "cell_type": "code",
            "source": [
                " --Solution No:5\r\n",
                " select j.job_title , l.street_address, l.city, l.country_id from jobs j join employees emp on\r\n",
                " j.job_id=emp.job_id\r\n",
                " join departments dept on dept.department_id=emp.department_id\r\n",
                " join locations l on l.location_id=dept.location_id\r\n",
                " where l.location_id=2400 and job_title='Human Resources Representative'"
            ],
            "metadata": {
                "language": "sql",
                "azdata_cell_guid": "ee5c9bab-c542-4552-b372-a8ca15d29331"
            },
            "outputs": [
                {
                    "output_type": "display_data",
                    "data": {
                        "text/html": "(1 row affected)"
                    },
                    "metadata": {}
                },
                {
                    "output_type": "display_data",
                    "data": {
                        "text/html": "Total execution time: 00:00:00.006"
                    },
                    "metadata": {}
                },
                {
                    "output_type": "execute_result",
                    "execution_count": 7,
                    "data": {
                        "application/vnd.dataresource+json": {
                            "schema": {
                                "fields": [
                                    {
                                        "name": "job_title"
                                    },
                                    {
                                        "name": "street_address"
                                    },
                                    {
                                        "name": "city"
                                    },
                                    {
                                        "name": "country_id"
                                    }
                                ]
                            },
                            "data": [
                                {
                                    "0": "Human Resources Representative",
                                    "1": "8204 Arthur St",
                                    "2": "London",
                                    "3": "UK"
                                }
                            ]
                        },
                        "text/html": "<table><tr><th>job_title</th><th>street_address</th><th>city</th><th>country_id</th></tr><tr><td>Human Resources Representative</td><td>8204 Arthur St</td><td>London</td><td>UK</td></tr></table>"
                    },
                    "metadata": {}
                }
            ],
            "execution_count": 7
        },
        {
            "cell_type": "code",
            "source": [
                " --Solution No:6\r\n",
                " select emp.last_name, dept.department_name, dept.location_id, l.city from employees emp join departments dept \r\n",
                " on emp.department_id=dept.department_id\r\n",
                " join locations l on l.location_id=dept.location_id\r\n",
                " where dept.location_id in (1400,1700) and dept.department_name in ('IT','FINANCE','PURCHASING')\r\n",
                " order by dept.location_id"
            ],
            "metadata": {
                "language": "sql",
                "azdata_cell_guid": "66832ed4-8e15-4c7c-9e21-538e8a07a3e5"
            },
            "outputs": [
                {
                    "output_type": "display_data",
                    "data": {
                        "text/html": "(17 rows affected)"
                    },
                    "metadata": {}
                },
                {
                    "output_type": "display_data",
                    "data": {
                        "text/html": "Total execution time: 00:00:00.006"
                    },
                    "metadata": {}
                },
                {
                    "output_type": "execute_result",
                    "execution_count": 8,
                    "data": {
                        "application/vnd.dataresource+json": {
                            "schema": {
                                "fields": [
                                    {
                                        "name": "last_name"
                                    },
                                    {
                                        "name": "department_name"
                                    },
                                    {
                                        "name": "location_id"
                                    },
                                    {
                                        "name": "city"
                                    }
                                ]
                            },
                            "data": [
                                {
                                    "0": "Hunold",
                                    "1": "IT",
                                    "2": "1400",
                                    "3": "Southlake"
                                },
                                {
                                    "0": "Ernst",
                                    "1": "IT",
                                    "2": "1400",
                                    "3": "Southlake"
                                },
                                {
                                    "0": "Austin",
                                    "1": "IT",
                                    "2": "1400",
                                    "3": "Southlake"
                                },
                                {
                                    "0": "Pataballa",
                                    "1": "IT",
                                    "2": "1400",
                                    "3": "Southlake"
                                },
                                {
                                    "0": "Lorentz",
                                    "1": "IT",
                                    "2": "1400",
                                    "3": "Southlake"
                                },
                                {
                                    "0": "Raphaely",
                                    "1": "Purchasing",
                                    "2": "1700",
                                    "3": "Seattle"
                                },
                                {
                                    "0": "Khoo",
                                    "1": "Purchasing",
                                    "2": "1700",
                                    "3": "Seattle"
                                },
                                {
                                    "0": "Baida",
                                    "1": "Purchasing",
                                    "2": "1700",
                                    "3": "Seattle"
                                },
                                {
                                    "0": "Tobias",
                                    "1": "Purchasing",
                                    "2": "1700",
                                    "3": "Seattle"
                                },
                                {
                                    "0": "Himuro",
                                    "1": "Purchasing",
                                    "2": "1700",
                                    "3": "Seattle"
                                },
                                {
                                    "0": "Colmenares",
                                    "1": "Purchasing",
                                    "2": "1700",
                                    "3": "Seattle"
                                },
                                {
                                    "0": "Greenberg",
                                    "1": "Finance",
                                    "2": "1700",
                                    "3": "Seattle"
                                },
                                {
                                    "0": "Faviet",
                                    "1": "Finance",
                                    "2": "1700",
                                    "3": "Seattle"
                                },
                                {
                                    "0": "Chen",
                                    "1": "Finance",
                                    "2": "1700",
                                    "3": "Seattle"
                                },
                                {
                                    "0": "Sciarra",
                                    "1": "Finance",
                                    "2": "1700",
                                    "3": "Seattle"
                                },
                                {
                                    "0": "Urman",
                                    "1": "Finance",
                                    "2": "1700",
                                    "3": "Seattle"
                                },
                                {
                                    "0": "Popp",
                                    "1": "Finance",
                                    "2": "1700",
                                    "3": "Seattle"
                                }
                            ]
                        },
                        "text/html": "<table><tr><th>last_name</th><th>department_name</th><th>location_id</th><th>city</th></tr><tr><td>Hunold</td><td>IT</td><td>1400</td><td>Southlake</td></tr><tr><td>Ernst</td><td>IT</td><td>1400</td><td>Southlake</td></tr><tr><td>Austin</td><td>IT</td><td>1400</td><td>Southlake</td></tr><tr><td>Pataballa</td><td>IT</td><td>1400</td><td>Southlake</td></tr><tr><td>Lorentz</td><td>IT</td><td>1400</td><td>Southlake</td></tr><tr><td>Raphaely</td><td>Purchasing</td><td>1700</td><td>Seattle</td></tr><tr><td>Khoo</td><td>Purchasing</td><td>1700</td><td>Seattle</td></tr><tr><td>Baida</td><td>Purchasing</td><td>1700</td><td>Seattle</td></tr><tr><td>Tobias</td><td>Purchasing</td><td>1700</td><td>Seattle</td></tr><tr><td>Himuro</td><td>Purchasing</td><td>1700</td><td>Seattle</td></tr><tr><td>Colmenares</td><td>Purchasing</td><td>1700</td><td>Seattle</td></tr><tr><td>Greenberg</td><td>Finance</td><td>1700</td><td>Seattle</td></tr><tr><td>Faviet</td><td>Finance</td><td>1700</td><td>Seattle</td></tr><tr><td>Chen</td><td>Finance</td><td>1700</td><td>Seattle</td></tr><tr><td>Sciarra</td><td>Finance</td><td>1700</td><td>Seattle</td></tr><tr><td>Urman</td><td>Finance</td><td>1700</td><td>Seattle</td></tr><tr><td>Popp</td><td>Finance</td><td>1700</td><td>Seattle</td></tr></table>"
                    },
                    "metadata": {}
                }
            ],
            "execution_count": 8
        },
        {
            "cell_type": "code",
            "source": [
                " --Solution No:7\r\n",
                "select emp.last_name, dept.department_name, dept.department_id from employees emp join departments dept\r\n",
                "on dept.department_id=emp.department_id where emp.manager_id is not null"
            ],
            "metadata": {
                "language": "sql",
                "azdata_cell_guid": "365765bd-c163-4860-99de-bde2d96a99de"
            },
            "outputs": [
                {
                    "output_type": "display_data",
                    "data": {
                        "text/html": "(39 rows affected)"
                    },
                    "metadata": {}
                },
                {
                    "output_type": "display_data",
                    "data": {
                        "text/html": "Total execution time: 00:00:00.008"
                    },
                    "metadata": {}
                },
                {
                    "output_type": "execute_result",
                    "execution_count": 9,
                    "data": {
                        "application/vnd.dataresource+json": {
                            "schema": {
                                "fields": [
                                    {
                                        "name": "last_name"
                                    },
                                    {
                                        "name": "department_name"
                                    },
                                    {
                                        "name": "department_id"
                                    }
                                ]
                            },
                            "data": [
                                {
                                    "0": "Kochhar",
                                    "1": "Executive",
                                    "2": "9"
                                },
                                {
                                    "0": "De Haan",
                                    "1": "Executive",
                                    "2": "9"
                                },
                                {
                                    "0": "Hunold",
                                    "1": "IT",
                                    "2": "6"
                                },
                                {
                                    "0": "Ernst",
                                    "1": "IT",
                                    "2": "6"
                                },
                                {
                                    "0": "Austin",
                                    "1": "IT",
                                    "2": "6"
                                },
                                {
                                    "0": "Pataballa",
                                    "1": "IT",
                                    "2": "6"
                                },
                                {
                                    "0": "Lorentz",
                                    "1": "IT",
                                    "2": "6"
                                },
                                {
                                    "0": "Greenberg",
                                    "1": "Finance",
                                    "2": "10"
                                },
                                {
                                    "0": "Faviet",
                                    "1": "Finance",
                                    "2": "10"
                                },
                                {
                                    "0": "Chen",
                                    "1": "Finance",
                                    "2": "10"
                                },
                                {
                                    "0": "Sciarra",
                                    "1": "Finance",
                                    "2": "10"
                                },
                                {
                                    "0": "Urman",
                                    "1": "Finance",
                                    "2": "10"
                                },
                                {
                                    "0": "Popp",
                                    "1": "Finance",
                                    "2": "10"
                                },
                                {
                                    "0": "Raphaely",
                                    "1": "Purchasing",
                                    "2": "3"
                                },
                                {
                                    "0": "Khoo",
                                    "1": "Purchasing",
                                    "2": "3"
                                },
                                {
                                    "0": "Baida",
                                    "1": "Purchasing",
                                    "2": "3"
                                },
                                {
                                    "0": "Tobias",
                                    "1": "Purchasing",
                                    "2": "3"
                                },
                                {
                                    "0": "Himuro",
                                    "1": "Purchasing",
                                    "2": "3"
                                },
                                {
                                    "0": "Colmenares",
                                    "1": "Purchasing",
                                    "2": "3"
                                },
                                {
                                    "0": "Weiss",
                                    "1": "Shipping",
                                    "2": "5"
                                },
                                {
                                    "0": "Fripp",
                                    "1": "Shipping",
                                    "2": "5"
                                },
                                {
                                    "0": "Kaufling",
                                    "1": "Shipping",
                                    "2": "5"
                                },
                                {
                                    "0": "Vollman",
                                    "1": "Shipping",
                                    "2": "5"
                                },
                                {
                                    "0": "Mikkilineni",
                                    "1": "Shipping",
                                    "2": "5"
                                },
                                {
                                    "0": "Russell",
                                    "1": "Sales",
                                    "2": "8"
                                },
                                {
                                    "0": "Partners",
                                    "1": "Sales",
                                    "2": "8"
                                },
                                {
                                    "0": "Taylor",
                                    "1": "Sales",
                                    "2": "8"
                                },
                                {
                                    "0": "Livingston",
                                    "1": "Sales",
                                    "2": "8"
                                },
                                {
                                    "0": "Grant",
                                    "1": "Sales",
                                    "2": "8"
                                },
                                {
                                    "0": "Johnson",
                                    "1": "Sales",
                                    "2": "8"
                                },
                                {
                                    "0": "Bell",
                                    "1": "Shipping",
                                    "2": "5"
                                },
                                {
                                    "0": "Everett",
                                    "1": "Shipping",
                                    "2": "5"
                                },
                                {
                                    "0": "Whalen",
                                    "1": "Administration",
                                    "2": "1"
                                },
                                {
                                    "0": "Hartstein",
                                    "1": "Marketing",
                                    "2": "2"
                                },
                                {
                                    "0": "Fay",
                                    "1": "Marketing",
                                    "2": "2"
                                },
                                {
                                    "0": "Mavris",
                                    "1": "Human Resources",
                                    "2": "4"
                                },
                                {
                                    "0": "Baer",
                                    "1": "Public Relations",
                                    "2": "7"
                                },
                                {
                                    "0": "Higgins",
                                    "1": "Accounting",
                                    "2": "11"
                                },
                                {
                                    "0": "Gietz",
                                    "1": "Accounting",
                                    "2": "11"
                                }
                            ]
                        },
                        "text/html": "<table><tr><th>last_name</th><th>department_name</th><th>department_id</th></tr><tr><td>Kochhar</td><td>Executive</td><td>9</td></tr><tr><td>De Haan</td><td>Executive</td><td>9</td></tr><tr><td>Hunold</td><td>IT</td><td>6</td></tr><tr><td>Ernst</td><td>IT</td><td>6</td></tr><tr><td>Austin</td><td>IT</td><td>6</td></tr><tr><td>Pataballa</td><td>IT</td><td>6</td></tr><tr><td>Lorentz</td><td>IT</td><td>6</td></tr><tr><td>Greenberg</td><td>Finance</td><td>10</td></tr><tr><td>Faviet</td><td>Finance</td><td>10</td></tr><tr><td>Chen</td><td>Finance</td><td>10</td></tr><tr><td>Sciarra</td><td>Finance</td><td>10</td></tr><tr><td>Urman</td><td>Finance</td><td>10</td></tr><tr><td>Popp</td><td>Finance</td><td>10</td></tr><tr><td>Raphaely</td><td>Purchasing</td><td>3</td></tr><tr><td>Khoo</td><td>Purchasing</td><td>3</td></tr><tr><td>Baida</td><td>Purchasing</td><td>3</td></tr><tr><td>Tobias</td><td>Purchasing</td><td>3</td></tr><tr><td>Himuro</td><td>Purchasing</td><td>3</td></tr><tr><td>Colmenares</td><td>Purchasing</td><td>3</td></tr><tr><td>Weiss</td><td>Shipping</td><td>5</td></tr><tr><td>Fripp</td><td>Shipping</td><td>5</td></tr><tr><td>Kaufling</td><td>Shipping</td><td>5</td></tr><tr><td>Vollman</td><td>Shipping</td><td>5</td></tr><tr><td>Mikkilineni</td><td>Shipping</td><td>5</td></tr><tr><td>Russell</td><td>Sales</td><td>8</td></tr><tr><td>Partners</td><td>Sales</td><td>8</td></tr><tr><td>Taylor</td><td>Sales</td><td>8</td></tr><tr><td>Livingston</td><td>Sales</td><td>8</td></tr><tr><td>Grant</td><td>Sales</td><td>8</td></tr><tr><td>Johnson</td><td>Sales</td><td>8</td></tr><tr><td>Bell</td><td>Shipping</td><td>5</td></tr><tr><td>Everett</td><td>Shipping</td><td>5</td></tr><tr><td>Whalen</td><td>Administration</td><td>1</td></tr><tr><td>Hartstein</td><td>Marketing</td><td>2</td></tr><tr><td>Fay</td><td>Marketing</td><td>2</td></tr><tr><td>Mavris</td><td>Human Resources</td><td>4</td></tr><tr><td>Baer</td><td>Public Relations</td><td>7</td></tr><tr><td>Higgins</td><td>Accounting</td><td>11</td></tr><tr><td>Gietz</td><td>Accounting</td><td>11</td></tr></table>"
                    },
                    "metadata": {}
                }
            ],
            "execution_count": 9
        },
        {
            "cell_type": "code",
            "source": [
                "--Solution No:8\r\n",
                "select emp.last_name,emp.department_id as 'Department_Number' ,dept.department_name,j.job_title from employees emp join departments dept\r\n",
                "on dept.department_id=emp.department_id\r\n",
                "join jobs j on emp.job_id=j.job_id"
            ],
            "metadata": {
                "language": "sql",
                "azdata_cell_guid": "ff02a9bd-f31e-401a-a7da-f9afc60a49ba"
            },
            "outputs": [
                {
                    "output_type": "display_data",
                    "data": {
                        "text/html": "(40 rows affected)"
                    },
                    "metadata": {}
                },
                {
                    "output_type": "display_data",
                    "data": {
                        "text/html": "Total execution time: 00:00:00.005"
                    },
                    "metadata": {}
                },
                {
                    "output_type": "execute_result",
                    "execution_count": 10,
                    "data": {
                        "application/vnd.dataresource+json": {
                            "schema": {
                                "fields": [
                                    {
                                        "name": "last_name"
                                    },
                                    {
                                        "name": "Department_Number"
                                    },
                                    {
                                        "name": "department_name"
                                    },
                                    {
                                        "name": "job_title"
                                    }
                                ]
                            },
                            "data": [
                                {
                                    "0": "King",
                                    "1": "9",
                                    "2": "Executive",
                                    "3": "President"
                                },
                                {
                                    "0": "Kochhar",
                                    "1": "9",
                                    "2": "Executive",
                                    "3": "Administration Vice President"
                                },
                                {
                                    "0": "De Haan",
                                    "1": "9",
                                    "2": "Executive",
                                    "3": "Administration Vice President"
                                },
                                {
                                    "0": "Hunold",
                                    "1": "6",
                                    "2": "IT",
                                    "3": "Programmer"
                                },
                                {
                                    "0": "Ernst",
                                    "1": "6",
                                    "2": "IT",
                                    "3": "Programmer"
                                },
                                {
                                    "0": "Austin",
                                    "1": "6",
                                    "2": "IT",
                                    "3": "Programmer"
                                },
                                {
                                    "0": "Pataballa",
                                    "1": "6",
                                    "2": "IT",
                                    "3": "Programmer"
                                },
                                {
                                    "0": "Lorentz",
                                    "1": "6",
                                    "2": "IT",
                                    "3": "Programmer"
                                },
                                {
                                    "0": "Greenberg",
                                    "1": "10",
                                    "2": "Finance",
                                    "3": "Finance Manager"
                                },
                                {
                                    "0": "Faviet",
                                    "1": "10",
                                    "2": "Finance",
                                    "3": "Accountant"
                                },
                                {
                                    "0": "Chen",
                                    "1": "10",
                                    "2": "Finance",
                                    "3": "Accountant"
                                },
                                {
                                    "0": "Sciarra",
                                    "1": "10",
                                    "2": "Finance",
                                    "3": "Accountant"
                                },
                                {
                                    "0": "Urman",
                                    "1": "10",
                                    "2": "Finance",
                                    "3": "Accountant"
                                },
                                {
                                    "0": "Popp",
                                    "1": "10",
                                    "2": "Finance",
                                    "3": "Accountant"
                                },
                                {
                                    "0": "Raphaely",
                                    "1": "3",
                                    "2": "Purchasing",
                                    "3": "Purchasing Manager"
                                },
                                {
                                    "0": "Khoo",
                                    "1": "3",
                                    "2": "Purchasing",
                                    "3": "Purchasing Clerk"
                                },
                                {
                                    "0": "Baida",
                                    "1": "3",
                                    "2": "Purchasing",
                                    "3": "Purchasing Clerk"
                                },
                                {
                                    "0": "Tobias",
                                    "1": "3",
                                    "2": "Purchasing",
                                    "3": "Purchasing Clerk"
                                },
                                {
                                    "0": "Himuro",
                                    "1": "3",
                                    "2": "Purchasing",
                                    "3": "Purchasing Clerk"
                                },
                                {
                                    "0": "Colmenares",
                                    "1": "3",
                                    "2": "Purchasing",
                                    "3": "Purchasing Clerk"
                                },
                                {
                                    "0": "Weiss",
                                    "1": "5",
                                    "2": "Shipping",
                                    "3": "Stock Manager"
                                },
                                {
                                    "0": "Fripp",
                                    "1": "5",
                                    "2": "Shipping",
                                    "3": "Stock Manager"
                                },
                                {
                                    "0": "Kaufling",
                                    "1": "5",
                                    "2": "Shipping",
                                    "3": "Stock Manager"
                                },
                                {
                                    "0": "Vollman",
                                    "1": "5",
                                    "2": "Shipping",
                                    "3": "Stock Manager"
                                },
                                {
                                    "0": "Mikkilineni",
                                    "1": "5",
                                    "2": "Shipping",
                                    "3": "Stock Clerk"
                                },
                                {
                                    "0": "Russell",
                                    "1": "8",
                                    "2": "Sales",
                                    "3": "Sales Manager"
                                },
                                {
                                    "0": "Partners",
                                    "1": "8",
                                    "2": "Sales",
                                    "3": "Sales Manager"
                                },
                                {
                                    "0": "Taylor",
                                    "1": "8",
                                    "2": "Sales",
                                    "3": "Sales Representative"
                                },
                                {
                                    "0": "Livingston",
                                    "1": "8",
                                    "2": "Sales",
                                    "3": "Sales Representative"
                                },
                                {
                                    "0": "Grant",
                                    "1": "8",
                                    "2": "Sales",
                                    "3": "Sales Representative"
                                },
                                {
                                    "0": "Johnson",
                                    "1": "8",
                                    "2": "Sales",
                                    "3": "Sales Representative"
                                },
                                {
                                    "0": "Bell",
                                    "1": "5",
                                    "2": "Shipping",
                                    "3": "Shipping Clerk"
                                },
                                {
                                    "0": "Everett",
                                    "1": "5",
                                    "2": "Shipping",
                                    "3": "Shipping Clerk"
                                },
                                {
                                    "0": "Whalen",
                                    "1": "1",
                                    "2": "Administration",
                                    "3": "Administration Assistant"
                                },
                                {
                                    "0": "Hartstein",
                                    "1": "2",
                                    "2": "Marketing",
                                    "3": "Marketing Manager"
                                },
                                {
                                    "0": "Fay",
                                    "1": "2",
                                    "2": "Marketing",
                                    "3": "Marketing Representative"
                                },
                                {
                                    "0": "Mavris",
                                    "1": "4",
                                    "2": "Human Resources",
                                    "3": "Human Resources Representative"
                                },
                                {
                                    "0": "Baer",
                                    "1": "7",
                                    "2": "Public Relations",
                                    "3": "Public Relations Representative"
                                },
                                {
                                    "0": "Higgins",
                                    "1": "11",
                                    "2": "Accounting",
                                    "3": "Accounting Manager"
                                },
                                {
                                    "0": "Gietz",
                                    "1": "11",
                                    "2": "Accounting",
                                    "3": "Public Accountant"
                                }
                            ]
                        },
                        "text/html": "<table><tr><th>last_name</th><th>Department_Number</th><th>department_name</th><th>job_title</th></tr><tr><td>King</td><td>9</td><td>Executive</td><td>President</td></tr><tr><td>Kochhar</td><td>9</td><td>Executive</td><td>Administration Vice President</td></tr><tr><td>De Haan</td><td>9</td><td>Executive</td><td>Administration Vice President</td></tr><tr><td>Hunold</td><td>6</td><td>IT</td><td>Programmer</td></tr><tr><td>Ernst</td><td>6</td><td>IT</td><td>Programmer</td></tr><tr><td>Austin</td><td>6</td><td>IT</td><td>Programmer</td></tr><tr><td>Pataballa</td><td>6</td><td>IT</td><td>Programmer</td></tr><tr><td>Lorentz</td><td>6</td><td>IT</td><td>Programmer</td></tr><tr><td>Greenberg</td><td>10</td><td>Finance</td><td>Finance Manager</td></tr><tr><td>Faviet</td><td>10</td><td>Finance</td><td>Accountant</td></tr><tr><td>Chen</td><td>10</td><td>Finance</td><td>Accountant</td></tr><tr><td>Sciarra</td><td>10</td><td>Finance</td><td>Accountant</td></tr><tr><td>Urman</td><td>10</td><td>Finance</td><td>Accountant</td></tr><tr><td>Popp</td><td>10</td><td>Finance</td><td>Accountant</td></tr><tr><td>Raphaely</td><td>3</td><td>Purchasing</td><td>Purchasing Manager</td></tr><tr><td>Khoo</td><td>3</td><td>Purchasing</td><td>Purchasing Clerk</td></tr><tr><td>Baida</td><td>3</td><td>Purchasing</td><td>Purchasing Clerk</td></tr><tr><td>Tobias</td><td>3</td><td>Purchasing</td><td>Purchasing Clerk</td></tr><tr><td>Himuro</td><td>3</td><td>Purchasing</td><td>Purchasing Clerk</td></tr><tr><td>Colmenares</td><td>3</td><td>Purchasing</td><td>Purchasing Clerk</td></tr><tr><td>Weiss</td><td>5</td><td>Shipping</td><td>Stock Manager</td></tr><tr><td>Fripp</td><td>5</td><td>Shipping</td><td>Stock Manager</td></tr><tr><td>Kaufling</td><td>5</td><td>Shipping</td><td>Stock Manager</td></tr><tr><td>Vollman</td><td>5</td><td>Shipping</td><td>Stock Manager</td></tr><tr><td>Mikkilineni</td><td>5</td><td>Shipping</td><td>Stock Clerk</td></tr><tr><td>Russell</td><td>8</td><td>Sales</td><td>Sales Manager</td></tr><tr><td>Partners</td><td>8</td><td>Sales</td><td>Sales Manager</td></tr><tr><td>Taylor</td><td>8</td><td>Sales</td><td>Sales Representative</td></tr><tr><td>Livingston</td><td>8</td><td>Sales</td><td>Sales Representative</td></tr><tr><td>Grant</td><td>8</td><td>Sales</td><td>Sales Representative</td></tr><tr><td>Johnson</td><td>8</td><td>Sales</td><td>Sales Representative</td></tr><tr><td>Bell</td><td>5</td><td>Shipping</td><td>Shipping Clerk</td></tr><tr><td>Everett</td><td>5</td><td>Shipping</td><td>Shipping Clerk</td></tr><tr><td>Whalen</td><td>1</td><td>Administration</td><td>Administration Assistant</td></tr><tr><td>Hartstein</td><td>2</td><td>Marketing</td><td>Marketing Manager</td></tr><tr><td>Fay</td><td>2</td><td>Marketing</td><td>Marketing Representative</td></tr><tr><td>Mavris</td><td>4</td><td>Human Resources</td><td>Human Resources Representative</td></tr><tr><td>Baer</td><td>7</td><td>Public Relations</td><td>Public Relations Representative</td></tr><tr><td>Higgins</td><td>11</td><td>Accounting</td><td>Accounting Manager</td></tr><tr><td>Gietz</td><td>11</td><td>Accounting</td><td>Public Accountant</td></tr></table>"
                    },
                    "metadata": {}
                }
            ],
            "execution_count": 10
        },
        {
            "cell_type": "code",
            "source": [
                "\r\n",
                "--Solution No:9\r\n",
                "select emp1.last_name, emp1.employee_id , manager.first_name as 'Manager', manager.manager_id from  employees emp1 , employees manager\r\n",
                "where emp1.manager_id= manager.employee_id"
            ],
            "metadata": {
                "language": "sql",
                "azdata_cell_guid": "c9950a61-e265-4385-807a-7d06de85089f"
            },
            "outputs": [
                {
                    "output_type": "display_data",
                    "data": {
                        "text/html": "(39 rows affected)"
                    },
                    "metadata": {}
                },
                {
                    "output_type": "display_data",
                    "data": {
                        "text/html": "Total execution time: 00:00:00.004"
                    },
                    "metadata": {}
                },
                {
                    "output_type": "execute_result",
                    "execution_count": 11,
                    "data": {
                        "application/vnd.dataresource+json": {
                            "schema": {
                                "fields": [
                                    {
                                        "name": "last_name"
                                    },
                                    {
                                        "name": "employee_id"
                                    },
                                    {
                                        "name": "Manager"
                                    },
                                    {
                                        "name": "manager_id"
                                    }
                                ]
                            },
                            "data": [
                                {
                                    "0": "Kochhar",
                                    "1": "101",
                                    "2": "Steven",
                                    "3": "NULL"
                                },
                                {
                                    "0": "De Haan",
                                    "1": "102",
                                    "2": "Steven",
                                    "3": "NULL"
                                },
                                {
                                    "0": "Hunold",
                                    "1": "103",
                                    "2": "Lex",
                                    "3": "100"
                                },
                                {
                                    "0": "Ernst",
                                    "1": "104",
                                    "2": "Alexander",
                                    "3": "102"
                                },
                                {
                                    "0": "Austin",
                                    "1": "105",
                                    "2": "Alexander",
                                    "3": "102"
                                },
                                {
                                    "0": "Pataballa",
                                    "1": "106",
                                    "2": "Alexander",
                                    "3": "102"
                                },
                                {
                                    "0": "Lorentz",
                                    "1": "107",
                                    "2": "Alexander",
                                    "3": "102"
                                },
                                {
                                    "0": "Greenberg",
                                    "1": "108",
                                    "2": "Neena",
                                    "3": "100"
                                },
                                {
                                    "0": "Faviet",
                                    "1": "109",
                                    "2": "Nancy",
                                    "3": "101"
                                },
                                {
                                    "0": "Chen",
                                    "1": "110",
                                    "2": "Nancy",
                                    "3": "101"
                                },
                                {
                                    "0": "Sciarra",
                                    "1": "111",
                                    "2": "Nancy",
                                    "3": "101"
                                },
                                {
                                    "0": "Urman",
                                    "1": "112",
                                    "2": "Nancy",
                                    "3": "101"
                                },
                                {
                                    "0": "Popp",
                                    "1": "113",
                                    "2": "Nancy",
                                    "3": "101"
                                },
                                {
                                    "0": "Raphaely",
                                    "1": "114",
                                    "2": "Steven",
                                    "3": "NULL"
                                },
                                {
                                    "0": "Khoo",
                                    "1": "115",
                                    "2": "Den",
                                    "3": "100"
                                },
                                {
                                    "0": "Baida",
                                    "1": "116",
                                    "2": "Den",
                                    "3": "100"
                                },
                                {
                                    "0": "Tobias",
                                    "1": "117",
                                    "2": "Den",
                                    "3": "100"
                                },
                                {
                                    "0": "Himuro",
                                    "1": "118",
                                    "2": "Den",
                                    "3": "100"
                                },
                                {
                                    "0": "Colmenares",
                                    "1": "119",
                                    "2": "Den",
                                    "3": "100"
                                },
                                {
                                    "0": "Weiss",
                                    "1": "120",
                                    "2": "Steven",
                                    "3": "NULL"
                                },
                                {
                                    "0": "Fripp",
                                    "1": "121",
                                    "2": "Steven",
                                    "3": "NULL"
                                },
                                {
                                    "0": "Kaufling",
                                    "1": "122",
                                    "2": "Steven",
                                    "3": "NULL"
                                },
                                {
                                    "0": "Vollman",
                                    "1": "123",
                                    "2": "Steven",
                                    "3": "NULL"
                                },
                                {
                                    "0": "Mikkilineni",
                                    "1": "126",
                                    "2": "Matthew",
                                    "3": "100"
                                },
                                {
                                    "0": "Russell",
                                    "1": "145",
                                    "2": "Steven",
                                    "3": "NULL"
                                },
                                {
                                    "0": "Partners",
                                    "1": "146",
                                    "2": "Steven",
                                    "3": "NULL"
                                },
                                {
                                    "0": "Taylor",
                                    "1": "176",
                                    "2": "Steven",
                                    "3": "NULL"
                                },
                                {
                                    "0": "Livingston",
                                    "1": "177",
                                    "2": "Steven",
                                    "3": "NULL"
                                },
                                {
                                    "0": "Grant",
                                    "1": "178",
                                    "2": "Steven",
                                    "3": "NULL"
                                },
                                {
                                    "0": "Johnson",
                                    "1": "179",
                                    "2": "Steven",
                                    "3": "NULL"
                                },
                                {
                                    "0": "Bell",
                                    "1": "192",
                                    "2": "Shanta",
                                    "3": "100"
                                },
                                {
                                    "0": "Everett",
                                    "1": "193",
                                    "2": "Shanta",
                                    "3": "100"
                                },
                                {
                                    "0": "Whalen",
                                    "1": "200",
                                    "2": "Neena",
                                    "3": "100"
                                },
                                {
                                    "0": "Hartstein",
                                    "1": "201",
                                    "2": "Steven",
                                    "3": "NULL"
                                },
                                {
                                    "0": "Fay",
                                    "1": "202",
                                    "2": "Michael",
                                    "3": "100"
                                },
                                {
                                    "0": "Mavris",
                                    "1": "203",
                                    "2": "Neena",
                                    "3": "100"
                                },
                                {
                                    "0": "Baer",
                                    "1": "204",
                                    "2": "Neena",
                                    "3": "100"
                                },
                                {
                                    "0": "Higgins",
                                    "1": "205",
                                    "2": "Neena",
                                    "3": "100"
                                },
                                {
                                    "0": "Gietz",
                                    "1": "206",
                                    "2": "Shelley",
                                    "3": "101"
                                }
                            ]
                        },
                        "text/html": "<table><tr><th>last_name</th><th>employee_id</th><th>Manager</th><th>manager_id</th></tr><tr><td>Kochhar</td><td>101</td><td>Steven</td><td>NULL</td></tr><tr><td>De Haan</td><td>102</td><td>Steven</td><td>NULL</td></tr><tr><td>Hunold</td><td>103</td><td>Lex</td><td>100</td></tr><tr><td>Ernst</td><td>104</td><td>Alexander</td><td>102</td></tr><tr><td>Austin</td><td>105</td><td>Alexander</td><td>102</td></tr><tr><td>Pataballa</td><td>106</td><td>Alexander</td><td>102</td></tr><tr><td>Lorentz</td><td>107</td><td>Alexander</td><td>102</td></tr><tr><td>Greenberg</td><td>108</td><td>Neena</td><td>100</td></tr><tr><td>Faviet</td><td>109</td><td>Nancy</td><td>101</td></tr><tr><td>Chen</td><td>110</td><td>Nancy</td><td>101</td></tr><tr><td>Sciarra</td><td>111</td><td>Nancy</td><td>101</td></tr><tr><td>Urman</td><td>112</td><td>Nancy</td><td>101</td></tr><tr><td>Popp</td><td>113</td><td>Nancy</td><td>101</td></tr><tr><td>Raphaely</td><td>114</td><td>Steven</td><td>NULL</td></tr><tr><td>Khoo</td><td>115</td><td>Den</td><td>100</td></tr><tr><td>Baida</td><td>116</td><td>Den</td><td>100</td></tr><tr><td>Tobias</td><td>117</td><td>Den</td><td>100</td></tr><tr><td>Himuro</td><td>118</td><td>Den</td><td>100</td></tr><tr><td>Colmenares</td><td>119</td><td>Den</td><td>100</td></tr><tr><td>Weiss</td><td>120</td><td>Steven</td><td>NULL</td></tr><tr><td>Fripp</td><td>121</td><td>Steven</td><td>NULL</td></tr><tr><td>Kaufling</td><td>122</td><td>Steven</td><td>NULL</td></tr><tr><td>Vollman</td><td>123</td><td>Steven</td><td>NULL</td></tr><tr><td>Mikkilineni</td><td>126</td><td>Matthew</td><td>100</td></tr><tr><td>Russell</td><td>145</td><td>Steven</td><td>NULL</td></tr><tr><td>Partners</td><td>146</td><td>Steven</td><td>NULL</td></tr><tr><td>Taylor</td><td>176</td><td>Steven</td><td>NULL</td></tr><tr><td>Livingston</td><td>177</td><td>Steven</td><td>NULL</td></tr><tr><td>Grant</td><td>178</td><td>Steven</td><td>NULL</td></tr><tr><td>Johnson</td><td>179</td><td>Steven</td><td>NULL</td></tr><tr><td>Bell</td><td>192</td><td>Shanta</td><td>100</td></tr><tr><td>Everett</td><td>193</td><td>Shanta</td><td>100</td></tr><tr><td>Whalen</td><td>200</td><td>Neena</td><td>100</td></tr><tr><td>Hartstein</td><td>201</td><td>Steven</td><td>NULL</td></tr><tr><td>Fay</td><td>202</td><td>Michael</td><td>100</td></tr><tr><td>Mavris</td><td>203</td><td>Neena</td><td>100</td></tr><tr><td>Baer</td><td>204</td><td>Neena</td><td>100</td></tr><tr><td>Higgins</td><td>205</td><td>Neena</td><td>100</td></tr><tr><td>Gietz</td><td>206</td><td>Shelley</td><td>101</td></tr></table>"
                    },
                    "metadata": {}
                }
            ],
            "execution_count": 11
        },
        {
            "cell_type": "code",
            "source": [
                "--Solution No:10\r\n",
                "select last_name,department_id from employees order by last_name"
            ],
            "metadata": {
                "azdata_cell_guid": "a43acd67-7a87-432f-93fd-af6b44eec179",
                "language": "sql"
            },
            "outputs": [
                {
                    "output_type": "display_data",
                    "data": {
                        "text/html": "(40 rows affected)"
                    },
                    "metadata": {}
                },
                {
                    "output_type": "display_data",
                    "data": {
                        "text/html": "Total execution time: 00:00:00.004"
                    },
                    "metadata": {}
                },
                {
                    "output_type": "execute_result",
                    "execution_count": 12,
                    "data": {
                        "application/vnd.dataresource+json": {
                            "schema": {
                                "fields": [
                                    {
                                        "name": "last_name"
                                    },
                                    {
                                        "name": "department_id"
                                    }
                                ]
                            },
                            "data": [
                                {
                                    "0": "Austin",
                                    "1": "6"
                                },
                                {
                                    "0": "Baer",
                                    "1": "7"
                                },
                                {
                                    "0": "Baida",
                                    "1": "3"
                                },
                                {
                                    "0": "Bell",
                                    "1": "5"
                                },
                                {
                                    "0": "Chen",
                                    "1": "10"
                                },
                                {
                                    "0": "Colmenares",
                                    "1": "3"
                                },
                                {
                                    "0": "De Haan",
                                    "1": "9"
                                },
                                {
                                    "0": "Ernst",
                                    "1": "6"
                                },
                                {
                                    "0": "Everett",
                                    "1": "5"
                                },
                                {
                                    "0": "Faviet",
                                    "1": "10"
                                },
                                {
                                    "0": "Fay",
                                    "1": "2"
                                },
                                {
                                    "0": "Fripp",
                                    "1": "5"
                                },
                                {
                                    "0": "Gietz",
                                    "1": "11"
                                },
                                {
                                    "0": "Grant",
                                    "1": "8"
                                },
                                {
                                    "0": "Greenberg",
                                    "1": "10"
                                },
                                {
                                    "0": "Hartstein",
                                    "1": "2"
                                },
                                {
                                    "0": "Higgins",
                                    "1": "11"
                                },
                                {
                                    "0": "Himuro",
                                    "1": "3"
                                },
                                {
                                    "0": "Hunold",
                                    "1": "6"
                                },
                                {
                                    "0": "Johnson",
                                    "1": "8"
                                },
                                {
                                    "0": "Kaufling",
                                    "1": "5"
                                },
                                {
                                    "0": "Khoo",
                                    "1": "3"
                                },
                                {
                                    "0": "King",
                                    "1": "9"
                                },
                                {
                                    "0": "Kochhar",
                                    "1": "9"
                                },
                                {
                                    "0": "Livingston",
                                    "1": "8"
                                },
                                {
                                    "0": "Lorentz",
                                    "1": "6"
                                },
                                {
                                    "0": "Mavris",
                                    "1": "4"
                                },
                                {
                                    "0": "Mikkilineni",
                                    "1": "5"
                                },
                                {
                                    "0": "Partners",
                                    "1": "8"
                                },
                                {
                                    "0": "Pataballa",
                                    "1": "6"
                                },
                                {
                                    "0": "Popp",
                                    "1": "10"
                                },
                                {
                                    "0": "Raphaely",
                                    "1": "3"
                                },
                                {
                                    "0": "Russell",
                                    "1": "8"
                                },
                                {
                                    "0": "Sciarra",
                                    "1": "10"
                                },
                                {
                                    "0": "Taylor",
                                    "1": "8"
                                },
                                {
                                    "0": "Tobias",
                                    "1": "3"
                                },
                                {
                                    "0": "Urman",
                                    "1": "10"
                                },
                                {
                                    "0": "Vollman",
                                    "1": "5"
                                },
                                {
                                    "0": "Weiss",
                                    "1": "5"
                                },
                                {
                                    "0": "Whalen",
                                    "1": "1"
                                }
                            ]
                        },
                        "text/html": "<table><tr><th>last_name</th><th>department_id</th></tr><tr><td>Austin</td><td>6</td></tr><tr><td>Baer</td><td>7</td></tr><tr><td>Baida</td><td>3</td></tr><tr><td>Bell</td><td>5</td></tr><tr><td>Chen</td><td>10</td></tr><tr><td>Colmenares</td><td>3</td></tr><tr><td>De Haan</td><td>9</td></tr><tr><td>Ernst</td><td>6</td></tr><tr><td>Everett</td><td>5</td></tr><tr><td>Faviet</td><td>10</td></tr><tr><td>Fay</td><td>2</td></tr><tr><td>Fripp</td><td>5</td></tr><tr><td>Gietz</td><td>11</td></tr><tr><td>Grant</td><td>8</td></tr><tr><td>Greenberg</td><td>10</td></tr><tr><td>Hartstein</td><td>2</td></tr><tr><td>Higgins</td><td>11</td></tr><tr><td>Himuro</td><td>3</td></tr><tr><td>Hunold</td><td>6</td></tr><tr><td>Johnson</td><td>8</td></tr><tr><td>Kaufling</td><td>5</td></tr><tr><td>Khoo</td><td>3</td></tr><tr><td>King</td><td>9</td></tr><tr><td>Kochhar</td><td>9</td></tr><tr><td>Livingston</td><td>8</td></tr><tr><td>Lorentz</td><td>6</td></tr><tr><td>Mavris</td><td>4</td></tr><tr><td>Mikkilineni</td><td>5</td></tr><tr><td>Partners</td><td>8</td></tr><tr><td>Pataballa</td><td>6</td></tr><tr><td>Popp</td><td>10</td></tr><tr><td>Raphaely</td><td>3</td></tr><tr><td>Russell</td><td>8</td></tr><tr><td>Sciarra</td><td>10</td></tr><tr><td>Taylor</td><td>8</td></tr><tr><td>Tobias</td><td>3</td></tr><tr><td>Urman</td><td>10</td></tr><tr><td>Vollman</td><td>5</td></tr><tr><td>Weiss</td><td>5</td></tr><tr><td>Whalen</td><td>1</td></tr></table>"
                    },
                    "metadata": {}
                }
            ],
            "execution_count": 12
        },
        {
            "cell_type": "code",
            "source": [
                "select CONCAT('C','')  as 'Garde',CONCAT(emp.first_name ,' ',emp.last_name) as 'Name' , j.job_title,emp.department_id, emp.salary from employees emp join jobs j\r\n",
                "on emp.job_id=j.job_id\r\n",
                ""
            ],
            "metadata": {
                "azdata_cell_guid": "2b9ec5b2-2ba2-45ba-8d6a-8b4eb1c663a0",
                "language": "sql"
            },
            "outputs": [
                {
                    "output_type": "display_data",
                    "data": {
                        "text/html": "(40 rows affected)"
                    },
                    "metadata": {}
                },
                {
                    "output_type": "display_data",
                    "data": {
                        "text/html": "Total execution time: 00:00:00.005"
                    },
                    "metadata": {}
                },
                {
                    "output_type": "execute_result",
                    "execution_count": 13,
                    "data": {
                        "application/vnd.dataresource+json": {
                            "schema": {
                                "fields": [
                                    {
                                        "name": "Garde"
                                    },
                                    {
                                        "name": "Name"
                                    },
                                    {
                                        "name": "job_title"
                                    },
                                    {
                                        "name": "department_id"
                                    },
                                    {
                                        "name": "salary"
                                    }
                                ]
                            },
                            "data": [
                                {
                                    "0": "C",
                                    "1": "Steven King",
                                    "2": "President",
                                    "3": "9",
                                    "4": "24000.00"
                                },
                                {
                                    "0": "C",
                                    "1": "Neena Kochhar",
                                    "2": "Administration Vice President",
                                    "3": "9",
                                    "4": "17000.00"
                                },
                                {
                                    "0": "C",
                                    "1": "Lex De Haan",
                                    "2": "Administration Vice President",
                                    "3": "9",
                                    "4": "17000.00"
                                },
                                {
                                    "0": "C",
                                    "1": "Alexander Hunold",
                                    "2": "Programmer",
                                    "3": "6",
                                    "4": "9000.00"
                                },
                                {
                                    "0": "C",
                                    "1": "Bruce Ernst",
                                    "2": "Programmer",
                                    "3": "6",
                                    "4": "6000.00"
                                },
                                {
                                    "0": "C",
                                    "1": "David Austin",
                                    "2": "Programmer",
                                    "3": "6",
                                    "4": "4800.00"
                                },
                                {
                                    "0": "C",
                                    "1": "Valli Pataballa",
                                    "2": "Programmer",
                                    "3": "6",
                                    "4": "4800.00"
                                },
                                {
                                    "0": "C",
                                    "1": "Diana Lorentz",
                                    "2": "Programmer",
                                    "3": "6",
                                    "4": "4200.00"
                                },
                                {
                                    "0": "C",
                                    "1": "Nancy Greenberg",
                                    "2": "Finance Manager",
                                    "3": "10",
                                    "4": "12000.00"
                                },
                                {
                                    "0": "C",
                                    "1": "Daniel Faviet",
                                    "2": "Accountant",
                                    "3": "10",
                                    "4": "9000.00"
                                },
                                {
                                    "0": "C",
                                    "1": "John Chen",
                                    "2": "Accountant",
                                    "3": "10",
                                    "4": "8200.00"
                                },
                                {
                                    "0": "C",
                                    "1": "Ismael Sciarra",
                                    "2": "Accountant",
                                    "3": "10",
                                    "4": "7700.00"
                                },
                                {
                                    "0": "C",
                                    "1": "Jose Manuel Urman",
                                    "2": "Accountant",
                                    "3": "10",
                                    "4": "7800.00"
                                },
                                {
                                    "0": "C",
                                    "1": "Luis Popp",
                                    "2": "Accountant",
                                    "3": "10",
                                    "4": "6900.00"
                                },
                                {
                                    "0": "C",
                                    "1": "Den Raphaely",
                                    "2": "Purchasing Manager",
                                    "3": "3",
                                    "4": "11000.00"
                                },
                                {
                                    "0": "C",
                                    "1": "Alexander Khoo",
                                    "2": "Purchasing Clerk",
                                    "3": "3",
                                    "4": "3100.00"
                                },
                                {
                                    "0": "C",
                                    "1": "Shelli Baida",
                                    "2": "Purchasing Clerk",
                                    "3": "3",
                                    "4": "2900.00"
                                },
                                {
                                    "0": "C",
                                    "1": "Sigal Tobias",
                                    "2": "Purchasing Clerk",
                                    "3": "3",
                                    "4": "2800.00"
                                },
                                {
                                    "0": "C",
                                    "1": "Guy Himuro",
                                    "2": "Purchasing Clerk",
                                    "3": "3",
                                    "4": "2600.00"
                                },
                                {
                                    "0": "C",
                                    "1": "Karen Colmenares",
                                    "2": "Purchasing Clerk",
                                    "3": "3",
                                    "4": "2500.00"
                                },
                                {
                                    "0": "C",
                                    "1": "Matthew Weiss",
                                    "2": "Stock Manager",
                                    "3": "5",
                                    "4": "8000.00"
                                },
                                {
                                    "0": "C",
                                    "1": "Adam Fripp",
                                    "2": "Stock Manager",
                                    "3": "5",
                                    "4": "8200.00"
                                },
                                {
                                    "0": "C",
                                    "1": "Payam Kaufling",
                                    "2": "Stock Manager",
                                    "3": "5",
                                    "4": "7900.00"
                                },
                                {
                                    "0": "C",
                                    "1": "Shanta Vollman",
                                    "2": "Stock Manager",
                                    "3": "5",
                                    "4": "6500.00"
                                },
                                {
                                    "0": "C",
                                    "1": "Irene Mikkilineni",
                                    "2": "Stock Clerk",
                                    "3": "5",
                                    "4": "2700.00"
                                },
                                {
                                    "0": "C",
                                    "1": "John Russell",
                                    "2": "Sales Manager",
                                    "3": "8",
                                    "4": "14000.00"
                                },
                                {
                                    "0": "C",
                                    "1": "Karen Partners",
                                    "2": "Sales Manager",
                                    "3": "8",
                                    "4": "13500.00"
                                },
                                {
                                    "0": "C",
                                    "1": "Jonathon Taylor",
                                    "2": "Sales Representative",
                                    "3": "8",
                                    "4": "8600.00"
                                },
                                {
                                    "0": "C",
                                    "1": "Jack Livingston",
                                    "2": "Sales Representative",
                                    "3": "8",
                                    "4": "8400.00"
                                },
                                {
                                    "0": "C",
                                    "1": "Kimberely Grant",
                                    "2": "Sales Representative",
                                    "3": "8",
                                    "4": "7000.00"
                                },
                                {
                                    "0": "C",
                                    "1": "Charles Johnson",
                                    "2": "Sales Representative",
                                    "3": "8",
                                    "4": "6200.00"
                                },
                                {
                                    "0": "C",
                                    "1": "Sarah Bell",
                                    "2": "Shipping Clerk",
                                    "3": "5",
                                    "4": "4000.00"
                                },
                                {
                                    "0": "C",
                                    "1": "Britney Everett",
                                    "2": "Shipping Clerk",
                                    "3": "5",
                                    "4": "3900.00"
                                },
                                {
                                    "0": "C",
                                    "1": "Jennifer Whalen",
                                    "2": "Administration Assistant",
                                    "3": "1",
                                    "4": "4400.00"
                                },
                                {
                                    "0": "C",
                                    "1": "Michael Hartstein",
                                    "2": "Marketing Manager",
                                    "3": "2",
                                    "4": "13000.00"
                                },
                                {
                                    "0": "C",
                                    "1": "Pat Fay",
                                    "2": "Marketing Representative",
                                    "3": "2",
                                    "4": "6000.00"
                                },
                                {
                                    "0": "C",
                                    "1": "Susan Mavris",
                                    "2": "Human Resources Representative",
                                    "3": "4",
                                    "4": "6500.00"
                                },
                                {
                                    "0": "C",
                                    "1": "Hermann Baer",
                                    "2": "Public Relations Representative",
                                    "3": "7",
                                    "4": "10000.00"
                                },
                                {
                                    "0": "C",
                                    "1": "Shelley Higgins",
                                    "2": "Accounting Manager",
                                    "3": "11",
                                    "4": "12000.00"
                                },
                                {
                                    "0": "C",
                                    "1": "William Gietz",
                                    "2": "Public Accountant",
                                    "3": "11",
                                    "4": "8300.00"
                                }
                            ]
                        },
                        "text/html": "<table><tr><th>Garde</th><th>Name</th><th>job_title</th><th>department_id</th><th>salary</th></tr><tr><td>C</td><td>Steven King</td><td>President</td><td>9</td><td>24000.00</td></tr><tr><td>C</td><td>Neena Kochhar</td><td>Administration Vice President</td><td>9</td><td>17000.00</td></tr><tr><td>C</td><td>Lex De Haan</td><td>Administration Vice President</td><td>9</td><td>17000.00</td></tr><tr><td>C</td><td>Alexander Hunold</td><td>Programmer</td><td>6</td><td>9000.00</td></tr><tr><td>C</td><td>Bruce Ernst</td><td>Programmer</td><td>6</td><td>6000.00</td></tr><tr><td>C</td><td>David Austin</td><td>Programmer</td><td>6</td><td>4800.00</td></tr><tr><td>C</td><td>Valli Pataballa</td><td>Programmer</td><td>6</td><td>4800.00</td></tr><tr><td>C</td><td>Diana Lorentz</td><td>Programmer</td><td>6</td><td>4200.00</td></tr><tr><td>C</td><td>Nancy Greenberg</td><td>Finance Manager</td><td>10</td><td>12000.00</td></tr><tr><td>C</td><td>Daniel Faviet</td><td>Accountant</td><td>10</td><td>9000.00</td></tr><tr><td>C</td><td>John Chen</td><td>Accountant</td><td>10</td><td>8200.00</td></tr><tr><td>C</td><td>Ismael Sciarra</td><td>Accountant</td><td>10</td><td>7700.00</td></tr><tr><td>C</td><td>Jose Manuel Urman</td><td>Accountant</td><td>10</td><td>7800.00</td></tr><tr><td>C</td><td>Luis Popp</td><td>Accountant</td><td>10</td><td>6900.00</td></tr><tr><td>C</td><td>Den Raphaely</td><td>Purchasing Manager</td><td>3</td><td>11000.00</td></tr><tr><td>C</td><td>Alexander Khoo</td><td>Purchasing Clerk</td><td>3</td><td>3100.00</td></tr><tr><td>C</td><td>Shelli Baida</td><td>Purchasing Clerk</td><td>3</td><td>2900.00</td></tr><tr><td>C</td><td>Sigal Tobias</td><td>Purchasing Clerk</td><td>3</td><td>2800.00</td></tr><tr><td>C</td><td>Guy Himuro</td><td>Purchasing Clerk</td><td>3</td><td>2600.00</td></tr><tr><td>C</td><td>Karen Colmenares</td><td>Purchasing Clerk</td><td>3</td><td>2500.00</td></tr><tr><td>C</td><td>Matthew Weiss</td><td>Stock Manager</td><td>5</td><td>8000.00</td></tr><tr><td>C</td><td>Adam Fripp</td><td>Stock Manager</td><td>5</td><td>8200.00</td></tr><tr><td>C</td><td>Payam Kaufling</td><td>Stock Manager</td><td>5</td><td>7900.00</td></tr><tr><td>C</td><td>Shanta Vollman</td><td>Stock Manager</td><td>5</td><td>6500.00</td></tr><tr><td>C</td><td>Irene Mikkilineni</td><td>Stock Clerk</td><td>5</td><td>2700.00</td></tr><tr><td>C</td><td>John Russell</td><td>Sales Manager</td><td>8</td><td>14000.00</td></tr><tr><td>C</td><td>Karen Partners</td><td>Sales Manager</td><td>8</td><td>13500.00</td></tr><tr><td>C</td><td>Jonathon Taylor</td><td>Sales Representative</td><td>8</td><td>8600.00</td></tr><tr><td>C</td><td>Jack Livingston</td><td>Sales Representative</td><td>8</td><td>8400.00</td></tr><tr><td>C</td><td>Kimberely Grant</td><td>Sales Representative</td><td>8</td><td>7000.00</td></tr><tr><td>C</td><td>Charles Johnson</td><td>Sales Representative</td><td>8</td><td>6200.00</td></tr><tr><td>C</td><td>Sarah Bell</td><td>Shipping Clerk</td><td>5</td><td>4000.00</td></tr><tr><td>C</td><td>Britney Everett</td><td>Shipping Clerk</td><td>5</td><td>3900.00</td></tr><tr><td>C</td><td>Jennifer Whalen</td><td>Administration Assistant</td><td>1</td><td>4400.00</td></tr><tr><td>C</td><td>Michael Hartstein</td><td>Marketing Manager</td><td>2</td><td>13000.00</td></tr><tr><td>C</td><td>Pat Fay</td><td>Marketing Representative</td><td>2</td><td>6000.00</td></tr><tr><td>C</td><td>Susan Mavris</td><td>Human Resources Representative</td><td>4</td><td>6500.00</td></tr><tr><td>C</td><td>Hermann Baer</td><td>Public Relations Representative</td><td>7</td><td>10000.00</td></tr><tr><td>C</td><td>Shelley Higgins</td><td>Accounting Manager</td><td>11</td><td>12000.00</td></tr><tr><td>C</td><td>William Gietz</td><td>Public Accountant</td><td>11</td><td>8300.00</td></tr></table>"
                    },
                    "metadata": {}
                }
            ],
            "execution_count": 13
        },
        {
            "cell_type": "code",
            "source": [
                "--Sub Query\r\n",
                "--Solution No:12 \r\n",
                "select last_name, hire_date from employees where department_id in (select department_id from employees where department_id=8 )"
            ],
            "metadata": {
                "azdata_cell_guid": "82f8eb45-24de-42d7-ac3b-23617405331e",
                "language": "sql"
            },
            "outputs": [
                {
                    "output_type": "display_data",
                    "data": {
                        "text/html": "(6 rows affected)"
                    },
                    "metadata": {}
                },
                {
                    "output_type": "display_data",
                    "data": {
                        "text/html": "Total execution time: 00:00:00.009"
                    },
                    "metadata": {}
                },
                {
                    "output_type": "execute_result",
                    "execution_count": 14,
                    "data": {
                        "application/vnd.dataresource+json": {
                            "schema": {
                                "fields": [
                                    {
                                        "name": "last_name"
                                    },
                                    {
                                        "name": "hire_date"
                                    }
                                ]
                            },
                            "data": [
                                {
                                    "0": "Russell",
                                    "1": "1996-10-01"
                                },
                                {
                                    "0": "Partners",
                                    "1": "1997-01-05"
                                },
                                {
                                    "0": "Taylor",
                                    "1": "1998-03-24"
                                },
                                {
                                    "0": "Livingston",
                                    "1": "1998-04-23"
                                },
                                {
                                    "0": "Grant",
                                    "1": "1999-05-24"
                                },
                                {
                                    "0": "Johnson",
                                    "1": "2000-01-04"
                                }
                            ]
                        },
                        "text/html": "<table><tr><th>last_name</th><th>hire_date</th></tr><tr><td>Russell</td><td>1996-10-01</td></tr><tr><td>Partners</td><td>1997-01-05</td></tr><tr><td>Taylor</td><td>1998-03-24</td></tr><tr><td>Livingston</td><td>1998-04-23</td></tr><tr><td>Grant</td><td>1999-05-24</td></tr><tr><td>Johnson</td><td>2000-01-04</td></tr></table>"
                    },
                    "metadata": {}
                }
            ],
            "execution_count": 14
        },
        {
            "cell_type": "code",
            "source": [
                "--Solution No:13\r\n",
                "select employee_id, first_name, salary from employees where salary in (select salary from employees where salary >=8200) order by salary"
            ],
            "metadata": {
                "language": "sql",
                "azdata_cell_guid": "de86d276-5646-4254-8a2a-b0f80b2d7e14"
            },
            "outputs": [
                {
                    "output_type": "display_data",
                    "data": {
                        "text/html": "(17 rows affected)"
                    },
                    "metadata": {}
                },
                {
                    "output_type": "display_data",
                    "data": {
                        "text/html": "Total execution time: 00:00:00.010"
                    },
                    "metadata": {}
                },
                {
                    "output_type": "execute_result",
                    "execution_count": 15,
                    "data": {
                        "application/vnd.dataresource+json": {
                            "schema": {
                                "fields": [
                                    {
                                        "name": "employee_id"
                                    },
                                    {
                                        "name": "first_name"
                                    },
                                    {
                                        "name": "salary"
                                    }
                                ]
                            },
                            "data": [
                                {
                                    "0": "110",
                                    "1": "John",
                                    "2": "8200.00"
                                },
                                {
                                    "0": "121",
                                    "1": "Adam",
                                    "2": "8200.00"
                                },
                                {
                                    "0": "206",
                                    "1": "William",
                                    "2": "8300.00"
                                },
                                {
                                    "0": "177",
                                    "1": "Jack",
                                    "2": "8400.00"
                                },
                                {
                                    "0": "176",
                                    "1": "Jonathon",
                                    "2": "8600.00"
                                },
                                {
                                    "0": "103",
                                    "1": "Alexander",
                                    "2": "9000.00"
                                },
                                {
                                    "0": "109",
                                    "1": "Daniel",
                                    "2": "9000.00"
                                },
                                {
                                    "0": "204",
                                    "1": "Hermann",
                                    "2": "10000.00"
                                },
                                {
                                    "0": "114",
                                    "1": "Den",
                                    "2": "11000.00"
                                },
                                {
                                    "0": "108",
                                    "1": "Nancy",
                                    "2": "12000.00"
                                },
                                {
                                    "0": "205",
                                    "1": "Shelley",
                                    "2": "12000.00"
                                },
                                {
                                    "0": "201",
                                    "1": "Michael",
                                    "2": "13000.00"
                                },
                                {
                                    "0": "146",
                                    "1": "Karen",
                                    "2": "13500.00"
                                },
                                {
                                    "0": "145",
                                    "1": "John",
                                    "2": "14000.00"
                                },
                                {
                                    "0": "101",
                                    "1": "Neena",
                                    "2": "17000.00"
                                },
                                {
                                    "0": "102",
                                    "1": "Lex",
                                    "2": "17000.00"
                                },
                                {
                                    "0": "100",
                                    "1": "Steven",
                                    "2": "24000.00"
                                }
                            ]
                        },
                        "text/html": "<table><tr><th>employee_id</th><th>first_name</th><th>salary</th></tr><tr><td>110</td><td>John</td><td>8200.00</td></tr><tr><td>121</td><td>Adam</td><td>8200.00</td></tr><tr><td>206</td><td>William</td><td>8300.00</td></tr><tr><td>177</td><td>Jack</td><td>8400.00</td></tr><tr><td>176</td><td>Jonathon</td><td>8600.00</td></tr><tr><td>103</td><td>Alexander</td><td>9000.00</td></tr><tr><td>109</td><td>Daniel</td><td>9000.00</td></tr><tr><td>204</td><td>Hermann</td><td>10000.00</td></tr><tr><td>114</td><td>Den</td><td>11000.00</td></tr><tr><td>108</td><td>Nancy</td><td>12000.00</td></tr><tr><td>205</td><td>Shelley</td><td>12000.00</td></tr><tr><td>201</td><td>Michael</td><td>13000.00</td></tr><tr><td>146</td><td>Karen</td><td>13500.00</td></tr><tr><td>145</td><td>John</td><td>14000.00</td></tr><tr><td>101</td><td>Neena</td><td>17000.00</td></tr><tr><td>102</td><td>Lex</td><td>17000.00</td></tr><tr><td>100</td><td>Steven</td><td>24000.00</td></tr></table>"
                    },
                    "metadata": {}
                }
            ],
            "execution_count": 15
        },
        {
            "cell_type": "code",
            "source": [
                "--Solution No:14\r\n",
                "select employee_id as 'Employee Number', last_name from employees where employee_id in \r\n",
                "(select employee_id from employees  where employee_id in(103,105,112,118,122,145))"
            ],
            "metadata": {
                "azdata_cell_guid": "1189db58-826c-4c71-96ed-cdd9df8ae351",
                "language": "sql"
            },
            "outputs": [
                {
                    "output_type": "display_data",
                    "data": {
                        "text/html": "(6 rows affected)"
                    },
                    "metadata": {}
                },
                {
                    "output_type": "display_data",
                    "data": {
                        "text/html": "Total execution time: 00:00:00.003"
                    },
                    "metadata": {}
                },
                {
                    "output_type": "execute_result",
                    "execution_count": 16,
                    "data": {
                        "application/vnd.dataresource+json": {
                            "schema": {
                                "fields": [
                                    {
                                        "name": "Employee Number"
                                    },
                                    {
                                        "name": "last_name"
                                    }
                                ]
                            },
                            "data": [
                                {
                                    "0": "103",
                                    "1": "Hunold"
                                },
                                {
                                    "0": "105",
                                    "1": "Austin"
                                },
                                {
                                    "0": "112",
                                    "1": "Urman"
                                },
                                {
                                    "0": "118",
                                    "1": "Himuro"
                                },
                                {
                                    "0": "122",
                                    "1": "Kaufling"
                                },
                                {
                                    "0": "145",
                                    "1": "Russell"
                                }
                            ]
                        },
                        "text/html": "<table><tr><th>Employee Number</th><th>last_name</th></tr><tr><td>103</td><td>Hunold</td></tr><tr><td>105</td><td>Austin</td></tr><tr><td>112</td><td>Urman</td></tr><tr><td>118</td><td>Himuro</td></tr><tr><td>122</td><td>Kaufling</td></tr><tr><td>145</td><td>Russell</td></tr></table>"
                    },
                    "metadata": {}
                }
            ],
            "execution_count": 16
        },
        {
            "cell_type": "code",
            "source": [
                "--Solution No:15\r\n",
                "select last_name,department_id as 'Department Number', job_id from employees where last_name =(select last_name from employees where last_name='Mavris')\r\n",
                ""
            ],
            "metadata": {
                "language": "sql",
                "azdata_cell_guid": "8b065d6f-d816-4223-8060-d230ba0c8387"
            },
            "outputs": [
                {
                    "output_type": "display_data",
                    "data": {
                        "text/html": "(1 row affected)"
                    },
                    "metadata": {}
                },
                {
                    "output_type": "display_data",
                    "data": {
                        "text/html": "Total execution time: 00:00:00.009"
                    },
                    "metadata": {}
                },
                {
                    "output_type": "execute_result",
                    "execution_count": 17,
                    "data": {
                        "application/vnd.dataresource+json": {
                            "schema": {
                                "fields": [
                                    {
                                        "name": "last_name"
                                    },
                                    {
                                        "name": "Department Number"
                                    },
                                    {
                                        "name": "job_id"
                                    }
                                ]
                            },
                            "data": [
                                {
                                    "0": "Mavris",
                                    "1": "4",
                                    "2": "8"
                                }
                            ]
                        },
                        "text/html": "<table><tr><th>last_name</th><th>Department Number</th><th>job_id</th></tr><tr><td>Mavris</td><td>4</td><td>8</td></tr></table>"
                    },
                    "metadata": {}
                }
            ],
            "execution_count": 17
        },
        {
            "cell_type": "code",
            "source": [
                "\r\n",
                "--Solution No:16\r\n",
                "select  last_name,salary from employees where manager_id=100"
            ],
            "metadata": {
                "language": "sql",
                "azdata_cell_guid": "52f21b47-634b-4e19-8655-ef2487f30489"
            },
            "outputs": [
                {
                    "output_type": "display_data",
                    "data": {
                        "text/html": "(14 rows affected)"
                    },
                    "metadata": {}
                },
                {
                    "output_type": "display_data",
                    "data": {
                        "text/html": "Total execution time: 00:00:00.039"
                    },
                    "metadata": {}
                },
                {
                    "output_type": "execute_result",
                    "metadata": {},
                    "execution_count": 1,
                    "data": {
                        "application/vnd.dataresource+json": {
                            "schema": {
                                "fields": [
                                    {
                                        "name": "last_name"
                                    },
                                    {
                                        "name": "salary"
                                    }
                                ]
                            },
                            "data": [
                                {
                                    "0": "Kochhar",
                                    "1": "17000.00"
                                },
                                {
                                    "0": "De Haan",
                                    "1": "17000.00"
                                },
                                {
                                    "0": "Raphaely",
                                    "1": "11000.00"
                                },
                                {
                                    "0": "Weiss",
                                    "1": "8000.00"
                                },
                                {
                                    "0": "Fripp",
                                    "1": "8200.00"
                                },
                                {
                                    "0": "Kaufling",
                                    "1": "7900.00"
                                },
                                {
                                    "0": "Vollman",
                                    "1": "6500.00"
                                },
                                {
                                    "0": "Russell",
                                    "1": "14000.00"
                                },
                                {
                                    "0": "Partners",
                                    "1": "13500.00"
                                },
                                {
                                    "0": "Taylor",
                                    "1": "8600.00"
                                },
                                {
                                    "0": "Livingston",
                                    "1": "8400.00"
                                },
                                {
                                    "0": "Grant",
                                    "1": "7000.00"
                                },
                                {
                                    "0": "Johnson",
                                    "1": "6200.00"
                                },
                                {
                                    "0": "Hartstein",
                                    "1": "13000.00"
                                }
                            ]
                        },
                        "text/html": [
                            "<table>",
                            "<tr><th>last_name</th><th>salary</th></tr>",
                            "<tr><td>Kochhar</td><td>17000.00</td></tr>",
                            "<tr><td>De Haan</td><td>17000.00</td></tr>",
                            "<tr><td>Raphaely</td><td>11000.00</td></tr>",
                            "<tr><td>Weiss</td><td>8000.00</td></tr>",
                            "<tr><td>Fripp</td><td>8200.00</td></tr>",
                            "<tr><td>Kaufling</td><td>7900.00</td></tr>",
                            "<tr><td>Vollman</td><td>6500.00</td></tr>",
                            "<tr><td>Russell</td><td>14000.00</td></tr>",
                            "<tr><td>Partners</td><td>13500.00</td></tr>",
                            "<tr><td>Taylor</td><td>8600.00</td></tr>",
                            "<tr><td>Livingston</td><td>8400.00</td></tr>",
                            "<tr><td>Grant</td><td>7000.00</td></tr>",
                            "<tr><td>Johnson</td><td>6200.00</td></tr>",
                            "<tr><td>Hartstein</td><td>13000.00</td></tr>",
                            "</table>"
                        ]
                    }
                }
            ],
            "execution_count": 1
        },
        {
            "cell_type": "code",
            "source": [
                "--Solution No:17\r\n",
                "select department_id as 'Department Number', last_name, job_id from employees where department_id in(select department_id from employees where job_id=9)"
            ],
            "metadata": {
                "azdata_cell_guid": "c91076ae-9d2c-4581-8444-73880b24bae6",
                "language": "sql"
            },
            "outputs": [
                {
                    "output_type": "display_data",
                    "data": {
                        "text/html": "(5 rows affected)"
                    },
                    "metadata": {}
                },
                {
                    "output_type": "display_data",
                    "data": {
                        "text/html": "Total execution time: 00:00:00.002"
                    },
                    "metadata": {}
                },
                {
                    "output_type": "execute_result",
                    "execution_count": 19,
                    "data": {
                        "application/vnd.dataresource+json": {
                            "schema": {
                                "fields": [
                                    {
                                        "name": "Department Number"
                                    },
                                    {
                                        "name": "last_name"
                                    },
                                    {
                                        "name": "job_id"
                                    }
                                ]
                            },
                            "data": [
                                {
                                    "0": "6",
                                    "1": "Hunold",
                                    "2": "9"
                                },
                                {
                                    "0": "6",
                                    "1": "Ernst",
                                    "2": "9"
                                },
                                {
                                    "0": "6",
                                    "1": "Austin",
                                    "2": "9"
                                },
                                {
                                    "0": "6",
                                    "1": "Pataballa",
                                    "2": "9"
                                },
                                {
                                    "0": "6",
                                    "1": "Lorentz",
                                    "2": "9"
                                }
                            ]
                        },
                        "text/html": "<table><tr><th>Department Number</th><th>last_name</th><th>job_id</th></tr><tr><td>6</td><td>Hunold</td><td>9</td></tr><tr><td>6</td><td>Ernst</td><td>9</td></tr><tr><td>6</td><td>Austin</td><td>9</td></tr><tr><td>6</td><td>Pataballa</td><td>9</td></tr><tr><td>6</td><td>Lorentz</td><td>9</td></tr></table>"
                    },
                    "metadata": {}
                }
            ],
            "execution_count": 19
        },
        {
            "cell_type": "code",
            "source": [
                "--Solution No:18\r\n",
                "select employee_id,last_name,salary from employees where employee_id in (select employee_id from employees where employee_id in (103,145))"
            ],
            "metadata": {
                "language": "sql",
                "azdata_cell_guid": "67bff797-d917-4311-a1bf-8a36e0612e8e"
            },
            "outputs": [
                {
                    "output_type": "display_data",
                    "data": {
                        "text/html": "(2 rows affected)"
                    },
                    "metadata": {}
                },
                {
                    "output_type": "display_data",
                    "data": {
                        "text/html": "Total execution time: 00:00:00.006"
                    },
                    "metadata": {}
                },
                {
                    "output_type": "execute_result",
                    "execution_count": 20,
                    "data": {
                        "application/vnd.dataresource+json": {
                            "schema": {
                                "fields": [
                                    {
                                        "name": "employee_id"
                                    },
                                    {
                                        "name": "last_name"
                                    },
                                    {
                                        "name": "salary"
                                    }
                                ]
                            },
                            "data": [
                                {
                                    "0": "103",
                                    "1": "Hunold",
                                    "2": "9000.00"
                                },
                                {
                                    "0": "145",
                                    "1": "Russell",
                                    "2": "14000.00"
                                }
                            ]
                        },
                        "text/html": "<table><tr><th>employee_id</th><th>last_name</th><th>salary</th></tr><tr><td>103</td><td>Hunold</td><td>9000.00</td></tr><tr><td>145</td><td>Russell</td><td>14000.00</td></tr></table>"
                    },
                    "metadata": {}
                }
            ],
            "execution_count": 20
        },
        {
            "cell_type": "code",
            "source": [
                "--Solution No:19\r\n",
                "select first_name from employees where department_id in (select department_id from employees where phone_number is null)"
            ],
            "metadata": {
                "language": "sql",
                "azdata_cell_guid": "fc699519-9bd0-4097-8f59-5405e1d91485"
            },
            "outputs": [
                {
                    "output_type": "display_data",
                    "data": {
                        "text/html": "(6 rows affected)"
                    },
                    "metadata": {}
                },
                {
                    "output_type": "display_data",
                    "data": {
                        "text/html": "Total execution time: 00:00:00.004"
                    },
                    "metadata": {}
                },
                {
                    "output_type": "execute_result",
                    "execution_count": 21,
                    "data": {
                        "application/vnd.dataresource+json": {
                            "schema": {
                                "fields": [
                                    {
                                        "name": "first_name"
                                    }
                                ]
                            },
                            "data": [
                                {
                                    "0": "John"
                                },
                                {
                                    "0": "Karen"
                                },
                                {
                                    "0": "Jonathon"
                                },
                                {
                                    "0": "Jack"
                                },
                                {
                                    "0": "Kimberely"
                                },
                                {
                                    "0": "Charles"
                                }
                            ]
                        },
                        "text/html": "<table><tr><th>first_name</th></tr><tr><td>John</td></tr><tr><td>Karen</td></tr><tr><td>Jonathon</td></tr><tr><td>Jack</td></tr><tr><td>Kimberely</td></tr><tr><td>Charles</td></tr></table>"
                    },
                    "metadata": {}
                }
            ],
            "execution_count": 21
        },
        {
            "cell_type": "code",
            "source": [
                "--Solution No:20\r\n",
                "select last_name, salary from employees where department_id in (select department_id from employees where department_id=9)"
            ],
            "metadata": {
                "language": "sql",
                "azdata_cell_guid": "1c8f1c94-b792-4ec2-a187-e3531ad0de85"
            },
            "outputs": [
                {
                    "output_type": "display_data",
                    "data": {
                        "text/html": "(3 rows affected)"
                    },
                    "metadata": {}
                },
                {
                    "output_type": "display_data",
                    "data": {
                        "text/html": "Total execution time: 00:00:00.003"
                    },
                    "metadata": {}
                },
                {
                    "output_type": "execute_result",
                    "execution_count": 22,
                    "data": {
                        "application/vnd.dataresource+json": {
                            "schema": {
                                "fields": [
                                    {
                                        "name": "last_name"
                                    },
                                    {
                                        "name": "salary"
                                    }
                                ]
                            },
                            "data": [
                                {
                                    "0": "King",
                                    "1": "24000.00"
                                },
                                {
                                    "0": "Kochhar",
                                    "1": "17000.00"
                                },
                                {
                                    "0": "De Haan",
                                    "1": "17000.00"
                                }
                            ]
                        },
                        "text/html": "<table><tr><th>last_name</th><th>salary</th></tr><tr><td>King</td><td>24000.00</td></tr><tr><td>Kochhar</td><td>17000.00</td></tr><tr><td>De Haan</td><td>17000.00</td></tr></table>"
                    },
                    "metadata": {}
                }
            ],
            "execution_count": 22
        },
        {
            "cell_type": "code",
            "source": [
                "--Solution No:21\r\n",
                "select first_name, salary,department_id from employees where employee_id in (select employee_id from employees where employee_id in (101,102,145)) "
            ],
            "metadata": {
                "language": "sql",
                "azdata_cell_guid": "95566bcd-bc76-4e64-a5e7-e3f4882b2d08"
            },
            "outputs": [
                {
                    "output_type": "display_data",
                    "data": {
                        "text/html": "(3 rows affected)"
                    },
                    "metadata": {}
                },
                {
                    "output_type": "display_data",
                    "data": {
                        "text/html": "Total execution time: 00:00:00.003"
                    },
                    "metadata": {}
                },
                {
                    "output_type": "execute_result",
                    "execution_count": 23,
                    "data": {
                        "application/vnd.dataresource+json": {
                            "schema": {
                                "fields": [
                                    {
                                        "name": "first_name"
                                    },
                                    {
                                        "name": "salary"
                                    },
                                    {
                                        "name": "department_id"
                                    }
                                ]
                            },
                            "data": [
                                {
                                    "0": "Neena",
                                    "1": "17000.00",
                                    "2": "9"
                                },
                                {
                                    "0": "Lex",
                                    "1": "17000.00",
                                    "2": "9"
                                },
                                {
                                    "0": "John",
                                    "1": "14000.00",
                                    "2": "8"
                                }
                            ]
                        },
                        "text/html": "<table><tr><th>first_name</th><th>salary</th><th>department_id</th></tr><tr><td>Neena</td><td>17000.00</td><td>9</td></tr><tr><td>Lex</td><td>17000.00</td><td>9</td></tr><tr><td>John</td><td>14000.00</td><td>8</td></tr></table>"
                    },
                    "metadata": {}
                }
            ],
            "execution_count": 23
        },
        {
            "cell_type": "code",
            "source": [
                "--SP to increase Salary of Employee\r\n",
                "alter procedure dbo.spIncreaseEmployeeeSalary @salaryInput int, @employeeId int\r\n",
                "as\r\n",
                "begin \r\n",
                "declare @managerCount int\r\n",
                "set @managerCount = (select COUNT(manager_id) as countEmp from employees  where manager_id is not null  and manager_id=@employeeId group by manager_id)\r\n",
                "if(@managerCount>1)\r\n",
                "begin\r\n",
                "if(@salaryInput>0)\r\n",
                "begin\r\n",
                "update employees set salary=salary+@salaryInput where employee_id=@employeeId\r\n",
                "end\r\n",
                "else print 'Enter a valid salary'\r\n",
                "end\r\n",
                "else\r\n",
                "print 'Manager count should be greater than 0'\r\n",
                "\r\n",
                "end\r\n",
                ""
            ],
            "metadata": {
                "azdata_cell_guid": "f5a5923f-0478-4ceb-aba5-b3f077229bd1",
                "language": "sql"
            },
            "outputs": [
                {
                    "output_type": "display_data",
                    "data": {
                        "text/html": "Commands completed successfully."
                    },
                    "metadata": {}
                },
                {
                    "output_type": "display_data",
                    "data": {
                        "text/html": "Total execution time: 00:00:00.004"
                    },
                    "metadata": {}
                }
            ],
            "execution_count": 2
        },
        {
            "cell_type": "code",
            "source": [
                "\r\n",
                "exec dbo.spIncreaseEmployeeeSalary 4550,100\r\n",
                "\r\n",
                "select * from employees where employee_id=100"
            ],
            "metadata": {
                "language": "sql",
                "azdata_cell_guid": "fb1dbf22-7cfe-4ebe-b008-fb5b68017bbb"
            },
            "outputs": [
                {
                    "output_type": "display_data",
                    "data": {
                        "text/html": "(1 row affected)"
                    },
                    "metadata": {}
                },
                {
                    "output_type": "display_data",
                    "data": {
                        "text/html": "(1 row affected)"
                    },
                    "metadata": {}
                },
                {
                    "output_type": "display_data",
                    "data": {
                        "text/html": "Total execution time: 00:00:00.006"
                    },
                    "metadata": {}
                },
                {
                    "output_type": "execute_result",
                    "execution_count": 3,
                    "data": {
                        "application/vnd.dataresource+json": {
                            "schema": {
                                "fields": [
                                    {
                                        "name": "employee_id"
                                    },
                                    {
                                        "name": "first_name"
                                    },
                                    {
                                        "name": "last_name"
                                    },
                                    {
                                        "name": "email"
                                    },
                                    {
                                        "name": "phone_number"
                                    },
                                    {
                                        "name": "hire_date"
                                    },
                                    {
                                        "name": "job_id"
                                    },
                                    {
                                        "name": "salary"
                                    },
                                    {
                                        "name": "manager_id"
                                    },
                                    {
                                        "name": "department_id"
                                    }
                                ]
                            },
                            "data": [
                                {
                                    "0": "100",
                                    "1": "Steven",
                                    "2": "King",
                                    "3": "steven.king@sqltutorial.org",
                                    "4": "515.123.4567",
                                    "5": "1987-06-17",
                                    "6": "4",
                                    "7": "36000.00",
                                    "8": "NULL",
                                    "9": "9"
                                }
                            ]
                        },
                        "text/html": "<table><tr><th>employee_id</th><th>first_name</th><th>last_name</th><th>email</th><th>phone_number</th><th>hire_date</th><th>job_id</th><th>salary</th><th>manager_id</th><th>department_id</th></tr><tr><td>100</td><td>Steven</td><td>King</td><td>steven.king@sqltutorial.org</td><td>515.123.4567</td><td>1987-06-17</td><td>4</td><td>36000.00</td><td>NULL</td><td>9</td></tr></table>"
                    },
                    "metadata": {}
                }
            ],
            "execution_count": 3
        },
        {
            "cell_type": "code",
            "source": [
                "exec dbo.spIncreaseEmployeeeSalary 0,100\r\n",
                "\r\n",
                "select * from employees where employee_id=100"
            ],
            "metadata": {
                "language": "sql",
                "azdata_cell_guid": "45373c86-64ef-48a1-9237-3805fde60fd4"
            },
            "outputs": [
                {
                    "output_type": "display_data",
                    "data": {
                        "text/html": "Enter a valid salary"
                    },
                    "metadata": {}
                },
                {
                    "output_type": "display_data",
                    "data": {
                        "text/html": "(1 row affected)"
                    },
                    "metadata": {}
                },
                {
                    "output_type": "display_data",
                    "data": {
                        "text/html": "Total execution time: 00:00:00.005"
                    },
                    "metadata": {}
                },
                {
                    "output_type": "execute_result",
                    "execution_count": 4,
                    "data": {
                        "application/vnd.dataresource+json": {
                            "schema": {
                                "fields": [
                                    {
                                        "name": "employee_id"
                                    },
                                    {
                                        "name": "first_name"
                                    },
                                    {
                                        "name": "last_name"
                                    },
                                    {
                                        "name": "email"
                                    },
                                    {
                                        "name": "phone_number"
                                    },
                                    {
                                        "name": "hire_date"
                                    },
                                    {
                                        "name": "job_id"
                                    },
                                    {
                                        "name": "salary"
                                    },
                                    {
                                        "name": "manager_id"
                                    },
                                    {
                                        "name": "department_id"
                                    }
                                ]
                            },
                            "data": [
                                {
                                    "0": "100",
                                    "1": "Steven",
                                    "2": "King",
                                    "3": "steven.king@sqltutorial.org",
                                    "4": "515.123.4567",
                                    "5": "1987-06-17",
                                    "6": "4",
                                    "7": "36000.00",
                                    "8": "NULL",
                                    "9": "9"
                                }
                            ]
                        },
                        "text/html": "<table><tr><th>employee_id</th><th>first_name</th><th>last_name</th><th>email</th><th>phone_number</th><th>hire_date</th><th>job_id</th><th>salary</th><th>manager_id</th><th>department_id</th></tr><tr><td>100</td><td>Steven</td><td>King</td><td>steven.king@sqltutorial.org</td><td>515.123.4567</td><td>1987-06-17</td><td>4</td><td>36000.00</td><td>NULL</td><td>9</td></tr></table>"
                    },
                    "metadata": {}
                }
            ],
            "execution_count": 4
        },
        {
            "cell_type": "code",
            "source": [
                "exec dbo.spIncreaseEmployeeeSalary 4550,104\r\n",
                "\r\n",
                "select * from employees where employee_id=100"
            ],
            "metadata": {
                "language": "sql",
                "azdata_cell_guid": "6092d9a3-8e71-41ca-9ffa-8ed3e741dbb7"
            },
            "outputs": [
                {
                    "output_type": "display_data",
                    "data": {
                        "text/html": "Manager count should be greater than 0"
                    },
                    "metadata": {}
                },
                {
                    "output_type": "display_data",
                    "data": {
                        "text/html": "(1 row affected)"
                    },
                    "metadata": {}
                },
                {
                    "output_type": "display_data",
                    "data": {
                        "text/html": "Total execution time: 00:00:00.003"
                    },
                    "metadata": {}
                },
                {
                    "output_type": "execute_result",
                    "execution_count": 5,
                    "data": {
                        "application/vnd.dataresource+json": {
                            "schema": {
                                "fields": [
                                    {
                                        "name": "employee_id"
                                    },
                                    {
                                        "name": "first_name"
                                    },
                                    {
                                        "name": "last_name"
                                    },
                                    {
                                        "name": "email"
                                    },
                                    {
                                        "name": "phone_number"
                                    },
                                    {
                                        "name": "hire_date"
                                    },
                                    {
                                        "name": "job_id"
                                    },
                                    {
                                        "name": "salary"
                                    },
                                    {
                                        "name": "manager_id"
                                    },
                                    {
                                        "name": "department_id"
                                    }
                                ]
                            },
                            "data": [
                                {
                                    "0": "100",
                                    "1": "Steven",
                                    "2": "King",
                                    "3": "steven.king@sqltutorial.org",
                                    "4": "515.123.4567",
                                    "5": "1987-06-17",
                                    "6": "4",
                                    "7": "36000.00",
                                    "8": "NULL",
                                    "9": "9"
                                }
                            ]
                        },
                        "text/html": "<table><tr><th>employee_id</th><th>first_name</th><th>last_name</th><th>email</th><th>phone_number</th><th>hire_date</th><th>job_id</th><th>salary</th><th>manager_id</th><th>department_id</th></tr><tr><td>100</td><td>Steven</td><td>King</td><td>steven.king@sqltutorial.org</td><td>515.123.4567</td><td>1987-06-17</td><td>4</td><td>36000.00</td><td>NULL</td><td>9</td></tr></table>"
                    },
                    "metadata": {}
                }
            ],
            "execution_count": 5
        }
    ]
}